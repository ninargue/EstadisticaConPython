{
 "cells": [
  {
   "cell_type": "markdown",
   "metadata": {},
   "source": [
    "# ESTADÍSTICA DESCRIPTIVA CON PYTHON"
   ]
  },
  {
   "cell_type": "code",
   "execution_count": 1,
   "metadata": {},
   "outputs": [
    {
     "name": "stdout",
     "output_type": "stream",
     "text": [
      "appdirs==1.4.4\n",
      "attrs==19.3.0\n",
      "backcall==0.2.0Note: you may need to restart the kernel to use updated packages.\n",
      "bleach==3.1.5\n",
      "brotlipy==0.7.0\n",
      "certifi==2020.6.20\n",
      "\n",
      "cffi==1.14.0\n",
      "chardet==3.0.4\n",
      "click==6.7\n",
      "click-plugins==1.1.1\n",
      "cligj==0.5.0\n",
      "colorama==0.4.3\n",
      "cryptography==2.9.2\n",
      "cycler==0.10.0\n",
      "decorator==4.4.2\n",
      "defusedxml==0.6.0\n",
      "descartes==1.1.0\n",
      "elevation==1.0.6\n",
      "entrypoints==0.3\n",
      "fasteners==0.15\n",
      "Fiona==1.8.4\n",
      "future==0.18.2\n",
      "GDAL==2.3.3\n",
      "geopandas==0.6.1\n",
      "idna==2.10\n",
      "importlib-metadata==1.7.0\n",
      "ipykernel==5.3.0\n",
      "ipython==7.16.1\n",
      "ipython-genutils==0.2.0\n",
      "jedi==0.17.1\n",
      "Jinja2==2.11.2\n",
      "joblib==0.16.0\n",
      "json5==0.9.5\n",
      "jsonschema==3.2.0\n",
      "jupyter-client==6.1.3\n",
      "jupyter-core==4.6.3\n",
      "jupyter-drawio-export==0.8.0a1\n",
      "jupyterlab==2.1.5\n",
      "jupyterlab-server==1.1.5\n",
      "kiwisolver==1.2.0\n",
      "littleutils==0.2.2\n",
      "lxml==4.5.2\n",
      "MarkupSafe==1.1.1\n",
      "matplotlib==3.2.2\n",
      "memory-profiler==0.57.0\n",
      "mistune==0.8.4\n",
      "mkl-fft==1.1.0\n",
      "mkl-random==1.1.1\n",
      "mkl-service==2.3.0\n",
      "monotonic==1.5\n",
      "munch==2.5.0\n",
      "nbconvert==5.6.1\n",
      "nbformat==5.0.7\n",
      "notebook==6.0.3\n",
      "numpy==1.18.5\n",
      "outdated==0.2.0\n",
      "packaging==20.4\n",
      "pandas==1.0.5\n",
      "pandas-flavor==0.2.0\n",
      "pandocfilters==1.4.2\n",
      "parso==0.7.0\n",
      "patool==1.12\n",
      "patsy==0.5.1\n",
      "pickleshare==0.7.5\n",
      "Pillow==7.2.0\n",
      "pingouin==0.3.7\n",
      "prometheus-client==0.8.0\n",
      "prompt-toolkit==3.0.5\n",
      "psutil==5.7.0\n",
      "pycparser==2.20\n",
      "Pygments==2.6.1\n",
      "PyMySQL==0.9.3\n",
      "pyOpenSSL==19.1.0\n",
      "pyparsing==2.4.7\n",
      "PyPDF2==1.26.0\n",
      "pyproj==1.9.6\n",
      "pyrsistent==0.16.0\n",
      "PySocks==1.7.1\n",
      "python-dateutil==2.8.1\n",
      "pytz==2020.1\n",
      "pywin32==227\n",
      "pywinpty==0.5.7\n",
      "pyzmq==19.0.1\n",
      "rarfile==3.2\n",
      "requests==2.24.0\n",
      "requests-cache==0.5.2\n",
      "Rtree==0.9.4\n",
      "scikit-learn==0.23.2\n",
      "scikit-posthocs==0.6.5\n",
      "scipy==1.5.1\n",
      "seaborn==0.10.1\n",
      "Send2Trash==1.5.0\n",
      "Shapely==1.6.4.post1\n",
      "six==1.15.0\n",
      "sklearn==0.0\n",
      "SQLAlchemy==1.3.18\n",
      "statsmodels==0.12.0\n",
      "tabulate==0.8.7\n",
      "terminado==0.8.3\n",
      "testpath==0.4.4\n",
      "threadpoolctl==2.1.0\n",
      "tornado==6.0.4\n",
      "traitlets==4.3.3\n",
      "unrar==0.4\n",
      "urllib3==1.25.9\n",
      "wcwidth==0.2.5\n",
      "webencodings==0.5.1\n",
      "win-inet-pton==1.1.0\n",
      "wincertstore==0.2\n",
      "xarray==0.16.0\n",
      "zipp==3.1.0\n"
     ]
    }
   ],
   "source": [
    "pip freeze"
   ]
  },
  {
   "cell_type": "markdown",
   "metadata": {},
   "source": [
    "## Importando librerías necesarias"
   ]
  },
  {
   "cell_type": "code",
   "execution_count": 1,
   "metadata": {},
   "outputs": [],
   "source": [
    "# librerías de apoyo\n",
    "import pandas as pd\n",
    "import numpy as np\n",
    "import math\n",
    "from sklearn.datasets import load_boston\n",
    "# librerías especializadas\n",
    "from scipy import stats\n",
    "import statsmodels.api as sm\n",
    "#librerías de visualización\n",
    "import matplotlib.pyplot as plt\n",
    "%matplotlib inline\n",
    "import seaborn as sns"
   ]
  },
  {
   "cell_type": "markdown",
   "metadata": {},
   "source": [
    "## Configuración de visualización de tablas de datos"
   ]
  },
  {
   "cell_type": "code",
   "execution_count": 2,
   "metadata": {},
   "outputs": [],
   "source": [
    "pd.set_option('max_columns', 50)\n",
    "pd.set_option('max_rows', 300)"
   ]
  },
  {
   "cell_type": "markdown",
   "metadata": {},
   "source": [
    "## Carga de datos"
   ]
  },
  {
   "cell_type": "code",
   "execution_count": 3,
   "metadata": {
    "scrolled": true
   },
   "outputs": [
    {
     "data": {
      "text/plain": [
       "{'data': array([[6.3200e-03, 1.8000e+01, 2.3100e+00, ..., 1.5300e+01, 3.9690e+02,\n",
       "         4.9800e+00],\n",
       "        [2.7310e-02, 0.0000e+00, 7.0700e+00, ..., 1.7800e+01, 3.9690e+02,\n",
       "         9.1400e+00],\n",
       "        [2.7290e-02, 0.0000e+00, 7.0700e+00, ..., 1.7800e+01, 3.9283e+02,\n",
       "         4.0300e+00],\n",
       "        ...,\n",
       "        [6.0760e-02, 0.0000e+00, 1.1930e+01, ..., 2.1000e+01, 3.9690e+02,\n",
       "         5.6400e+00],\n",
       "        [1.0959e-01, 0.0000e+00, 1.1930e+01, ..., 2.1000e+01, 3.9345e+02,\n",
       "         6.4800e+00],\n",
       "        [4.7410e-02, 0.0000e+00, 1.1930e+01, ..., 2.1000e+01, 3.9690e+02,\n",
       "         7.8800e+00]]),\n",
       " 'target': array([24. , 21.6, 34.7, 33.4, 36.2, 28.7, 22.9, 27.1, 16.5, 18.9, 15. ,\n",
       "        18.9, 21.7, 20.4, 18.2, 19.9, 23.1, 17.5, 20.2, 18.2, 13.6, 19.6,\n",
       "        15.2, 14.5, 15.6, 13.9, 16.6, 14.8, 18.4, 21. , 12.7, 14.5, 13.2,\n",
       "        13.1, 13.5, 18.9, 20. , 21. , 24.7, 30.8, 34.9, 26.6, 25.3, 24.7,\n",
       "        21.2, 19.3, 20. , 16.6, 14.4, 19.4, 19.7, 20.5, 25. , 23.4, 18.9,\n",
       "        35.4, 24.7, 31.6, 23.3, 19.6, 18.7, 16. , 22.2, 25. , 33. , 23.5,\n",
       "        19.4, 22. , 17.4, 20.9, 24.2, 21.7, 22.8, 23.4, 24.1, 21.4, 20. ,\n",
       "        20.8, 21.2, 20.3, 28. , 23.9, 24.8, 22.9, 23.9, 26.6, 22.5, 22.2,\n",
       "        23.6, 28.7, 22.6, 22. , 22.9, 25. , 20.6, 28.4, 21.4, 38.7, 43.8,\n",
       "        33.2, 27.5, 26.5, 18.6, 19.3, 20.1, 19.5, 19.5, 20.4, 19.8, 19.4,\n",
       "        21.7, 22.8, 18.8, 18.7, 18.5, 18.3, 21.2, 19.2, 20.4, 19.3, 22. ,\n",
       "        20.3, 20.5, 17.3, 18.8, 21.4, 15.7, 16.2, 18. , 14.3, 19.2, 19.6,\n",
       "        23. , 18.4, 15.6, 18.1, 17.4, 17.1, 13.3, 17.8, 14. , 14.4, 13.4,\n",
       "        15.6, 11.8, 13.8, 15.6, 14.6, 17.8, 15.4, 21.5, 19.6, 15.3, 19.4,\n",
       "        17. , 15.6, 13.1, 41.3, 24.3, 23.3, 27. , 50. , 50. , 50. , 22.7,\n",
       "        25. , 50. , 23.8, 23.8, 22.3, 17.4, 19.1, 23.1, 23.6, 22.6, 29.4,\n",
       "        23.2, 24.6, 29.9, 37.2, 39.8, 36.2, 37.9, 32.5, 26.4, 29.6, 50. ,\n",
       "        32. , 29.8, 34.9, 37. , 30.5, 36.4, 31.1, 29.1, 50. , 33.3, 30.3,\n",
       "        34.6, 34.9, 32.9, 24.1, 42.3, 48.5, 50. , 22.6, 24.4, 22.5, 24.4,\n",
       "        20. , 21.7, 19.3, 22.4, 28.1, 23.7, 25. , 23.3, 28.7, 21.5, 23. ,\n",
       "        26.7, 21.7, 27.5, 30.1, 44.8, 50. , 37.6, 31.6, 46.7, 31.5, 24.3,\n",
       "        31.7, 41.7, 48.3, 29. , 24. , 25.1, 31.5, 23.7, 23.3, 22. , 20.1,\n",
       "        22.2, 23.7, 17.6, 18.5, 24.3, 20.5, 24.5, 26.2, 24.4, 24.8, 29.6,\n",
       "        42.8, 21.9, 20.9, 44. , 50. , 36. , 30.1, 33.8, 43.1, 48.8, 31. ,\n",
       "        36.5, 22.8, 30.7, 50. , 43.5, 20.7, 21.1, 25.2, 24.4, 35.2, 32.4,\n",
       "        32. , 33.2, 33.1, 29.1, 35.1, 45.4, 35.4, 46. , 50. , 32.2, 22. ,\n",
       "        20.1, 23.2, 22.3, 24.8, 28.5, 37.3, 27.9, 23.9, 21.7, 28.6, 27.1,\n",
       "        20.3, 22.5, 29. , 24.8, 22. , 26.4, 33.1, 36.1, 28.4, 33.4, 28.2,\n",
       "        22.8, 20.3, 16.1, 22.1, 19.4, 21.6, 23.8, 16.2, 17.8, 19.8, 23.1,\n",
       "        21. , 23.8, 23.1, 20.4, 18.5, 25. , 24.6, 23. , 22.2, 19.3, 22.6,\n",
       "        19.8, 17.1, 19.4, 22.2, 20.7, 21.1, 19.5, 18.5, 20.6, 19. , 18.7,\n",
       "        32.7, 16.5, 23.9, 31.2, 17.5, 17.2, 23.1, 24.5, 26.6, 22.9, 24.1,\n",
       "        18.6, 30.1, 18.2, 20.6, 17.8, 21.7, 22.7, 22.6, 25. , 19.9, 20.8,\n",
       "        16.8, 21.9, 27.5, 21.9, 23.1, 50. , 50. , 50. , 50. , 50. , 13.8,\n",
       "        13.8, 15. , 13.9, 13.3, 13.1, 10.2, 10.4, 10.9, 11.3, 12.3,  8.8,\n",
       "         7.2, 10.5,  7.4, 10.2, 11.5, 15.1, 23.2,  9.7, 13.8, 12.7, 13.1,\n",
       "        12.5,  8.5,  5. ,  6.3,  5.6,  7.2, 12.1,  8.3,  8.5,  5. , 11.9,\n",
       "        27.9, 17.2, 27.5, 15. , 17.2, 17.9, 16.3,  7. ,  7.2,  7.5, 10.4,\n",
       "         8.8,  8.4, 16.7, 14.2, 20.8, 13.4, 11.7,  8.3, 10.2, 10.9, 11. ,\n",
       "         9.5, 14.5, 14.1, 16.1, 14.3, 11.7, 13.4,  9.6,  8.7,  8.4, 12.8,\n",
       "        10.5, 17.1, 18.4, 15.4, 10.8, 11.8, 14.9, 12.6, 14.1, 13. , 13.4,\n",
       "        15.2, 16.1, 17.8, 14.9, 14.1, 12.7, 13.5, 14.9, 20. , 16.4, 17.7,\n",
       "        19.5, 20.2, 21.4, 19.9, 19. , 19.1, 19.1, 20.1, 19.9, 19.6, 23.2,\n",
       "        29.8, 13.8, 13.3, 16.7, 12. , 14.6, 21.4, 23. , 23.7, 25. , 21.8,\n",
       "        20.6, 21.2, 19.1, 20.6, 15.2,  7. ,  8.1, 13.6, 20.1, 21.8, 24.5,\n",
       "        23.1, 19.7, 18.3, 21.2, 17.5, 16.8, 22.4, 20.6, 23.9, 22. , 11.9]),\n",
       " 'feature_names': array(['CRIM', 'ZN', 'INDUS', 'CHAS', 'NOX', 'RM', 'AGE', 'DIS', 'RAD',\n",
       "        'TAX', 'PTRATIO', 'B', 'LSTAT'], dtype='<U7'),\n",
       " 'DESCR': \".. _boston_dataset:\\n\\nBoston house prices dataset\\n---------------------------\\n\\n**Data Set Characteristics:**  \\n\\n    :Number of Instances: 506 \\n\\n    :Number of Attributes: 13 numeric/categorical predictive. Median Value (attribute 14) is usually the target.\\n\\n    :Attribute Information (in order):\\n        - CRIM     per capita crime rate by town\\n        - ZN       proportion of residential land zoned for lots over 25,000 sq.ft.\\n        - INDUS    proportion of non-retail business acres per town\\n        - CHAS     Charles River dummy variable (= 1 if tract bounds river; 0 otherwise)\\n        - NOX      nitric oxides concentration (parts per 10 million)\\n        - RM       average number of rooms per dwelling\\n        - AGE      proportion of owner-occupied units built prior to 1940\\n        - DIS      weighted distances to five Boston employment centres\\n        - RAD      index of accessibility to radial highways\\n        - TAX      full-value property-tax rate per $10,000\\n        - PTRATIO  pupil-teacher ratio by town\\n        - B        1000(Bk - 0.63)^2 where Bk is the proportion of blacks by town\\n        - LSTAT    % lower status of the population\\n        - MEDV     Median value of owner-occupied homes in $1000's\\n\\n    :Missing Attribute Values: None\\n\\n    :Creator: Harrison, D. and Rubinfeld, D.L.\\n\\nThis is a copy of UCI ML housing dataset.\\nhttps://archive.ics.uci.edu/ml/machine-learning-databases/housing/\\n\\n\\nThis dataset was taken from the StatLib library which is maintained at Carnegie Mellon University.\\n\\nThe Boston house-price data of Harrison, D. and Rubinfeld, D.L. 'Hedonic\\nprices and the demand for clean air', J. Environ. Economics & Management,\\nvol.5, 81-102, 1978.   Used in Belsley, Kuh & Welsch, 'Regression diagnostics\\n...', Wiley, 1980.   N.B. Various transformations are used in the table on\\npages 244-261 of the latter.\\n\\nThe Boston house-price data has been used in many machine learning papers that address regression\\nproblems.   \\n     \\n.. topic:: References\\n\\n   - Belsley, Kuh & Welsch, 'Regression diagnostics: Identifying Influential Data and Sources of Collinearity', Wiley, 1980. 244-261.\\n   - Quinlan,R. (1993). Combining Instance-Based and Model-Based Learning. In Proceedings on the Tenth International Conference of Machine Learning, 236-243, University of Massachusetts, Amherst. Morgan Kaufmann.\\n\",\n",
       " 'filename': 'C:\\\\Users\\\\NindiAG\\\\.conda\\\\envs\\\\jupyterlab\\\\lib\\\\site-packages\\\\sklearn\\\\datasets\\\\data\\\\boston_house_prices.csv'}"
      ]
     },
     "execution_count": 3,
     "metadata": {},
     "output_type": "execute_result"
    }
   ],
   "source": [
    "# Qué datos contiene el dataset \"load_boston\"\n",
    "load_boston()"
   ]
  },
  {
   "cell_type": "code",
   "execution_count": 4,
   "metadata": {},
   "outputs": [
    {
     "name": "stdout",
     "output_type": "stream",
     "text": [
      ".. _boston_dataset:\n",
      "\n",
      "Boston house prices dataset\n",
      "---------------------------\n",
      "\n",
      "**Data Set Characteristics:**  \n",
      "\n",
      "    :Number of Instances: 506 \n",
      "\n",
      "    :Number of Attributes: 13 numeric/categorical predictive. Median Value (attribute 14) is usually the target.\n",
      "\n",
      "    :Attribute Information (in order):\n",
      "        - CRIM     per capita crime rate by town\n",
      "        - ZN       proportion of residential land zoned for lots over 25,000 sq.ft.\n",
      "        - INDUS    proportion of non-retail business acres per town\n",
      "        - CHAS     Charles River dummy variable (= 1 if tract bounds river; 0 otherwise)\n",
      "        - NOX      nitric oxides concentration (parts per 10 million)\n",
      "        - RM       average number of rooms per dwelling\n",
      "        - AGE      proportion of owner-occupied units built prior to 1940\n",
      "        - DIS      weighted distances to five Boston employment centres\n",
      "        - RAD      index of accessibility to radial highways\n",
      "        - TAX      full-value property-tax rate per $10,000\n",
      "        - PTRATIO  pupil-teacher ratio by town\n",
      "        - B        1000(Bk - 0.63)^2 where Bk is the proportion of blacks by town\n",
      "        - LSTAT    % lower status of the population\n",
      "        - MEDV     Median value of owner-occupied homes in $1000's\n",
      "\n",
      "    :Missing Attribute Values: None\n",
      "\n",
      "    :Creator: Harrison, D. and Rubinfeld, D.L.\n",
      "\n",
      "This is a copy of UCI ML housing dataset.\n",
      "https://archive.ics.uci.edu/ml/machine-learning-databases/housing/\n",
      "\n",
      "\n",
      "This dataset was taken from the StatLib library which is maintained at Carnegie Mellon University.\n",
      "\n",
      "The Boston house-price data of Harrison, D. and Rubinfeld, D.L. 'Hedonic\n",
      "prices and the demand for clean air', J. Environ. Economics & Management,\n",
      "vol.5, 81-102, 1978.   Used in Belsley, Kuh & Welsch, 'Regression diagnostics\n",
      "...', Wiley, 1980.   N.B. Various transformations are used in the table on\n",
      "pages 244-261 of the latter.\n",
      "\n",
      "The Boston house-price data has been used in many machine learning papers that address regression\n",
      "problems.   \n",
      "     \n",
      ".. topic:: References\n",
      "\n",
      "   - Belsley, Kuh & Welsch, 'Regression diagnostics: Identifying Influential Data and Sources of Collinearity', Wiley, 1980. 244-261.\n",
      "   - Quinlan,R. (1993). Combining Instance-Based and Model-Based Learning. In Proceedings on the Tenth International Conference of Machine Learning, 236-243, University of Massachusetts, Amherst. Morgan Kaufmann.\n",
      "\n"
     ]
    }
   ],
   "source": [
    "boston = load_boston()\n",
    "print(boston.DESCR)"
   ]
  },
  {
   "cell_type": "code",
   "execution_count": 5,
   "metadata": {
    "scrolled": true
   },
   "outputs": [
    {
     "data": {
      "text/html": [
       "<div>\n",
       "<style scoped>\n",
       "    .dataframe tbody tr th:only-of-type {\n",
       "        vertical-align: middle;\n",
       "    }\n",
       "\n",
       "    .dataframe tbody tr th {\n",
       "        vertical-align: top;\n",
       "    }\n",
       "\n",
       "    .dataframe thead th {\n",
       "        text-align: right;\n",
       "    }\n",
       "</style>\n",
       "<table border=\"1\" class=\"dataframe\">\n",
       "  <thead>\n",
       "    <tr style=\"text-align: right;\">\n",
       "      <th></th>\n",
       "      <th>CRIM</th>\n",
       "      <th>ZN</th>\n",
       "      <th>INDUS</th>\n",
       "      <th>CHAS</th>\n",
       "      <th>NOX</th>\n",
       "      <th>RM</th>\n",
       "      <th>AGE</th>\n",
       "      <th>DIS</th>\n",
       "      <th>RAD</th>\n",
       "      <th>TAX</th>\n",
       "      <th>PTRATIO</th>\n",
       "      <th>B</th>\n",
       "      <th>LSTAT</th>\n",
       "      <th>MEDV</th>\n",
       "    </tr>\n",
       "  </thead>\n",
       "  <tbody>\n",
       "    <tr>\n",
       "      <th>0</th>\n",
       "      <td>0.00632</td>\n",
       "      <td>18.0</td>\n",
       "      <td>2.31</td>\n",
       "      <td>0.0</td>\n",
       "      <td>0.538</td>\n",
       "      <td>6.575</td>\n",
       "      <td>65.2</td>\n",
       "      <td>4.0900</td>\n",
       "      <td>1.0</td>\n",
       "      <td>296.0</td>\n",
       "      <td>15.3</td>\n",
       "      <td>396.90</td>\n",
       "      <td>4.98</td>\n",
       "      <td>24.0</td>\n",
       "    </tr>\n",
       "    <tr>\n",
       "      <th>1</th>\n",
       "      <td>0.02731</td>\n",
       "      <td>0.0</td>\n",
       "      <td>7.07</td>\n",
       "      <td>0.0</td>\n",
       "      <td>0.469</td>\n",
       "      <td>6.421</td>\n",
       "      <td>78.9</td>\n",
       "      <td>4.9671</td>\n",
       "      <td>2.0</td>\n",
       "      <td>242.0</td>\n",
       "      <td>17.8</td>\n",
       "      <td>396.90</td>\n",
       "      <td>9.14</td>\n",
       "      <td>21.6</td>\n",
       "    </tr>\n",
       "    <tr>\n",
       "      <th>2</th>\n",
       "      <td>0.02729</td>\n",
       "      <td>0.0</td>\n",
       "      <td>7.07</td>\n",
       "      <td>0.0</td>\n",
       "      <td>0.469</td>\n",
       "      <td>7.185</td>\n",
       "      <td>61.1</td>\n",
       "      <td>4.9671</td>\n",
       "      <td>2.0</td>\n",
       "      <td>242.0</td>\n",
       "      <td>17.8</td>\n",
       "      <td>392.83</td>\n",
       "      <td>4.03</td>\n",
       "      <td>34.7</td>\n",
       "    </tr>\n",
       "    <tr>\n",
       "      <th>3</th>\n",
       "      <td>0.03237</td>\n",
       "      <td>0.0</td>\n",
       "      <td>2.18</td>\n",
       "      <td>0.0</td>\n",
       "      <td>0.458</td>\n",
       "      <td>6.998</td>\n",
       "      <td>45.8</td>\n",
       "      <td>6.0622</td>\n",
       "      <td>3.0</td>\n",
       "      <td>222.0</td>\n",
       "      <td>18.7</td>\n",
       "      <td>394.63</td>\n",
       "      <td>2.94</td>\n",
       "      <td>33.4</td>\n",
       "    </tr>\n",
       "    <tr>\n",
       "      <th>4</th>\n",
       "      <td>0.06905</td>\n",
       "      <td>0.0</td>\n",
       "      <td>2.18</td>\n",
       "      <td>0.0</td>\n",
       "      <td>0.458</td>\n",
       "      <td>7.147</td>\n",
       "      <td>54.2</td>\n",
       "      <td>6.0622</td>\n",
       "      <td>3.0</td>\n",
       "      <td>222.0</td>\n",
       "      <td>18.7</td>\n",
       "      <td>396.90</td>\n",
       "      <td>5.33</td>\n",
       "      <td>36.2</td>\n",
       "    </tr>\n",
       "  </tbody>\n",
       "</table>\n",
       "</div>"
      ],
      "text/plain": [
       "      CRIM    ZN  INDUS  CHAS    NOX     RM   AGE     DIS  RAD    TAX  \\\n",
       "0  0.00632  18.0   2.31   0.0  0.538  6.575  65.2  4.0900  1.0  296.0   \n",
       "1  0.02731   0.0   7.07   0.0  0.469  6.421  78.9  4.9671  2.0  242.0   \n",
       "2  0.02729   0.0   7.07   0.0  0.469  7.185  61.1  4.9671  2.0  242.0   \n",
       "3  0.03237   0.0   2.18   0.0  0.458  6.998  45.8  6.0622  3.0  222.0   \n",
       "4  0.06905   0.0   2.18   0.0  0.458  7.147  54.2  6.0622  3.0  222.0   \n",
       "\n",
       "   PTRATIO       B  LSTAT  MEDV  \n",
       "0     15.3  396.90   4.98  24.0  \n",
       "1     17.8  396.90   9.14  21.6  \n",
       "2     17.8  392.83   4.03  34.7  \n",
       "3     18.7  394.63   2.94  33.4  \n",
       "4     18.7  396.90   5.33  36.2  "
      ]
     },
     "execution_count": 5,
     "metadata": {},
     "output_type": "execute_result"
    }
   ],
   "source": [
    "# Obtención del Dataframe\n",
    "df_boston = pd.DataFrame(data=np.c_[boston['data'], boston['target']], columns=list(boston['feature_names']) + ['MEDV'])\n",
    "df_boston.head()"
   ]
  },
  {
   "cell_type": "code",
   "execution_count": 6,
   "metadata": {},
   "outputs": [
    {
     "data": {
      "text/plain": [
       "(506, 14)"
      ]
     },
     "execution_count": 6,
     "metadata": {},
     "output_type": "execute_result"
    }
   ],
   "source": [
    "df_boston.shape"
   ]
  },
  {
   "cell_type": "markdown",
   "metadata": {},
   "source": [
    "## Revisión general del dataset"
   ]
  },
  {
   "cell_type": "code",
   "execution_count": 7,
   "metadata": {
    "scrolled": true
   },
   "outputs": [
    {
     "name": "stdout",
     "output_type": "stream",
     "text": [
      "<class 'pandas.core.frame.DataFrame'>\n",
      "RangeIndex: 506 entries, 0 to 505\n",
      "Data columns (total 14 columns):\n",
      " #   Column   Non-Null Count  Dtype  \n",
      "---  ------   --------------  -----  \n",
      " 0   CRIM     506 non-null    float64\n",
      " 1   ZN       506 non-null    float64\n",
      " 2   INDUS    506 non-null    float64\n",
      " 3   CHAS     506 non-null    float64\n",
      " 4   NOX      506 non-null    float64\n",
      " 5   RM       506 non-null    float64\n",
      " 6   AGE      506 non-null    float64\n",
      " 7   DIS      506 non-null    float64\n",
      " 8   RAD      506 non-null    float64\n",
      " 9   TAX      506 non-null    float64\n",
      " 10  PTRATIO  506 non-null    float64\n",
      " 11  B        506 non-null    float64\n",
      " 12  LSTAT    506 non-null    float64\n",
      " 13  MEDV     506 non-null    float64\n",
      "dtypes: float64(14)\n",
      "memory usage: 55.5 KB\n"
     ]
    }
   ],
   "source": [
    "df_boston.info()"
   ]
  },
  {
   "cell_type": "code",
   "execution_count": 8,
   "metadata": {
    "scrolled": true
   },
   "outputs": [],
   "source": [
    "# Se convierte la variable 'CHAS' en tipo object, para facilitar la separación de los datos numéricos y categóricos.\n",
    "df_boston['CHAS'] = (df_boston['CHAS'].astype('int')).astype('object')"
   ]
  },
  {
   "cell_type": "code",
   "execution_count": 9,
   "metadata": {
    "scrolled": true
   },
   "outputs": [
    {
     "data": {
      "text/plain": [
       "(0    471\n",
       " 1     35\n",
       " Name: CHAS, dtype: int64,\n",
       " dtype('O'))"
      ]
     },
     "execution_count": 9,
     "metadata": {},
     "output_type": "execute_result"
    }
   ],
   "source": [
    "df_boston['CHAS'].value_counts(), df_boston['CHAS'].dtype"
   ]
  },
  {
   "cell_type": "markdown",
   "metadata": {},
   "source": [
    "**A partir de datos numéricos podemos obtener datos categóricos (de escala ordinal), haciendo uso de qcut():**\n",
    "- Especificando el número de cuartiles (q), las etiquetas que se asignaran a cada categoría es opcional, retbins=True para saber el intervalo de cada categoria"
   ]
  },
  {
   "cell_type": "code",
   "execution_count": 10,
   "metadata": {},
   "outputs": [
    {
     "data": {
      "text/plain": [
       "(array([ 1.,  4.,  7., 24.]),\n",
       " 0      (0.999, 4.0]\n",
       " 1      (0.999, 4.0]\n",
       " 2      (0.999, 4.0]\n",
       " 3      (0.999, 4.0]\n",
       " 4      (0.999, 4.0]\n",
       "            ...     \n",
       " 501    (0.999, 4.0]\n",
       " 502    (0.999, 4.0]\n",
       " 503    (0.999, 4.0]\n",
       " 504    (0.999, 4.0]\n",
       " 505    (0.999, 4.0]\n",
       " Name: RAD, Length: 506, dtype: category\n",
       " Categories (3, interval[float64]): [(0.999, 4.0] < (4.0, 7.0] < (7.0, 24.0]])"
      ]
     },
     "execution_count": 10,
     "metadata": {},
     "output_type": "execute_result"
    }
   ],
   "source": [
    "out, bins = pd.qcut(df_boston['RAD'], q=3, labels=None, retbins=True)\n",
    "bins, out"
   ]
  },
  {
   "cell_type": "code",
   "execution_count": 11,
   "metadata": {},
   "outputs": [
    {
     "data": {
      "text/html": [
       "<div>\n",
       "<style scoped>\n",
       "    .dataframe tbody tr th:only-of-type {\n",
       "        vertical-align: middle;\n",
       "    }\n",
       "\n",
       "    .dataframe tbody tr th {\n",
       "        vertical-align: top;\n",
       "    }\n",
       "\n",
       "    .dataframe thead th {\n",
       "        text-align: right;\n",
       "    }\n",
       "</style>\n",
       "<table border=\"1\" class=\"dataframe\">\n",
       "  <thead>\n",
       "    <tr style=\"text-align: right;\">\n",
       "      <th></th>\n",
       "      <th>CRIM</th>\n",
       "      <th>ZN</th>\n",
       "      <th>INDUS</th>\n",
       "      <th>CHAS</th>\n",
       "      <th>NOX</th>\n",
       "      <th>RM</th>\n",
       "      <th>AGE</th>\n",
       "      <th>DIS</th>\n",
       "      <th>RAD</th>\n",
       "      <th>TAX</th>\n",
       "      <th>PTRATIO</th>\n",
       "      <th>B</th>\n",
       "      <th>LSTAT</th>\n",
       "      <th>MEDV</th>\n",
       "      <th>cat_RAD</th>\n",
       "    </tr>\n",
       "  </thead>\n",
       "  <tbody>\n",
       "    <tr>\n",
       "      <th>0</th>\n",
       "      <td>0.00632</td>\n",
       "      <td>18.0</td>\n",
       "      <td>2.31</td>\n",
       "      <td>0</td>\n",
       "      <td>0.538</td>\n",
       "      <td>6.575</td>\n",
       "      <td>65.2</td>\n",
       "      <td>4.0900</td>\n",
       "      <td>1.0</td>\n",
       "      <td>296.0</td>\n",
       "      <td>15.3</td>\n",
       "      <td>396.90</td>\n",
       "      <td>4.98</td>\n",
       "      <td>24.0</td>\n",
       "      <td>(0.999, 4.0]</td>\n",
       "    </tr>\n",
       "    <tr>\n",
       "      <th>1</th>\n",
       "      <td>0.02731</td>\n",
       "      <td>0.0</td>\n",
       "      <td>7.07</td>\n",
       "      <td>0</td>\n",
       "      <td>0.469</td>\n",
       "      <td>6.421</td>\n",
       "      <td>78.9</td>\n",
       "      <td>4.9671</td>\n",
       "      <td>2.0</td>\n",
       "      <td>242.0</td>\n",
       "      <td>17.8</td>\n",
       "      <td>396.90</td>\n",
       "      <td>9.14</td>\n",
       "      <td>21.6</td>\n",
       "      <td>(0.999, 4.0]</td>\n",
       "    </tr>\n",
       "    <tr>\n",
       "      <th>2</th>\n",
       "      <td>0.02729</td>\n",
       "      <td>0.0</td>\n",
       "      <td>7.07</td>\n",
       "      <td>0</td>\n",
       "      <td>0.469</td>\n",
       "      <td>7.185</td>\n",
       "      <td>61.1</td>\n",
       "      <td>4.9671</td>\n",
       "      <td>2.0</td>\n",
       "      <td>242.0</td>\n",
       "      <td>17.8</td>\n",
       "      <td>392.83</td>\n",
       "      <td>4.03</td>\n",
       "      <td>34.7</td>\n",
       "      <td>(0.999, 4.0]</td>\n",
       "    </tr>\n",
       "    <tr>\n",
       "      <th>3</th>\n",
       "      <td>0.03237</td>\n",
       "      <td>0.0</td>\n",
       "      <td>2.18</td>\n",
       "      <td>0</td>\n",
       "      <td>0.458</td>\n",
       "      <td>6.998</td>\n",
       "      <td>45.8</td>\n",
       "      <td>6.0622</td>\n",
       "      <td>3.0</td>\n",
       "      <td>222.0</td>\n",
       "      <td>18.7</td>\n",
       "      <td>394.63</td>\n",
       "      <td>2.94</td>\n",
       "      <td>33.4</td>\n",
       "      <td>(0.999, 4.0]</td>\n",
       "    </tr>\n",
       "    <tr>\n",
       "      <th>4</th>\n",
       "      <td>0.06905</td>\n",
       "      <td>0.0</td>\n",
       "      <td>2.18</td>\n",
       "      <td>0</td>\n",
       "      <td>0.458</td>\n",
       "      <td>7.147</td>\n",
       "      <td>54.2</td>\n",
       "      <td>6.0622</td>\n",
       "      <td>3.0</td>\n",
       "      <td>222.0</td>\n",
       "      <td>18.7</td>\n",
       "      <td>396.90</td>\n",
       "      <td>5.33</td>\n",
       "      <td>36.2</td>\n",
       "      <td>(0.999, 4.0]</td>\n",
       "    </tr>\n",
       "  </tbody>\n",
       "</table>\n",
       "</div>"
      ],
      "text/plain": [
       "      CRIM    ZN  INDUS CHAS    NOX     RM   AGE     DIS  RAD    TAX  PTRATIO  \\\n",
       "0  0.00632  18.0   2.31    0  0.538  6.575  65.2  4.0900  1.0  296.0     15.3   \n",
       "1  0.02731   0.0   7.07    0  0.469  6.421  78.9  4.9671  2.0  242.0     17.8   \n",
       "2  0.02729   0.0   7.07    0  0.469  7.185  61.1  4.9671  2.0  242.0     17.8   \n",
       "3  0.03237   0.0   2.18    0  0.458  6.998  45.8  6.0622  3.0  222.0     18.7   \n",
       "4  0.06905   0.0   2.18    0  0.458  7.147  54.2  6.0622  3.0  222.0     18.7   \n",
       "\n",
       "        B  LSTAT  MEDV       cat_RAD  \n",
       "0  396.90   4.98  24.0  (0.999, 4.0]  \n",
       "1  396.90   9.14  21.6  (0.999, 4.0]  \n",
       "2  392.83   4.03  34.7  (0.999, 4.0]  \n",
       "3  394.63   2.94  33.4  (0.999, 4.0]  \n",
       "4  396.90   5.33  36.2  (0.999, 4.0]  "
      ]
     },
     "execution_count": 11,
     "metadata": {},
     "output_type": "execute_result"
    }
   ],
   "source": [
    "df_boston['cat_RAD'] = out.astype('object')\n",
    "df_boston.head()"
   ]
  },
  {
   "cell_type": "code",
   "execution_count": 12,
   "metadata": {},
   "outputs": [
    {
     "name": "stdout",
     "output_type": "stream",
     "text": [
      "<class 'pandas.core.frame.DataFrame'>\n",
      "RangeIndex: 506 entries, 0 to 505\n",
      "Data columns (total 15 columns):\n",
      " #   Column   Non-Null Count  Dtype  \n",
      "---  ------   --------------  -----  \n",
      " 0   CRIM     506 non-null    float64\n",
      " 1   ZN       506 non-null    float64\n",
      " 2   INDUS    506 non-null    float64\n",
      " 3   CHAS     506 non-null    object \n",
      " 4   NOX      506 non-null    float64\n",
      " 5   RM       506 non-null    float64\n",
      " 6   AGE      506 non-null    float64\n",
      " 7   DIS      506 non-null    float64\n",
      " 8   RAD      506 non-null    float64\n",
      " 9   TAX      506 non-null    float64\n",
      " 10  PTRATIO  506 non-null    float64\n",
      " 11  B        506 non-null    float64\n",
      " 12  LSTAT    506 non-null    float64\n",
      " 13  MEDV     506 non-null    float64\n",
      " 14  cat_RAD  506 non-null    object \n",
      "dtypes: float64(13), object(2)\n",
      "memory usage: 59.4+ KB\n"
     ]
    }
   ],
   "source": [
    "df_boston.info()"
   ]
  },
  {
   "cell_type": "markdown",
   "metadata": {},
   "source": [
    "Ahora se cuenta con 2 variables de tipo categóricas para analizar.\n",
    "\n",
    "**Separación de variables categóricas y numéricas:**"
   ]
  },
  {
   "cell_type": "code",
   "execution_count": 13,
   "metadata": {},
   "outputs": [
    {
     "name": "stdout",
     "output_type": "stream",
     "text": [
      "Variables categóricas: ['CHAS', 'cat_RAD']\n",
      "\n",
      "Variables numéricas: ['CRIM' 'ZN' 'INDUS' 'NOX' 'RM' 'AGE' 'DIS' 'RAD' 'TAX' 'PTRATIO' 'B'\n",
      " 'LSTAT' 'MEDV']\n"
     ]
    }
   ],
   "source": [
    "var_categoricas = ['CHAS', 'cat_RAD']\n",
    "var_numericas = df_boston.columns.drop(var_categoricas)\n",
    "print(f'Variables categóricas: {var_categoricas}\\n\\nVariables numéricas: {var_numericas.values}')"
   ]
  },
  {
   "cell_type": "markdown",
   "metadata": {},
   "source": [
    "## Resumen Estadístico de datos\n",
    "### Utilizando Pandas"
   ]
  },
  {
   "cell_type": "markdown",
   "metadata": {},
   "source": [
    "**Resumen estadístico para variables categóricas:**\n",
    "- El resultado describe() varía según se aplique a una columna de datos numéricos o categóricos\n",
    "- Para obtener resumen de las variables numéricas se utiliza el parámetro exclude='object'\n",
    "- Describe por defecto calcula el count: número de registro (o muestra: n), media, desviación estándar, min, max, percentiles 25, 50 y 75 (Remember: P25=Mediana)\n",
    "- Si se desea traer percentiles distintos a los que están por defecto se debe especificar como parámetro de describe()"
   ]
  },
  {
   "cell_type": "code",
   "execution_count": 14,
   "metadata": {
    "scrolled": true
   },
   "outputs": [
    {
     "data": {
      "text/html": [
       "<div>\n",
       "<style scoped>\n",
       "    .dataframe tbody tr th:only-of-type {\n",
       "        vertical-align: middle;\n",
       "    }\n",
       "\n",
       "    .dataframe tbody tr th {\n",
       "        vertical-align: top;\n",
       "    }\n",
       "\n",
       "    .dataframe thead th {\n",
       "        text-align: right;\n",
       "    }\n",
       "</style>\n",
       "<table border=\"1\" class=\"dataframe\">\n",
       "  <thead>\n",
       "    <tr style=\"text-align: right;\">\n",
       "      <th></th>\n",
       "      <th>CRIM</th>\n",
       "      <th>ZN</th>\n",
       "      <th>INDUS</th>\n",
       "      <th>NOX</th>\n",
       "      <th>RM</th>\n",
       "      <th>AGE</th>\n",
       "      <th>DIS</th>\n",
       "      <th>RAD</th>\n",
       "      <th>TAX</th>\n",
       "      <th>PTRATIO</th>\n",
       "      <th>B</th>\n",
       "      <th>LSTAT</th>\n",
       "      <th>MEDV</th>\n",
       "    </tr>\n",
       "  </thead>\n",
       "  <tbody>\n",
       "    <tr>\n",
       "      <th>count</th>\n",
       "      <td>506.000000</td>\n",
       "      <td>506.000000</td>\n",
       "      <td>506.000000</td>\n",
       "      <td>506.000000</td>\n",
       "      <td>506.000000</td>\n",
       "      <td>506.000000</td>\n",
       "      <td>506.000000</td>\n",
       "      <td>506.000000</td>\n",
       "      <td>506.000000</td>\n",
       "      <td>506.000000</td>\n",
       "      <td>506.000000</td>\n",
       "      <td>506.000000</td>\n",
       "      <td>506.000000</td>\n",
       "    </tr>\n",
       "    <tr>\n",
       "      <th>mean</th>\n",
       "      <td>3.613524</td>\n",
       "      <td>11.363636</td>\n",
       "      <td>11.136779</td>\n",
       "      <td>0.554695</td>\n",
       "      <td>6.284634</td>\n",
       "      <td>68.574901</td>\n",
       "      <td>3.795043</td>\n",
       "      <td>9.549407</td>\n",
       "      <td>408.237154</td>\n",
       "      <td>18.455534</td>\n",
       "      <td>356.674032</td>\n",
       "      <td>12.653063</td>\n",
       "      <td>22.532806</td>\n",
       "    </tr>\n",
       "    <tr>\n",
       "      <th>std</th>\n",
       "      <td>8.601545</td>\n",
       "      <td>23.322453</td>\n",
       "      <td>6.860353</td>\n",
       "      <td>0.115878</td>\n",
       "      <td>0.702617</td>\n",
       "      <td>28.148861</td>\n",
       "      <td>2.105710</td>\n",
       "      <td>8.707259</td>\n",
       "      <td>168.537116</td>\n",
       "      <td>2.164946</td>\n",
       "      <td>91.294864</td>\n",
       "      <td>7.141062</td>\n",
       "      <td>9.197104</td>\n",
       "    </tr>\n",
       "    <tr>\n",
       "      <th>min</th>\n",
       "      <td>0.006320</td>\n",
       "      <td>0.000000</td>\n",
       "      <td>0.460000</td>\n",
       "      <td>0.385000</td>\n",
       "      <td>3.561000</td>\n",
       "      <td>2.900000</td>\n",
       "      <td>1.129600</td>\n",
       "      <td>1.000000</td>\n",
       "      <td>187.000000</td>\n",
       "      <td>12.600000</td>\n",
       "      <td>0.320000</td>\n",
       "      <td>1.730000</td>\n",
       "      <td>5.000000</td>\n",
       "    </tr>\n",
       "    <tr>\n",
       "      <th>10%</th>\n",
       "      <td>0.038195</td>\n",
       "      <td>0.000000</td>\n",
       "      <td>2.910000</td>\n",
       "      <td>0.427000</td>\n",
       "      <td>5.593500</td>\n",
       "      <td>26.950000</td>\n",
       "      <td>1.628300</td>\n",
       "      <td>3.000000</td>\n",
       "      <td>233.000000</td>\n",
       "      <td>14.750000</td>\n",
       "      <td>290.270000</td>\n",
       "      <td>4.680000</td>\n",
       "      <td>12.750000</td>\n",
       "    </tr>\n",
       "    <tr>\n",
       "      <th>25%</th>\n",
       "      <td>0.082045</td>\n",
       "      <td>0.000000</td>\n",
       "      <td>5.190000</td>\n",
       "      <td>0.449000</td>\n",
       "      <td>5.885500</td>\n",
       "      <td>45.025000</td>\n",
       "      <td>2.100175</td>\n",
       "      <td>4.000000</td>\n",
       "      <td>279.000000</td>\n",
       "      <td>17.400000</td>\n",
       "      <td>375.377500</td>\n",
       "      <td>6.950000</td>\n",
       "      <td>17.025000</td>\n",
       "    </tr>\n",
       "    <tr>\n",
       "      <th>50%</th>\n",
       "      <td>0.256510</td>\n",
       "      <td>0.000000</td>\n",
       "      <td>9.690000</td>\n",
       "      <td>0.538000</td>\n",
       "      <td>6.208500</td>\n",
       "      <td>77.500000</td>\n",
       "      <td>3.207450</td>\n",
       "      <td>5.000000</td>\n",
       "      <td>330.000000</td>\n",
       "      <td>19.050000</td>\n",
       "      <td>391.440000</td>\n",
       "      <td>11.360000</td>\n",
       "      <td>21.200000</td>\n",
       "    </tr>\n",
       "    <tr>\n",
       "      <th>75%</th>\n",
       "      <td>3.677083</td>\n",
       "      <td>12.500000</td>\n",
       "      <td>18.100000</td>\n",
       "      <td>0.624000</td>\n",
       "      <td>6.623500</td>\n",
       "      <td>94.075000</td>\n",
       "      <td>5.188425</td>\n",
       "      <td>24.000000</td>\n",
       "      <td>666.000000</td>\n",
       "      <td>20.200000</td>\n",
       "      <td>396.225000</td>\n",
       "      <td>16.955000</td>\n",
       "      <td>25.000000</td>\n",
       "    </tr>\n",
       "    <tr>\n",
       "      <th>90%</th>\n",
       "      <td>10.753000</td>\n",
       "      <td>42.500000</td>\n",
       "      <td>19.580000</td>\n",
       "      <td>0.713000</td>\n",
       "      <td>7.151500</td>\n",
       "      <td>98.800000</td>\n",
       "      <td>6.816600</td>\n",
       "      <td>24.000000</td>\n",
       "      <td>666.000000</td>\n",
       "      <td>20.900000</td>\n",
       "      <td>396.900000</td>\n",
       "      <td>23.035000</td>\n",
       "      <td>34.800000</td>\n",
       "    </tr>\n",
       "    <tr>\n",
       "      <th>max</th>\n",
       "      <td>88.976200</td>\n",
       "      <td>100.000000</td>\n",
       "      <td>27.740000</td>\n",
       "      <td>0.871000</td>\n",
       "      <td>8.780000</td>\n",
       "      <td>100.000000</td>\n",
       "      <td>12.126500</td>\n",
       "      <td>24.000000</td>\n",
       "      <td>711.000000</td>\n",
       "      <td>22.000000</td>\n",
       "      <td>396.900000</td>\n",
       "      <td>37.970000</td>\n",
       "      <td>50.000000</td>\n",
       "    </tr>\n",
       "  </tbody>\n",
       "</table>\n",
       "</div>"
      ],
      "text/plain": [
       "             CRIM          ZN       INDUS         NOX          RM         AGE  \\\n",
       "count  506.000000  506.000000  506.000000  506.000000  506.000000  506.000000   \n",
       "mean     3.613524   11.363636   11.136779    0.554695    6.284634   68.574901   \n",
       "std      8.601545   23.322453    6.860353    0.115878    0.702617   28.148861   \n",
       "min      0.006320    0.000000    0.460000    0.385000    3.561000    2.900000   \n",
       "10%      0.038195    0.000000    2.910000    0.427000    5.593500   26.950000   \n",
       "25%      0.082045    0.000000    5.190000    0.449000    5.885500   45.025000   \n",
       "50%      0.256510    0.000000    9.690000    0.538000    6.208500   77.500000   \n",
       "75%      3.677083   12.500000   18.100000    0.624000    6.623500   94.075000   \n",
       "90%     10.753000   42.500000   19.580000    0.713000    7.151500   98.800000   \n",
       "max     88.976200  100.000000   27.740000    0.871000    8.780000  100.000000   \n",
       "\n",
       "              DIS         RAD         TAX     PTRATIO           B       LSTAT  \\\n",
       "count  506.000000  506.000000  506.000000  506.000000  506.000000  506.000000   \n",
       "mean     3.795043    9.549407  408.237154   18.455534  356.674032   12.653063   \n",
       "std      2.105710    8.707259  168.537116    2.164946   91.294864    7.141062   \n",
       "min      1.129600    1.000000  187.000000   12.600000    0.320000    1.730000   \n",
       "10%      1.628300    3.000000  233.000000   14.750000  290.270000    4.680000   \n",
       "25%      2.100175    4.000000  279.000000   17.400000  375.377500    6.950000   \n",
       "50%      3.207450    5.000000  330.000000   19.050000  391.440000   11.360000   \n",
       "75%      5.188425   24.000000  666.000000   20.200000  396.225000   16.955000   \n",
       "90%      6.816600   24.000000  666.000000   20.900000  396.900000   23.035000   \n",
       "max     12.126500   24.000000  711.000000   22.000000  396.900000   37.970000   \n",
       "\n",
       "             MEDV  \n",
       "count  506.000000  \n",
       "mean    22.532806  \n",
       "std      9.197104  \n",
       "min      5.000000  \n",
       "10%     12.750000  \n",
       "25%     17.025000  \n",
       "50%     21.200000  \n",
       "75%     25.000000  \n",
       "90%     34.800000  \n",
       "max     50.000000  "
      ]
     },
     "execution_count": 14,
     "metadata": {},
     "output_type": "execute_result"
    }
   ],
   "source": [
    "df_boston.describe(percentiles=[.1, .25, .5, .75, .9], exclude='object')"
   ]
  },
  {
   "cell_type": "markdown",
   "metadata": {},
   "source": [
    "**Resumen estadístico para variables categóricas:**\n",
    "\n",
    "- La siguiente, es una tabla de resumen estadistico de las variables categóricas, para ello se especifica exclude='float' como parámetro.\n",
    "- count: es el número de registro (o muestra: n)\n",
    "- top: el valor categoria o valor modal\n",
    "- freq: el número de veces que se repite la moda"
   ]
  },
  {
   "cell_type": "code",
   "execution_count": 15,
   "metadata": {},
   "outputs": [
    {
     "data": {
      "text/html": [
       "<div>\n",
       "<style scoped>\n",
       "    .dataframe tbody tr th:only-of-type {\n",
       "        vertical-align: middle;\n",
       "    }\n",
       "\n",
       "    .dataframe tbody tr th {\n",
       "        vertical-align: top;\n",
       "    }\n",
       "\n",
       "    .dataframe thead th {\n",
       "        text-align: right;\n",
       "    }\n",
       "</style>\n",
       "<table border=\"1\" class=\"dataframe\">\n",
       "  <thead>\n",
       "    <tr style=\"text-align: right;\">\n",
       "      <th></th>\n",
       "      <th>CHAS</th>\n",
       "      <th>cat_RAD</th>\n",
       "    </tr>\n",
       "  </thead>\n",
       "  <tbody>\n",
       "    <tr>\n",
       "      <th>count</th>\n",
       "      <td>506</td>\n",
       "      <td>506</td>\n",
       "    </tr>\n",
       "    <tr>\n",
       "      <th>unique</th>\n",
       "      <td>2</td>\n",
       "      <td>3</td>\n",
       "    </tr>\n",
       "    <tr>\n",
       "      <th>top</th>\n",
       "      <td>0</td>\n",
       "      <td>(0.999, 4.0]</td>\n",
       "    </tr>\n",
       "    <tr>\n",
       "      <th>freq</th>\n",
       "      <td>471</td>\n",
       "      <td>192</td>\n",
       "    </tr>\n",
       "  </tbody>\n",
       "</table>\n",
       "</div>"
      ],
      "text/plain": [
       "        CHAS       cat_RAD\n",
       "count    506           506\n",
       "unique     2             3\n",
       "top        0  (0.999, 4.0]\n",
       "freq     471           192"
      ]
     },
     "execution_count": 15,
     "metadata": {},
     "output_type": "execute_result"
    }
   ],
   "source": [
    "df_boston.describe(exclude='float')"
   ]
  },
  {
   "cell_type": "markdown",
   "metadata": {},
   "source": [
    "**Resumen de Estadistica descriptiva de variables seleccionadas, con medidas determinadas, utilizando agg():**\n",
    "- Funciones: count, mean, median, mad, min, max, prod, sum, std, var, sem, skew, kurt\n",
    "- Se pueden agregar las funciones entre comillas, directamente con el nombre o anteponiendo np.\n",
    "- Para el calculo de la moda, no sirve esta manera."
   ]
  },
  {
   "cell_type": "code",
   "execution_count": 16,
   "metadata": {},
   "outputs": [
    {
     "data": {
      "text/html": [
       "<div>\n",
       "<style scoped>\n",
       "    .dataframe tbody tr th:only-of-type {\n",
       "        vertical-align: middle;\n",
       "    }\n",
       "\n",
       "    .dataframe tbody tr th {\n",
       "        vertical-align: top;\n",
       "    }\n",
       "\n",
       "    .dataframe thead th {\n",
       "        text-align: right;\n",
       "    }\n",
       "</style>\n",
       "<table border=\"1\" class=\"dataframe\">\n",
       "  <thead>\n",
       "    <tr style=\"text-align: right;\">\n",
       "      <th></th>\n",
       "      <th>NOX</th>\n",
       "      <th>RM</th>\n",
       "      <th>AGE</th>\n",
       "      <th>DIS</th>\n",
       "      <th>RAD</th>\n",
       "      <th>TAX</th>\n",
       "    </tr>\n",
       "  </thead>\n",
       "  <tbody>\n",
       "    <tr>\n",
       "      <th>median</th>\n",
       "      <td>0.538000</td>\n",
       "      <td>6.208500</td>\n",
       "      <td>77.500000</td>\n",
       "      <td>3.207450</td>\n",
       "      <td>5.000000</td>\n",
       "      <td>330.000000</td>\n",
       "    </tr>\n",
       "    <tr>\n",
       "      <th>skew</th>\n",
       "      <td>0.729308</td>\n",
       "      <td>0.403612</td>\n",
       "      <td>-0.598963</td>\n",
       "      <td>1.011781</td>\n",
       "      <td>1.004815</td>\n",
       "      <td>0.669956</td>\n",
       "    </tr>\n",
       "    <tr>\n",
       "      <th>std</th>\n",
       "      <td>0.115878</td>\n",
       "      <td>0.702617</td>\n",
       "      <td>28.148861</td>\n",
       "      <td>2.105710</td>\n",
       "      <td>8.707259</td>\n",
       "      <td>168.537116</td>\n",
       "    </tr>\n",
       "    <tr>\n",
       "      <th>min</th>\n",
       "      <td>0.385000</td>\n",
       "      <td>3.561000</td>\n",
       "      <td>2.900000</td>\n",
       "      <td>1.129600</td>\n",
       "      <td>1.000000</td>\n",
       "      <td>187.000000</td>\n",
       "    </tr>\n",
       "    <tr>\n",
       "      <th>mean</th>\n",
       "      <td>0.554695</td>\n",
       "      <td>6.284634</td>\n",
       "      <td>68.574901</td>\n",
       "      <td>3.795043</td>\n",
       "      <td>9.549407</td>\n",
       "      <td>408.237154</td>\n",
       "    </tr>\n",
       "    <tr>\n",
       "      <th>max</th>\n",
       "      <td>0.871000</td>\n",
       "      <td>8.780000</td>\n",
       "      <td>100.000000</td>\n",
       "      <td>12.126500</td>\n",
       "      <td>24.000000</td>\n",
       "      <td>711.000000</td>\n",
       "    </tr>\n",
       "  </tbody>\n",
       "</table>\n",
       "</div>"
      ],
      "text/plain": [
       "             NOX        RM         AGE        DIS        RAD         TAX\n",
       "median  0.538000  6.208500   77.500000   3.207450   5.000000  330.000000\n",
       "skew    0.729308  0.403612   -0.598963   1.011781   1.004815    0.669956\n",
       "std     0.115878  0.702617   28.148861   2.105710   8.707259  168.537116\n",
       "min     0.385000  3.561000    2.900000   1.129600   1.000000  187.000000\n",
       "mean    0.554695  6.284634   68.574901   3.795043   9.549407  408.237154\n",
       "max     0.871000  8.780000  100.000000  12.126500  24.000000  711.000000"
      ]
     },
     "execution_count": 16,
     "metadata": {},
     "output_type": "execute_result"
    }
   ],
   "source": [
    "df_boston[list(df_boston.columns[4:10])].agg({min, max, np.mean, np.median, 'std', 'skew'})"
   ]
  },
  {
   "cell_type": "markdown",
   "metadata": {},
   "source": [
    "### Resumen utilizando stats de Scipy"
   ]
  },
  {
   "cell_type": "markdown",
   "metadata": {},
   "source": [
    "**Del modo siguiente, se obtiene medidas de estadistica descriptiva, como:**\n",
    "- Nro de observaciones, minimo, máximo, media, varianza, simetria y curtosis\n",
    "- Y permite seleccionar los grados de libertad para el calculo de la varianza, y la corrección o no a partir del sesgo para la simetria y curtosis\n",
    "- Con el prámetro nan_policy permite configurar la manipulación de valores faltantes."
   ]
  },
  {
   "cell_type": "code",
   "execution_count": 17,
   "metadata": {
    "scrolled": true
   },
   "outputs": [
    {
     "data": {
      "text/plain": [
       "DescribeResult(nobs=506, minmax=(array([6.3200e-03, 0.0000e+00, 4.6000e-01, 3.8500e-01, 3.5610e+00,\n",
       "       2.9000e+00, 1.1296e+00, 1.0000e+00, 1.8700e+02, 1.2600e+01,\n",
       "       3.2000e-01, 1.7300e+00, 5.0000e+00]), array([ 88.9762, 100.    ,  27.74  ,   0.871 ,   8.78  , 100.    ,\n",
       "        12.1265,  24.    , 711.    ,  22.    , 396.9   ,  37.97  ,\n",
       "        50.    ])), mean=array([  3.61352356,  11.36363636,  11.13677866,   0.55469506,\n",
       "         6.28463439,  68.57490119,   3.79504269,   9.54940711,\n",
       "       408.23715415,  18.4555336 , 356.67403162,  12.65306324,\n",
       "        22.53280632]), variance=array([7.39865782e+01, 5.43936814e+02, 4.70644425e+01, 1.34276357e-02,\n",
       "       4.93670850e-01, 7.92358399e+02, 4.43401514e+00, 7.58163660e+01,\n",
       "       2.84047595e+04, 4.68698912e+00, 8.33475226e+03, 5.09947595e+01,\n",
       "       8.45867236e+01]), skewness=array([ 5.20765239,  2.21906306,  0.29414628,  0.72714416,  0.40241467,\n",
       "       -0.59718559,  1.00877876,  1.00183349,  0.66796827, -0.79994453,\n",
       "       -2.88179835,  0.90377074,  1.10481082]), kurtosis=array([36.75278626,  3.97994877, -1.23321847, -0.07586422,  1.86102697,\n",
       "       -0.97001393,  0.47129857, -0.8705205 , -1.14298488, -0.29411638,\n",
       "        7.14376929,  0.47654476,  1.46862877]))"
      ]
     },
     "execution_count": 17,
     "metadata": {},
     "output_type": "execute_result"
    }
   ],
   "source": [
    "descrip_stat = stats.describe(df_boston[var_numericas], ddof=1, bias=True)      # salida: n, (min, max), mean, varianza, skewness, kurtosis \n",
    "descrip_stat"
   ]
  },
  {
   "cell_type": "markdown",
   "metadata": {},
   "source": [
    "Para mostrar los resultados en tabla se llevó a un dataframe:"
   ]
  },
  {
   "cell_type": "code",
   "execution_count": 18,
   "metadata": {},
   "outputs": [
    {
     "data": {
      "text/html": [
       "<div>\n",
       "<style scoped>\n",
       "    .dataframe tbody tr th:only-of-type {\n",
       "        vertical-align: middle;\n",
       "    }\n",
       "\n",
       "    .dataframe tbody tr th {\n",
       "        vertical-align: top;\n",
       "    }\n",
       "\n",
       "    .dataframe thead th {\n",
       "        text-align: right;\n",
       "    }\n",
       "</style>\n",
       "<table border=\"1\" class=\"dataframe\">\n",
       "  <thead>\n",
       "    <tr style=\"text-align: right;\">\n",
       "      <th></th>\n",
       "      <th>nobs</th>\n",
       "      <th>min</th>\n",
       "      <th>max</th>\n",
       "      <th>mean</th>\n",
       "      <th>varianza</th>\n",
       "      <th>desv_estandar</th>\n",
       "      <th>simetria</th>\n",
       "      <th>curtosis</th>\n",
       "      <th>CV</th>\n",
       "    </tr>\n",
       "  </thead>\n",
       "  <tbody>\n",
       "    <tr>\n",
       "      <th>CRIM</th>\n",
       "      <td>506</td>\n",
       "      <td>0.00632</td>\n",
       "      <td>88.9762</td>\n",
       "      <td>3.613524</td>\n",
       "      <td>73.986578</td>\n",
       "      <td>8.601545</td>\n",
       "      <td>5.207652</td>\n",
       "      <td>36.752786</td>\n",
       "      <td>238.037610</td>\n",
       "    </tr>\n",
       "    <tr>\n",
       "      <th>ZN</th>\n",
       "      <td>506</td>\n",
       "      <td>0.00000</td>\n",
       "      <td>100.0000</td>\n",
       "      <td>11.363636</td>\n",
       "      <td>543.936814</td>\n",
       "      <td>23.322453</td>\n",
       "      <td>2.219063</td>\n",
       "      <td>3.979949</td>\n",
       "      <td>205.237586</td>\n",
       "    </tr>\n",
       "    <tr>\n",
       "      <th>INDUS</th>\n",
       "      <td>506</td>\n",
       "      <td>0.46000</td>\n",
       "      <td>27.7400</td>\n",
       "      <td>11.136779</td>\n",
       "      <td>47.064442</td>\n",
       "      <td>6.860353</td>\n",
       "      <td>0.294146</td>\n",
       "      <td>-1.233218</td>\n",
       "      <td>61.600874</td>\n",
       "    </tr>\n",
       "    <tr>\n",
       "      <th>NOX</th>\n",
       "      <td>506</td>\n",
       "      <td>0.38500</td>\n",
       "      <td>0.8710</td>\n",
       "      <td>0.554695</td>\n",
       "      <td>0.013428</td>\n",
       "      <td>0.115878</td>\n",
       "      <td>0.727144</td>\n",
       "      <td>-0.075864</td>\n",
       "      <td>20.890339</td>\n",
       "    </tr>\n",
       "    <tr>\n",
       "      <th>RM</th>\n",
       "      <td>506</td>\n",
       "      <td>3.56100</td>\n",
       "      <td>8.7800</td>\n",
       "      <td>6.284634</td>\n",
       "      <td>0.493671</td>\n",
       "      <td>0.702617</td>\n",
       "      <td>0.402415</td>\n",
       "      <td>1.861027</td>\n",
       "      <td>11.179921</td>\n",
       "    </tr>\n",
       "    <tr>\n",
       "      <th>AGE</th>\n",
       "      <td>506</td>\n",
       "      <td>2.90000</td>\n",
       "      <td>100.0000</td>\n",
       "      <td>68.574901</td>\n",
       "      <td>792.358399</td>\n",
       "      <td>28.148861</td>\n",
       "      <td>-0.597186</td>\n",
       "      <td>-0.970014</td>\n",
       "      <td>41.048344</td>\n",
       "    </tr>\n",
       "    <tr>\n",
       "      <th>DIS</th>\n",
       "      <td>506</td>\n",
       "      <td>1.12960</td>\n",
       "      <td>12.1265</td>\n",
       "      <td>3.795043</td>\n",
       "      <td>4.434015</td>\n",
       "      <td>2.105710</td>\n",
       "      <td>1.008779</td>\n",
       "      <td>0.471299</td>\n",
       "      <td>55.485809</td>\n",
       "    </tr>\n",
       "    <tr>\n",
       "      <th>RAD</th>\n",
       "      <td>506</td>\n",
       "      <td>1.00000</td>\n",
       "      <td>24.0000</td>\n",
       "      <td>9.549407</td>\n",
       "      <td>75.816366</td>\n",
       "      <td>8.707259</td>\n",
       "      <td>1.001833</td>\n",
       "      <td>-0.870521</td>\n",
       "      <td>91.181152</td>\n",
       "    </tr>\n",
       "    <tr>\n",
       "      <th>TAX</th>\n",
       "      <td>506</td>\n",
       "      <td>187.00000</td>\n",
       "      <td>711.0000</td>\n",
       "      <td>408.237154</td>\n",
       "      <td>28404.759488</td>\n",
       "      <td>168.537116</td>\n",
       "      <td>0.667968</td>\n",
       "      <td>-1.142985</td>\n",
       "      <td>41.284120</td>\n",
       "    </tr>\n",
       "    <tr>\n",
       "      <th>PTRATIO</th>\n",
       "      <td>506</td>\n",
       "      <td>12.60000</td>\n",
       "      <td>22.0000</td>\n",
       "      <td>18.455534</td>\n",
       "      <td>4.686989</td>\n",
       "      <td>2.164946</td>\n",
       "      <td>-0.799945</td>\n",
       "      <td>-0.294116</td>\n",
       "      <td>11.730604</td>\n",
       "    </tr>\n",
       "    <tr>\n",
       "      <th>B</th>\n",
       "      <td>506</td>\n",
       "      <td>0.32000</td>\n",
       "      <td>396.9000</td>\n",
       "      <td>356.674032</td>\n",
       "      <td>8334.752263</td>\n",
       "      <td>91.294864</td>\n",
       "      <td>-2.881798</td>\n",
       "      <td>7.143769</td>\n",
       "      <td>25.596162</td>\n",
       "    </tr>\n",
       "    <tr>\n",
       "      <th>LSTAT</th>\n",
       "      <td>506</td>\n",
       "      <td>1.73000</td>\n",
       "      <td>37.9700</td>\n",
       "      <td>12.653063</td>\n",
       "      <td>50.994760</td>\n",
       "      <td>7.141062</td>\n",
       "      <td>0.903771</td>\n",
       "      <td>0.476545</td>\n",
       "      <td>56.437413</td>\n",
       "    </tr>\n",
       "    <tr>\n",
       "      <th>MEDV</th>\n",
       "      <td>506</td>\n",
       "      <td>5.00000</td>\n",
       "      <td>50.0000</td>\n",
       "      <td>22.532806</td>\n",
       "      <td>84.586724</td>\n",
       "      <td>9.197104</td>\n",
       "      <td>1.104811</td>\n",
       "      <td>1.468629</td>\n",
       "      <td>40.816505</td>\n",
       "    </tr>\n",
       "  </tbody>\n",
       "</table>\n",
       "</div>"
      ],
      "text/plain": [
       "         nobs        min       max        mean      varianza  desv_estandar  \\\n",
       "CRIM      506    0.00632   88.9762    3.613524     73.986578       8.601545   \n",
       "ZN        506    0.00000  100.0000   11.363636    543.936814      23.322453   \n",
       "INDUS     506    0.46000   27.7400   11.136779     47.064442       6.860353   \n",
       "NOX       506    0.38500    0.8710    0.554695      0.013428       0.115878   \n",
       "RM        506    3.56100    8.7800    6.284634      0.493671       0.702617   \n",
       "AGE       506    2.90000  100.0000   68.574901    792.358399      28.148861   \n",
       "DIS       506    1.12960   12.1265    3.795043      4.434015       2.105710   \n",
       "RAD       506    1.00000   24.0000    9.549407     75.816366       8.707259   \n",
       "TAX       506  187.00000  711.0000  408.237154  28404.759488     168.537116   \n",
       "PTRATIO   506   12.60000   22.0000   18.455534      4.686989       2.164946   \n",
       "B         506    0.32000  396.9000  356.674032   8334.752263      91.294864   \n",
       "LSTAT     506    1.73000   37.9700   12.653063     50.994760       7.141062   \n",
       "MEDV      506    5.00000   50.0000   22.532806     84.586724       9.197104   \n",
       "\n",
       "         simetria   curtosis          CV  \n",
       "CRIM     5.207652  36.752786  238.037610  \n",
       "ZN       2.219063   3.979949  205.237586  \n",
       "INDUS    0.294146  -1.233218   61.600874  \n",
       "NOX      0.727144  -0.075864   20.890339  \n",
       "RM       0.402415   1.861027   11.179921  \n",
       "AGE     -0.597186  -0.970014   41.048344  \n",
       "DIS      1.008779   0.471299   55.485809  \n",
       "RAD      1.001833  -0.870521   91.181152  \n",
       "TAX      0.667968  -1.142985   41.284120  \n",
       "PTRATIO -0.799945  -0.294116   11.730604  \n",
       "B       -2.881798   7.143769   25.596162  \n",
       "LSTAT    0.903771   0.476545   56.437413  \n",
       "MEDV     1.104811   1.468629   40.816505  "
      ]
     },
     "execution_count": 18,
     "metadata": {},
     "output_type": "execute_result"
    }
   ],
   "source": [
    "data = {'nobs': descrip_stat.nobs, 'min': descrip_stat.minmax[0], 'max': descrip_stat.minmax[1], 'mean': descrip_stat.mean,\n",
    "       'varianza': descrip_stat.variance, 'desv_estandar': np.sqrt(descrip_stat.variance), 'simetria': descrip_stat.skewness,\n",
    "       'curtosis': descrip_stat.kurtosis, 'CV': np.sqrt(descrip_stat.variance)/descrip_stat.mean*100}\n",
    "pd.DataFrame(data=data, index=var_numericas)"
   ]
  },
  {
   "cell_type": "markdown",
   "metadata": {},
   "source": [
    "## Medidas de Resumen"
   ]
  },
  {
   "cell_type": "markdown",
   "metadata": {},
   "source": [
    "### Medidas de Tendencia Central"
   ]
  },
  {
   "cell_type": "markdown",
   "metadata": {},
   "source": [
    "#### **Media (aritmética)**"
   ]
  },
  {
   "cell_type": "markdown",
   "metadata": {},
   "source": [
    "##### Media con Pandas"
   ]
  },
  {
   "cell_type": "code",
   "execution_count": 19,
   "metadata": {},
   "outputs": [
    {
     "data": {
      "text/plain": [
       "CRIM         3.613524\n",
       "ZN          11.363636\n",
       "INDUS       11.136779\n",
       "NOX          0.554695\n",
       "RM           6.284634\n",
       "AGE         68.574901\n",
       "DIS          3.795043\n",
       "RAD          9.549407\n",
       "TAX        408.237154\n",
       "PTRATIO     18.455534\n",
       "B          356.674032\n",
       "LSTAT       12.653063\n",
       "MEDV        22.532806\n",
       "dtype: float64"
      ]
     },
     "execution_count": 19,
     "metadata": {},
     "output_type": "execute_result"
    }
   ],
   "source": [
    "# Media de cada una de las variables del dataset\n",
    "df_boston.mean(numeric_only=True)"
   ]
  },
  {
   "cell_type": "code",
   "execution_count": 20,
   "metadata": {
    "scrolled": true
   },
   "outputs": [
    {
     "data": {
      "text/plain": [
       "22.532806324110677"
      ]
     },
     "execution_count": 20,
     "metadata": {},
     "output_type": "execute_result"
    }
   ],
   "source": [
    "# Media de una característica específica\n",
    "df_boston['MEDV'].mean()"
   ]
  },
  {
   "cell_type": "code",
   "execution_count": 21,
   "metadata": {},
   "outputs": [
    {
     "data": {
      "text/html": [
       "<div>\n",
       "<style scoped>\n",
       "    .dataframe tbody tr th:only-of-type {\n",
       "        vertical-align: middle;\n",
       "    }\n",
       "\n",
       "    .dataframe tbody tr th {\n",
       "        vertical-align: top;\n",
       "    }\n",
       "\n",
       "    .dataframe thead th {\n",
       "        text-align: right;\n",
       "    }\n",
       "</style>\n",
       "<table border=\"1\" class=\"dataframe\">\n",
       "  <thead>\n",
       "    <tr style=\"text-align: right;\">\n",
       "      <th></th>\n",
       "      <th>CRIM</th>\n",
       "      <th>ZN</th>\n",
       "      <th>INDUS</th>\n",
       "      <th>NOX</th>\n",
       "      <th>RM</th>\n",
       "      <th>AGE</th>\n",
       "      <th>DIS</th>\n",
       "      <th>RAD</th>\n",
       "      <th>TAX</th>\n",
       "      <th>PTRATIO</th>\n",
       "      <th>B</th>\n",
       "      <th>LSTAT</th>\n",
       "      <th>MEDV</th>\n",
       "    </tr>\n",
       "    <tr>\n",
       "      <th>CHAS</th>\n",
       "      <th></th>\n",
       "      <th></th>\n",
       "      <th></th>\n",
       "      <th></th>\n",
       "      <th></th>\n",
       "      <th></th>\n",
       "      <th></th>\n",
       "      <th></th>\n",
       "      <th></th>\n",
       "      <th></th>\n",
       "      <th></th>\n",
       "      <th></th>\n",
       "      <th></th>\n",
       "    </tr>\n",
       "  </thead>\n",
       "  <tbody>\n",
       "    <tr>\n",
       "      <th>0</th>\n",
       "      <td>3.744447</td>\n",
       "      <td>11.634820</td>\n",
       "      <td>11.019193</td>\n",
       "      <td>0.551817</td>\n",
       "      <td>6.267174</td>\n",
       "      <td>67.911677</td>\n",
       "      <td>3.851915</td>\n",
       "      <td>9.566879</td>\n",
       "      <td>409.870488</td>\n",
       "      <td>18.527176</td>\n",
       "      <td>355.461040</td>\n",
       "      <td>12.757941</td>\n",
       "      <td>22.093843</td>\n",
       "    </tr>\n",
       "    <tr>\n",
       "      <th>1</th>\n",
       "      <td>1.851670</td>\n",
       "      <td>7.714286</td>\n",
       "      <td>12.719143</td>\n",
       "      <td>0.593426</td>\n",
       "      <td>6.519600</td>\n",
       "      <td>77.500000</td>\n",
       "      <td>3.029709</td>\n",
       "      <td>9.314286</td>\n",
       "      <td>386.257143</td>\n",
       "      <td>17.491429</td>\n",
       "      <td>372.997429</td>\n",
       "      <td>11.241714</td>\n",
       "      <td>28.440000</td>\n",
       "    </tr>\n",
       "  </tbody>\n",
       "</table>\n",
       "</div>"
      ],
      "text/plain": [
       "          CRIM         ZN      INDUS       NOX        RM        AGE       DIS  \\\n",
       "CHAS                                                                            \n",
       "0     3.744447  11.634820  11.019193  0.551817  6.267174  67.911677  3.851915   \n",
       "1     1.851670   7.714286  12.719143  0.593426  6.519600  77.500000  3.029709   \n",
       "\n",
       "           RAD         TAX    PTRATIO           B      LSTAT       MEDV  \n",
       "CHAS                                                                     \n",
       "0     9.566879  409.870488  18.527176  355.461040  12.757941  22.093843  \n",
       "1     9.314286  386.257143  17.491429  372.997429  11.241714  28.440000  "
      ]
     },
     "execution_count": 21,
     "metadata": {},
     "output_type": "execute_result"
    }
   ],
   "source": [
    "# Medias por grupos de categorias\n",
    "df_boston.groupby('CHAS').mean()"
   ]
  },
  {
   "cell_type": "code",
   "execution_count": 22,
   "metadata": {},
   "outputs": [
    {
     "data": {
      "text/html": [
       "<div>\n",
       "<style scoped>\n",
       "    .dataframe tbody tr th:only-of-type {\n",
       "        vertical-align: middle;\n",
       "    }\n",
       "\n",
       "    .dataframe tbody tr th {\n",
       "        vertical-align: top;\n",
       "    }\n",
       "\n",
       "    .dataframe thead th {\n",
       "        text-align: right;\n",
       "    }\n",
       "</style>\n",
       "<table border=\"1\" class=\"dataframe\">\n",
       "  <thead>\n",
       "    <tr style=\"text-align: right;\">\n",
       "      <th></th>\n",
       "      <th></th>\n",
       "      <th>CRIM</th>\n",
       "      <th>ZN</th>\n",
       "      <th>INDUS</th>\n",
       "      <th>NOX</th>\n",
       "      <th>RM</th>\n",
       "      <th>AGE</th>\n",
       "      <th>DIS</th>\n",
       "      <th>RAD</th>\n",
       "      <th>TAX</th>\n",
       "      <th>PTRATIO</th>\n",
       "      <th>B</th>\n",
       "      <th>LSTAT</th>\n",
       "      <th>MEDV</th>\n",
       "    </tr>\n",
       "    <tr>\n",
       "      <th>CHAS</th>\n",
       "      <th>cat_RAD</th>\n",
       "      <th></th>\n",
       "      <th></th>\n",
       "      <th></th>\n",
       "      <th></th>\n",
       "      <th></th>\n",
       "      <th></th>\n",
       "      <th></th>\n",
       "      <th></th>\n",
       "      <th></th>\n",
       "      <th></th>\n",
       "      <th></th>\n",
       "      <th></th>\n",
       "      <th></th>\n",
       "    </tr>\n",
       "  </thead>\n",
       "  <tbody>\n",
       "    <tr>\n",
       "      <th rowspan=\"3\" valign=\"top\">0</th>\n",
       "      <th>(0.999, 4.0]</th>\n",
       "      <td>0.264417</td>\n",
       "      <td>18.127072</td>\n",
       "      <td>8.813260</td>\n",
       "      <td>0.488658</td>\n",
       "      <td>6.300387</td>\n",
       "      <td>57.349171</td>\n",
       "      <td>4.723071</td>\n",
       "      <td>3.220994</td>\n",
       "      <td>307.198895</td>\n",
       "      <td>18.591713</td>\n",
       "      <td>385.390773</td>\n",
       "      <td>10.732707</td>\n",
       "      <td>23.385635</td>\n",
       "    </tr>\n",
       "    <tr>\n",
       "      <th>(4.0, 7.0]</th>\n",
       "      <td>0.484351</td>\n",
       "      <td>13.938776</td>\n",
       "      <td>8.428980</td>\n",
       "      <td>0.538386</td>\n",
       "      <td>6.367129</td>\n",
       "      <td>63.017687</td>\n",
       "      <td>4.171876</td>\n",
       "      <td>5.408163</td>\n",
       "      <td>334.469388</td>\n",
       "      <td>17.088435</td>\n",
       "      <td>376.226667</td>\n",
       "      <td>10.588912</td>\n",
       "      <td>24.900680</td>\n",
       "    </tr>\n",
       "    <tr>\n",
       "      <th>(7.0, 24.0]</th>\n",
       "      <td>11.500527</td>\n",
       "      <td>1.048951</td>\n",
       "      <td>16.473986</td>\n",
       "      <td>0.645566</td>\n",
       "      <td>6.122385</td>\n",
       "      <td>86.311888</td>\n",
       "      <td>2.420350</td>\n",
       "      <td>21.874126</td>\n",
       "      <td>617.335664</td>\n",
       "      <td>19.924476</td>\n",
       "      <td>296.231469</td>\n",
       "      <td>17.551049</td>\n",
       "      <td>17.573427</td>\n",
       "    </tr>\n",
       "    <tr>\n",
       "      <th rowspan=\"3\" valign=\"top\">1</th>\n",
       "      <th>(0.999, 4.0]</th>\n",
       "      <td>0.171723</td>\n",
       "      <td>22.727273</td>\n",
       "      <td>7.937273</td>\n",
       "      <td>0.465000</td>\n",
       "      <td>6.451273</td>\n",
       "      <td>58.290909</td>\n",
       "      <td>4.291409</td>\n",
       "      <td>3.545455</td>\n",
       "      <td>253.727273</td>\n",
       "      <td>17.872727</td>\n",
       "      <td>392.261818</td>\n",
       "      <td>12.014545</td>\n",
       "      <td>28.400000</td>\n",
       "    </tr>\n",
       "    <tr>\n",
       "      <th>(4.0, 7.0]</th>\n",
       "      <td>1.304961</td>\n",
       "      <td>1.818182</td>\n",
       "      <td>16.550909</td>\n",
       "      <td>0.671991</td>\n",
       "      <td>6.452727</td>\n",
       "      <td>85.745455</td>\n",
       "      <td>2.454945</td>\n",
       "      <td>5.000000</td>\n",
       "      <td>351.363636</td>\n",
       "      <td>15.181818</td>\n",
       "      <td>347.881818</td>\n",
       "      <td>11.341818</td>\n",
       "      <td>27.463636</td>\n",
       "    </tr>\n",
       "    <tr>\n",
       "      <th>(7.0, 24.0]</th>\n",
       "      <td>3.735765</td>\n",
       "      <td>0.000000</td>\n",
       "      <td>13.523077</td>\n",
       "      <td>0.635615</td>\n",
       "      <td>6.634000</td>\n",
       "      <td>86.776923</td>\n",
       "      <td>2.448454</td>\n",
       "      <td>17.846154</td>\n",
       "      <td>527.923077</td>\n",
       "      <td>19.123077</td>\n",
       "      <td>377.948462</td>\n",
       "      <td>10.503077</td>\n",
       "      <td>29.300000</td>\n",
       "    </tr>\n",
       "  </tbody>\n",
       "</table>\n",
       "</div>"
      ],
      "text/plain": [
       "                        CRIM         ZN      INDUS       NOX        RM  \\\n",
       "CHAS cat_RAD                                                             \n",
       "0    (0.999, 4.0]   0.264417  18.127072   8.813260  0.488658  6.300387   \n",
       "     (4.0, 7.0]     0.484351  13.938776   8.428980  0.538386  6.367129   \n",
       "     (7.0, 24.0]   11.500527   1.048951  16.473986  0.645566  6.122385   \n",
       "1    (0.999, 4.0]   0.171723  22.727273   7.937273  0.465000  6.451273   \n",
       "     (4.0, 7.0]     1.304961   1.818182  16.550909  0.671991  6.452727   \n",
       "     (7.0, 24.0]    3.735765   0.000000  13.523077  0.635615  6.634000   \n",
       "\n",
       "                         AGE       DIS        RAD         TAX    PTRATIO  \\\n",
       "CHAS cat_RAD                                                               \n",
       "0    (0.999, 4.0]  57.349171  4.723071   3.220994  307.198895  18.591713   \n",
       "     (4.0, 7.0]    63.017687  4.171876   5.408163  334.469388  17.088435   \n",
       "     (7.0, 24.0]   86.311888  2.420350  21.874126  617.335664  19.924476   \n",
       "1    (0.999, 4.0]  58.290909  4.291409   3.545455  253.727273  17.872727   \n",
       "     (4.0, 7.0]    85.745455  2.454945   5.000000  351.363636  15.181818   \n",
       "     (7.0, 24.0]   86.776923  2.448454  17.846154  527.923077  19.123077   \n",
       "\n",
       "                            B      LSTAT       MEDV  \n",
       "CHAS cat_RAD                                         \n",
       "0    (0.999, 4.0]  385.390773  10.732707  23.385635  \n",
       "     (4.0, 7.0]    376.226667  10.588912  24.900680  \n",
       "     (7.0, 24.0]   296.231469  17.551049  17.573427  \n",
       "1    (0.999, 4.0]  392.261818  12.014545  28.400000  \n",
       "     (4.0, 7.0]    347.881818  11.341818  27.463636  \n",
       "     (7.0, 24.0]   377.948462  10.503077  29.300000  "
      ]
     },
     "execution_count": 22,
     "metadata": {},
     "output_type": "execute_result"
    }
   ],
   "source": [
    "df_boston.groupby(var_categoricas).mean()"
   ]
  },
  {
   "cell_type": "markdown",
   "metadata": {},
   "source": [
    "##### Media con Numpy"
   ]
  },
  {
   "cell_type": "code",
   "execution_count": 23,
   "metadata": {},
   "outputs": [
    {
     "data": {
      "text/plain": [
       "array([  3.61352356,  11.36363636,  11.13677866,   0.55469506,\n",
       "         6.28463439,  68.57490119,   3.79504269,   9.54940711,\n",
       "       408.23715415,  18.4555336 , 356.67403162,  12.65306324,\n",
       "        22.53280632])"
      ]
     },
     "execution_count": 23,
     "metadata": {},
     "output_type": "execute_result"
    }
   ],
   "source": [
    "# Media de cada una de las variables del dataset\n",
    "medias_np = np.mean(np.array(df_boston.drop(columns=var_categoricas)), axis=0)\n",
    "medias_np"
   ]
  },
  {
   "cell_type": "code",
   "execution_count": 24,
   "metadata": {},
   "outputs": [
    {
     "data": {
      "text/html": [
       "<div>\n",
       "<style scoped>\n",
       "    .dataframe tbody tr th:only-of-type {\n",
       "        vertical-align: middle;\n",
       "    }\n",
       "\n",
       "    .dataframe tbody tr th {\n",
       "        vertical-align: top;\n",
       "    }\n",
       "\n",
       "    .dataframe thead th {\n",
       "        text-align: right;\n",
       "    }\n",
       "</style>\n",
       "<table border=\"1\" class=\"dataframe\">\n",
       "  <thead>\n",
       "    <tr style=\"text-align: right;\">\n",
       "      <th></th>\n",
       "      <th>media</th>\n",
       "    </tr>\n",
       "  </thead>\n",
       "  <tbody>\n",
       "    <tr>\n",
       "      <th>CRIM</th>\n",
       "      <td>3.613524</td>\n",
       "    </tr>\n",
       "    <tr>\n",
       "      <th>ZN</th>\n",
       "      <td>11.363636</td>\n",
       "    </tr>\n",
       "    <tr>\n",
       "      <th>INDUS</th>\n",
       "      <td>11.136779</td>\n",
       "    </tr>\n",
       "    <tr>\n",
       "      <th>NOX</th>\n",
       "      <td>0.554695</td>\n",
       "    </tr>\n",
       "    <tr>\n",
       "      <th>RM</th>\n",
       "      <td>6.284634</td>\n",
       "    </tr>\n",
       "    <tr>\n",
       "      <th>AGE</th>\n",
       "      <td>68.574901</td>\n",
       "    </tr>\n",
       "    <tr>\n",
       "      <th>DIS</th>\n",
       "      <td>3.795043</td>\n",
       "    </tr>\n",
       "    <tr>\n",
       "      <th>RAD</th>\n",
       "      <td>9.549407</td>\n",
       "    </tr>\n",
       "    <tr>\n",
       "      <th>TAX</th>\n",
       "      <td>408.237154</td>\n",
       "    </tr>\n",
       "    <tr>\n",
       "      <th>PTRATIO</th>\n",
       "      <td>18.455534</td>\n",
       "    </tr>\n",
       "    <tr>\n",
       "      <th>B</th>\n",
       "      <td>356.674032</td>\n",
       "    </tr>\n",
       "    <tr>\n",
       "      <th>LSTAT</th>\n",
       "      <td>12.653063</td>\n",
       "    </tr>\n",
       "    <tr>\n",
       "      <th>MEDV</th>\n",
       "      <td>22.532806</td>\n",
       "    </tr>\n",
       "  </tbody>\n",
       "</table>\n",
       "</div>"
      ],
      "text/plain": [
       "              media\n",
       "CRIM       3.613524\n",
       "ZN        11.363636\n",
       "INDUS     11.136779\n",
       "NOX        0.554695\n",
       "RM         6.284634\n",
       "AGE       68.574901\n",
       "DIS        3.795043\n",
       "RAD        9.549407\n",
       "TAX      408.237154\n",
       "PTRATIO   18.455534\n",
       "B        356.674032\n",
       "LSTAT     12.653063\n",
       "MEDV      22.532806"
      ]
     },
     "execution_count": 24,
     "metadata": {},
     "output_type": "execute_result"
    }
   ],
   "source": [
    "pd.DataFrame(data=medias_np, index=var_numericas, columns=['media'])"
   ]
  },
  {
   "cell_type": "code",
   "execution_count": 25,
   "metadata": {},
   "outputs": [
    {
     "data": {
      "text/plain": [
       "22.532806324110677"
      ]
     },
     "execution_count": 25,
     "metadata": {},
     "output_type": "execute_result"
    }
   ],
   "source": [
    "# Media de una característica específica\n",
    "np.mean(np.array(df_boston['MEDV']))"
   ]
  },
  {
   "cell_type": "markdown",
   "metadata": {},
   "source": [
    "##### Media con stats de Scipy\n",
    "- https://docs.scipy.org/doc/scipy/reference/generated/scipy.stats.describe.html#scipy.stats.describe"
   ]
  },
  {
   "cell_type": "code",
   "execution_count": 26,
   "metadata": {},
   "outputs": [
    {
     "data": {
      "text/html": [
       "<div>\n",
       "<style scoped>\n",
       "    .dataframe tbody tr th:only-of-type {\n",
       "        vertical-align: middle;\n",
       "    }\n",
       "\n",
       "    .dataframe tbody tr th {\n",
       "        vertical-align: top;\n",
       "    }\n",
       "\n",
       "    .dataframe thead th {\n",
       "        text-align: right;\n",
       "    }\n",
       "</style>\n",
       "<table border=\"1\" class=\"dataframe\">\n",
       "  <thead>\n",
       "    <tr style=\"text-align: right;\">\n",
       "      <th></th>\n",
       "      <th>media</th>\n",
       "    </tr>\n",
       "  </thead>\n",
       "  <tbody>\n",
       "    <tr>\n",
       "      <th>CRIM</th>\n",
       "      <td>3.613524</td>\n",
       "    </tr>\n",
       "    <tr>\n",
       "      <th>ZN</th>\n",
       "      <td>11.363636</td>\n",
       "    </tr>\n",
       "    <tr>\n",
       "      <th>INDUS</th>\n",
       "      <td>11.136779</td>\n",
       "    </tr>\n",
       "    <tr>\n",
       "      <th>NOX</th>\n",
       "      <td>0.554695</td>\n",
       "    </tr>\n",
       "    <tr>\n",
       "      <th>RM</th>\n",
       "      <td>6.284634</td>\n",
       "    </tr>\n",
       "    <tr>\n",
       "      <th>AGE</th>\n",
       "      <td>68.574901</td>\n",
       "    </tr>\n",
       "    <tr>\n",
       "      <th>DIS</th>\n",
       "      <td>3.795043</td>\n",
       "    </tr>\n",
       "    <tr>\n",
       "      <th>RAD</th>\n",
       "      <td>9.549407</td>\n",
       "    </tr>\n",
       "    <tr>\n",
       "      <th>TAX</th>\n",
       "      <td>408.237154</td>\n",
       "    </tr>\n",
       "    <tr>\n",
       "      <th>PTRATIO</th>\n",
       "      <td>18.455534</td>\n",
       "    </tr>\n",
       "    <tr>\n",
       "      <th>B</th>\n",
       "      <td>356.674032</td>\n",
       "    </tr>\n",
       "    <tr>\n",
       "      <th>LSTAT</th>\n",
       "      <td>12.653063</td>\n",
       "    </tr>\n",
       "    <tr>\n",
       "      <th>MEDV</th>\n",
       "      <td>22.532806</td>\n",
       "    </tr>\n",
       "  </tbody>\n",
       "</table>\n",
       "</div>"
      ],
      "text/plain": [
       "              media\n",
       "CRIM       3.613524\n",
       "ZN        11.363636\n",
       "INDUS     11.136779\n",
       "NOX        0.554695\n",
       "RM         6.284634\n",
       "AGE       68.574901\n",
       "DIS        3.795043\n",
       "RAD        9.549407\n",
       "TAX      408.237154\n",
       "PTRATIO   18.455534\n",
       "B        356.674032\n",
       "LSTAT     12.653063\n",
       "MEDV      22.532806"
      ]
     },
     "execution_count": 26,
     "metadata": {},
     "output_type": "execute_result"
    }
   ],
   "source": [
    "# Media de cada una de las variables del dataset (Utilizando el resumen arriba mostrado)\n",
    "pd.DataFrame(data=descrip_stat.mean, index=var_numericas, columns=['media'])"
   ]
  },
  {
   "cell_type": "code",
   "execution_count": 27,
   "metadata": {
    "scrolled": true
   },
   "outputs": [
    {
     "name": "stdout",
     "output_type": "stream",
     "text": [
      "La media de MEDV es 22.532806324110677\n"
     ]
    }
   ],
   "source": [
    "# Media de una característica específica\n",
    "var = 'MEDV'\n",
    "est_descript_medv = stats.describe(df_boston[var])\n",
    "print(f'La media de {var} es {float(est_descript_medv.mean)}')"
   ]
  },
  {
   "cell_type": "markdown",
   "metadata": {},
   "source": [
    "#### **Mediana**"
   ]
  },
  {
   "cell_type": "markdown",
   "metadata": {},
   "source": [
    "##### Mediana con Pandas"
   ]
  },
  {
   "cell_type": "code",
   "execution_count": 28,
   "metadata": {},
   "outputs": [
    {
     "data": {
      "text/plain": [
       "CRIM         0.25651\n",
       "ZN           0.00000\n",
       "INDUS        9.69000\n",
       "CHAS         0.00000\n",
       "NOX          0.53800\n",
       "RM           6.20850\n",
       "AGE         77.50000\n",
       "DIS          3.20745\n",
       "RAD          5.00000\n",
       "TAX        330.00000\n",
       "PTRATIO     19.05000\n",
       "B          391.44000\n",
       "LSTAT       11.36000\n",
       "MEDV        21.20000\n",
       "dtype: float64"
      ]
     },
     "execution_count": 28,
     "metadata": {},
     "output_type": "execute_result"
    }
   ],
   "source": [
    "# Mediana de cada una de las variables del dataset\n",
    "df_boston.median()"
   ]
  },
  {
   "cell_type": "code",
   "execution_count": 29,
   "metadata": {},
   "outputs": [
    {
     "data": {
      "text/plain": [
       "21.2"
      ]
     },
     "execution_count": 29,
     "metadata": {},
     "output_type": "execute_result"
    }
   ],
   "source": [
    "# Mediana de una característica específica\n",
    "df_boston['MEDV'].median()"
   ]
  },
  {
   "cell_type": "markdown",
   "metadata": {},
   "source": [
    "##### Mediana con Numpy"
   ]
  },
  {
   "cell_type": "code",
   "execution_count": 30,
   "metadata": {},
   "outputs": [
    {
     "data": {
      "text/html": [
       "<div>\n",
       "<style scoped>\n",
       "    .dataframe tbody tr th:only-of-type {\n",
       "        vertical-align: middle;\n",
       "    }\n",
       "\n",
       "    .dataframe tbody tr th {\n",
       "        vertical-align: top;\n",
       "    }\n",
       "\n",
       "    .dataframe thead th {\n",
       "        text-align: right;\n",
       "    }\n",
       "</style>\n",
       "<table border=\"1\" class=\"dataframe\">\n",
       "  <thead>\n",
       "    <tr style=\"text-align: right;\">\n",
       "      <th></th>\n",
       "      <th>mediana</th>\n",
       "    </tr>\n",
       "  </thead>\n",
       "  <tbody>\n",
       "    <tr>\n",
       "      <th>CRIM</th>\n",
       "      <td>0.25651</td>\n",
       "    </tr>\n",
       "    <tr>\n",
       "      <th>ZN</th>\n",
       "      <td>0.00000</td>\n",
       "    </tr>\n",
       "    <tr>\n",
       "      <th>INDUS</th>\n",
       "      <td>9.69000</td>\n",
       "    </tr>\n",
       "    <tr>\n",
       "      <th>NOX</th>\n",
       "      <td>0.53800</td>\n",
       "    </tr>\n",
       "    <tr>\n",
       "      <th>RM</th>\n",
       "      <td>6.20850</td>\n",
       "    </tr>\n",
       "    <tr>\n",
       "      <th>AGE</th>\n",
       "      <td>77.50000</td>\n",
       "    </tr>\n",
       "    <tr>\n",
       "      <th>DIS</th>\n",
       "      <td>3.20745</td>\n",
       "    </tr>\n",
       "    <tr>\n",
       "      <th>RAD</th>\n",
       "      <td>5.00000</td>\n",
       "    </tr>\n",
       "    <tr>\n",
       "      <th>TAX</th>\n",
       "      <td>330.00000</td>\n",
       "    </tr>\n",
       "    <tr>\n",
       "      <th>PTRATIO</th>\n",
       "      <td>19.05000</td>\n",
       "    </tr>\n",
       "    <tr>\n",
       "      <th>B</th>\n",
       "      <td>391.44000</td>\n",
       "    </tr>\n",
       "    <tr>\n",
       "      <th>LSTAT</th>\n",
       "      <td>11.36000</td>\n",
       "    </tr>\n",
       "    <tr>\n",
       "      <th>MEDV</th>\n",
       "      <td>21.20000</td>\n",
       "    </tr>\n",
       "  </tbody>\n",
       "</table>\n",
       "</div>"
      ],
      "text/plain": [
       "           mediana\n",
       "CRIM       0.25651\n",
       "ZN         0.00000\n",
       "INDUS      9.69000\n",
       "NOX        0.53800\n",
       "RM         6.20850\n",
       "AGE       77.50000\n",
       "DIS        3.20745\n",
       "RAD        5.00000\n",
       "TAX      330.00000\n",
       "PTRATIO   19.05000\n",
       "B        391.44000\n",
       "LSTAT     11.36000\n",
       "MEDV      21.20000"
      ]
     },
     "execution_count": 30,
     "metadata": {},
     "output_type": "execute_result"
    }
   ],
   "source": [
    "# Mediana de cada una de las variables del dataset\n",
    "medianas_np = np.median(np.array(df_boston[var_numericas]), axis=0)\n",
    "pd.DataFrame(data=medianas_np, index=var_numericas, columns=['mediana'])"
   ]
  },
  {
   "cell_type": "code",
   "execution_count": 31,
   "metadata": {},
   "outputs": [
    {
     "data": {
      "text/plain": [
       "21.2"
      ]
     },
     "execution_count": 31,
     "metadata": {},
     "output_type": "execute_result"
    }
   ],
   "source": [
    "# Mediana de una característica específica\n",
    "np.median(np.array(df_boston['MEDV']))"
   ]
  },
  {
   "cell_type": "markdown",
   "metadata": {},
   "source": [
    "#### **Moda**"
   ]
  },
  {
   "cell_type": "markdown",
   "metadata": {},
   "source": [
    "##### Moda con Pandas"
   ]
  },
  {
   "cell_type": "code",
   "execution_count": 32,
   "metadata": {},
   "outputs": [
    {
     "data": {
      "text/html": [
       "<div>\n",
       "<style scoped>\n",
       "    .dataframe tbody tr th:only-of-type {\n",
       "        vertical-align: middle;\n",
       "    }\n",
       "\n",
       "    .dataframe tbody tr th {\n",
       "        vertical-align: top;\n",
       "    }\n",
       "\n",
       "    .dataframe thead th {\n",
       "        text-align: right;\n",
       "    }\n",
       "</style>\n",
       "<table border=\"1\" class=\"dataframe\">\n",
       "  <thead>\n",
       "    <tr style=\"text-align: right;\">\n",
       "      <th></th>\n",
       "      <th>CRIM</th>\n",
       "      <th>ZN</th>\n",
       "      <th>INDUS</th>\n",
       "      <th>CHAS</th>\n",
       "      <th>NOX</th>\n",
       "      <th>RM</th>\n",
       "      <th>AGE</th>\n",
       "      <th>DIS</th>\n",
       "      <th>RAD</th>\n",
       "      <th>TAX</th>\n",
       "      <th>PTRATIO</th>\n",
       "      <th>B</th>\n",
       "      <th>LSTAT</th>\n",
       "      <th>MEDV</th>\n",
       "      <th>cat_RAD</th>\n",
       "    </tr>\n",
       "  </thead>\n",
       "  <tbody>\n",
       "    <tr>\n",
       "      <th>0</th>\n",
       "      <td>0.01501</td>\n",
       "      <td>0.0</td>\n",
       "      <td>18.1</td>\n",
       "      <td>0</td>\n",
       "      <td>0.538</td>\n",
       "      <td>5.713</td>\n",
       "      <td>100.0</td>\n",
       "      <td>3.4952</td>\n",
       "      <td>24.0</td>\n",
       "      <td>666.0</td>\n",
       "      <td>20.2</td>\n",
       "      <td>396.9</td>\n",
       "      <td>6.36</td>\n",
       "      <td>50.0</td>\n",
       "      <td>(0.999, 4.0]</td>\n",
       "    </tr>\n",
       "    <tr>\n",
       "      <th>1</th>\n",
       "      <td>14.33370</td>\n",
       "      <td>NaN</td>\n",
       "      <td>NaN</td>\n",
       "      <td>NaN</td>\n",
       "      <td>NaN</td>\n",
       "      <td>6.127</td>\n",
       "      <td>NaN</td>\n",
       "      <td>NaN</td>\n",
       "      <td>NaN</td>\n",
       "      <td>NaN</td>\n",
       "      <td>NaN</td>\n",
       "      <td>NaN</td>\n",
       "      <td>7.79</td>\n",
       "      <td>NaN</td>\n",
       "      <td>NaN</td>\n",
       "    </tr>\n",
       "    <tr>\n",
       "      <th>2</th>\n",
       "      <td>NaN</td>\n",
       "      <td>NaN</td>\n",
       "      <td>NaN</td>\n",
       "      <td>NaN</td>\n",
       "      <td>NaN</td>\n",
       "      <td>6.167</td>\n",
       "      <td>NaN</td>\n",
       "      <td>NaN</td>\n",
       "      <td>NaN</td>\n",
       "      <td>NaN</td>\n",
       "      <td>NaN</td>\n",
       "      <td>NaN</td>\n",
       "      <td>8.05</td>\n",
       "      <td>NaN</td>\n",
       "      <td>NaN</td>\n",
       "    </tr>\n",
       "    <tr>\n",
       "      <th>3</th>\n",
       "      <td>NaN</td>\n",
       "      <td>NaN</td>\n",
       "      <td>NaN</td>\n",
       "      <td>NaN</td>\n",
       "      <td>NaN</td>\n",
       "      <td>6.229</td>\n",
       "      <td>NaN</td>\n",
       "      <td>NaN</td>\n",
       "      <td>NaN</td>\n",
       "      <td>NaN</td>\n",
       "      <td>NaN</td>\n",
       "      <td>NaN</td>\n",
       "      <td>14.10</td>\n",
       "      <td>NaN</td>\n",
       "      <td>NaN</td>\n",
       "    </tr>\n",
       "    <tr>\n",
       "      <th>4</th>\n",
       "      <td>NaN</td>\n",
       "      <td>NaN</td>\n",
       "      <td>NaN</td>\n",
       "      <td>NaN</td>\n",
       "      <td>NaN</td>\n",
       "      <td>6.405</td>\n",
       "      <td>NaN</td>\n",
       "      <td>NaN</td>\n",
       "      <td>NaN</td>\n",
       "      <td>NaN</td>\n",
       "      <td>NaN</td>\n",
       "      <td>NaN</td>\n",
       "      <td>18.13</td>\n",
       "      <td>NaN</td>\n",
       "      <td>NaN</td>\n",
       "    </tr>\n",
       "    <tr>\n",
       "      <th>5</th>\n",
       "      <td>NaN</td>\n",
       "      <td>NaN</td>\n",
       "      <td>NaN</td>\n",
       "      <td>NaN</td>\n",
       "      <td>NaN</td>\n",
       "      <td>6.417</td>\n",
       "      <td>NaN</td>\n",
       "      <td>NaN</td>\n",
       "      <td>NaN</td>\n",
       "      <td>NaN</td>\n",
       "      <td>NaN</td>\n",
       "      <td>NaN</td>\n",
       "      <td>NaN</td>\n",
       "      <td>NaN</td>\n",
       "      <td>NaN</td>\n",
       "    </tr>\n",
       "  </tbody>\n",
       "</table>\n",
       "</div>"
      ],
      "text/plain": [
       "       CRIM   ZN  INDUS CHAS    NOX     RM    AGE     DIS   RAD    TAX  \\\n",
       "0   0.01501  0.0   18.1    0  0.538  5.713  100.0  3.4952  24.0  666.0   \n",
       "1  14.33370  NaN    NaN  NaN    NaN  6.127    NaN     NaN   NaN    NaN   \n",
       "2       NaN  NaN    NaN  NaN    NaN  6.167    NaN     NaN   NaN    NaN   \n",
       "3       NaN  NaN    NaN  NaN    NaN  6.229    NaN     NaN   NaN    NaN   \n",
       "4       NaN  NaN    NaN  NaN    NaN  6.405    NaN     NaN   NaN    NaN   \n",
       "5       NaN  NaN    NaN  NaN    NaN  6.417    NaN     NaN   NaN    NaN   \n",
       "\n",
       "   PTRATIO      B  LSTAT  MEDV       cat_RAD  \n",
       "0     20.2  396.9   6.36  50.0  (0.999, 4.0]  \n",
       "1      NaN    NaN   7.79   NaN           NaN  \n",
       "2      NaN    NaN   8.05   NaN           NaN  \n",
       "3      NaN    NaN  14.10   NaN           NaN  \n",
       "4      NaN    NaN  18.13   NaN           NaN  \n",
       "5      NaN    NaN    NaN   NaN           NaN  "
      ]
     },
     "execution_count": 32,
     "metadata": {},
     "output_type": "execute_result"
    }
   ],
   "source": [
    "# Moda de cada una de las variables del dataset\n",
    "df_boston.mode()"
   ]
  },
  {
   "cell_type": "code",
   "execution_count": 33,
   "metadata": {},
   "outputs": [
    {
     "data": {
      "text/plain": [
       "0    50.0\n",
       "dtype: float64"
      ]
     },
     "execution_count": 33,
     "metadata": {},
     "output_type": "execute_result"
    }
   ],
   "source": [
    "# Moda de una característica específica\n",
    "df_boston['MEDV'].mode()"
   ]
  },
  {
   "cell_type": "markdown",
   "metadata": {},
   "source": [
    "##### Moda con Numpy\n",
    "No existe manera directa"
   ]
  },
  {
   "cell_type": "markdown",
   "metadata": {},
   "source": [
    "##### Moda con stats de Scipy"
   ]
  },
  {
   "cell_type": "code",
   "execution_count": 34,
   "metadata": {},
   "outputs": [
    {
     "data": {
      "text/plain": [
       "ModeResult(mode=array([[0.01501, 0.0, 18.1, 0, 0.538, 5.713, 100.0, 3.4952, 24.0, 666.0,\n",
       "        20.2, 396.9, 6.36, 50.0, Interval(0.999, 4.0, closed='right')]],\n",
       "      dtype=object), count=array([[  2, 372, 132, 471,  23,   3,  43,   5, 132, 132, 140, 121,   3,\n",
       "         16, 192]]))"
      ]
     },
     "execution_count": 34,
     "metadata": {},
     "output_type": "execute_result"
    }
   ],
   "source": [
    "# Moda de cada una de las variables del dataset\n",
    "# Con la desventaja que no muestra todas las modas presentes\n",
    "modas = (stats.mode(df_boston))\n",
    "modas"
   ]
  },
  {
   "cell_type": "code",
   "execution_count": 35,
   "metadata": {},
   "outputs": [
    {
     "data": {
      "text/html": [
       "<div>\n",
       "<style scoped>\n",
       "    .dataframe tbody tr th:only-of-type {\n",
       "        vertical-align: middle;\n",
       "    }\n",
       "\n",
       "    .dataframe tbody tr th {\n",
       "        vertical-align: top;\n",
       "    }\n",
       "\n",
       "    .dataframe thead th {\n",
       "        text-align: right;\n",
       "    }\n",
       "</style>\n",
       "<table border=\"1\" class=\"dataframe\">\n",
       "  <thead>\n",
       "    <tr style=\"text-align: right;\">\n",
       "      <th></th>\n",
       "      <th>moda</th>\n",
       "      <th>frecuencia</th>\n",
       "    </tr>\n",
       "  </thead>\n",
       "  <tbody>\n",
       "    <tr>\n",
       "      <th>CRIM</th>\n",
       "      <td>0.01501</td>\n",
       "      <td>2</td>\n",
       "    </tr>\n",
       "    <tr>\n",
       "      <th>ZN</th>\n",
       "      <td>0</td>\n",
       "      <td>372</td>\n",
       "    </tr>\n",
       "    <tr>\n",
       "      <th>INDUS</th>\n",
       "      <td>18.1</td>\n",
       "      <td>132</td>\n",
       "    </tr>\n",
       "    <tr>\n",
       "      <th>CHAS</th>\n",
       "      <td>0</td>\n",
       "      <td>471</td>\n",
       "    </tr>\n",
       "    <tr>\n",
       "      <th>NOX</th>\n",
       "      <td>0.538</td>\n",
       "      <td>23</td>\n",
       "    </tr>\n",
       "    <tr>\n",
       "      <th>RM</th>\n",
       "      <td>5.713</td>\n",
       "      <td>3</td>\n",
       "    </tr>\n",
       "    <tr>\n",
       "      <th>AGE</th>\n",
       "      <td>100</td>\n",
       "      <td>43</td>\n",
       "    </tr>\n",
       "    <tr>\n",
       "      <th>DIS</th>\n",
       "      <td>3.4952</td>\n",
       "      <td>5</td>\n",
       "    </tr>\n",
       "    <tr>\n",
       "      <th>RAD</th>\n",
       "      <td>24</td>\n",
       "      <td>132</td>\n",
       "    </tr>\n",
       "    <tr>\n",
       "      <th>TAX</th>\n",
       "      <td>666</td>\n",
       "      <td>132</td>\n",
       "    </tr>\n",
       "    <tr>\n",
       "      <th>PTRATIO</th>\n",
       "      <td>20.2</td>\n",
       "      <td>140</td>\n",
       "    </tr>\n",
       "    <tr>\n",
       "      <th>B</th>\n",
       "      <td>396.9</td>\n",
       "      <td>121</td>\n",
       "    </tr>\n",
       "    <tr>\n",
       "      <th>LSTAT</th>\n",
       "      <td>6.36</td>\n",
       "      <td>3</td>\n",
       "    </tr>\n",
       "    <tr>\n",
       "      <th>MEDV</th>\n",
       "      <td>50</td>\n",
       "      <td>16</td>\n",
       "    </tr>\n",
       "    <tr>\n",
       "      <th>cat_RAD</th>\n",
       "      <td>(0.999, 4.0]</td>\n",
       "      <td>192</td>\n",
       "    </tr>\n",
       "  </tbody>\n",
       "</table>\n",
       "</div>"
      ],
      "text/plain": [
       "                 moda frecuencia\n",
       "CRIM          0.01501          2\n",
       "ZN                  0        372\n",
       "INDUS            18.1        132\n",
       "CHAS                0        471\n",
       "NOX             0.538         23\n",
       "RM              5.713          3\n",
       "AGE               100         43\n",
       "DIS            3.4952          5\n",
       "RAD                24        132\n",
       "TAX               666        132\n",
       "PTRATIO          20.2        140\n",
       "B               396.9        121\n",
       "LSTAT            6.36          3\n",
       "MEDV               50         16\n",
       "cat_RAD  (0.999, 4.0]        192"
      ]
     },
     "execution_count": 35,
     "metadata": {},
     "output_type": "execute_result"
    }
   ],
   "source": [
    "# Mostrado en tabla\n",
    "pd.DataFrame(data=np.c_[modas.mode.ravel(),modas.count.ravel()], index=df_boston.columns, columns=['moda', 'frecuencia'])"
   ]
  },
  {
   "cell_type": "code",
   "execution_count": 36,
   "metadata": {
    "scrolled": true
   },
   "outputs": [
    {
     "name": "stdout",
     "output_type": "stream",
     "text": [
      "La moda de MEDV es 50.0, con frecuencia de 16.0\n"
     ]
    }
   ],
   "source": [
    "# Moda de una característica específica\n",
    "var = 'MEDV'\n",
    "moda = stats.mode(df_boston[var])\n",
    "print(f'La moda de {var} es {float(moda.mode)}, con frecuencia de {float(moda.count)}')"
   ]
  },
  {
   "cell_type": "markdown",
   "metadata": {},
   "source": [
    "### Medidas de Posición"
   ]
  },
  {
   "cell_type": "markdown",
   "metadata": {},
   "source": [
    "#### **Cuartiles y percentiles**"
   ]
  },
  {
   "cell_type": "markdown",
   "metadata": {},
   "source": [
    "##### Usando Numpy"
   ]
  },
  {
   "cell_type": "code",
   "execution_count": 37,
   "metadata": {
    "scrolled": true
   },
   "outputs": [
    {
     "data": {
      "text/html": [
       "<div>\n",
       "<style scoped>\n",
       "    .dataframe tbody tr th:only-of-type {\n",
       "        vertical-align: middle;\n",
       "    }\n",
       "\n",
       "    .dataframe tbody tr th {\n",
       "        vertical-align: top;\n",
       "    }\n",
       "\n",
       "    .dataframe thead th {\n",
       "        text-align: right;\n",
       "    }\n",
       "</style>\n",
       "<table border=\"1\" class=\"dataframe\">\n",
       "  <thead>\n",
       "    <tr style=\"text-align: right;\">\n",
       "      <th></th>\n",
       "      <th>CRIM</th>\n",
       "      <th>ZN</th>\n",
       "      <th>INDUS</th>\n",
       "      <th>NOX</th>\n",
       "      <th>RM</th>\n",
       "      <th>AGE</th>\n",
       "      <th>DIS</th>\n",
       "      <th>RAD</th>\n",
       "      <th>TAX</th>\n",
       "      <th>PTRATIO</th>\n",
       "      <th>B</th>\n",
       "      <th>LSTAT</th>\n",
       "      <th>MEDV</th>\n",
       "    </tr>\n",
       "  </thead>\n",
       "  <tbody>\n",
       "    <tr>\n",
       "      <th>25</th>\n",
       "      <td>0.082045</td>\n",
       "      <td>0.0</td>\n",
       "      <td>5.19</td>\n",
       "      <td>0.449</td>\n",
       "      <td>5.8855</td>\n",
       "      <td>45.025</td>\n",
       "      <td>2.100175</td>\n",
       "      <td>4.0</td>\n",
       "      <td>279.0</td>\n",
       "      <td>17.40</td>\n",
       "      <td>375.3775</td>\n",
       "      <td>6.950</td>\n",
       "      <td>17.025</td>\n",
       "    </tr>\n",
       "    <tr>\n",
       "      <th>50</th>\n",
       "      <td>0.256510</td>\n",
       "      <td>0.0</td>\n",
       "      <td>9.69</td>\n",
       "      <td>0.538</td>\n",
       "      <td>6.2085</td>\n",
       "      <td>77.500</td>\n",
       "      <td>3.207450</td>\n",
       "      <td>5.0</td>\n",
       "      <td>330.0</td>\n",
       "      <td>19.05</td>\n",
       "      <td>391.4400</td>\n",
       "      <td>11.360</td>\n",
       "      <td>21.200</td>\n",
       "    </tr>\n",
       "    <tr>\n",
       "      <th>75</th>\n",
       "      <td>3.677083</td>\n",
       "      <td>12.5</td>\n",
       "      <td>18.10</td>\n",
       "      <td>0.624</td>\n",
       "      <td>6.6235</td>\n",
       "      <td>94.075</td>\n",
       "      <td>5.188425</td>\n",
       "      <td>24.0</td>\n",
       "      <td>666.0</td>\n",
       "      <td>20.20</td>\n",
       "      <td>396.2250</td>\n",
       "      <td>16.955</td>\n",
       "      <td>25.000</td>\n",
       "    </tr>\n",
       "  </tbody>\n",
       "</table>\n",
       "</div>"
      ],
      "text/plain": [
       "        CRIM    ZN  INDUS    NOX      RM     AGE       DIS   RAD    TAX  \\\n",
       "25  0.082045   0.0   5.19  0.449  5.8855  45.025  2.100175   4.0  279.0   \n",
       "50  0.256510   0.0   9.69  0.538  6.2085  77.500  3.207450   5.0  330.0   \n",
       "75  3.677083  12.5  18.10  0.624  6.6235  94.075  5.188425  24.0  666.0   \n",
       "\n",
       "    PTRATIO         B   LSTAT    MEDV  \n",
       "25    17.40  375.3775   6.950  17.025  \n",
       "50    19.05  391.4400  11.360  21.200  \n",
       "75    20.20  396.2250  16.955  25.000  "
      ]
     },
     "execution_count": 37,
     "metadata": {},
     "output_type": "execute_result"
    }
   ],
   "source": [
    "# Especificación de los cuartiles en probabilidad\n",
    "p_cuartiles = np.arange(.25, 1, .25)   # O np.array([0.25, 0.5 , 0.75]) para especificar uno a uno\n",
    "# Cálculo de los cuartiles\n",
    "valores_cuartiles = np.quantile(df_boston[var_numericas], p_cuartiles, axis=0)\n",
    "pd.DataFrame(data=valores_cuartiles, index=(p_cuartiles*100).astype(int), columns=var_numericas)"
   ]
  },
  {
   "cell_type": "code",
   "execution_count": 38,
   "metadata": {
    "scrolled": true
   },
   "outputs": [
    {
     "data": {
      "text/html": [
       "<div>\n",
       "<style scoped>\n",
       "    .dataframe tbody tr th:only-of-type {\n",
       "        vertical-align: middle;\n",
       "    }\n",
       "\n",
       "    .dataframe tbody tr th {\n",
       "        vertical-align: top;\n",
       "    }\n",
       "\n",
       "    .dataframe thead th {\n",
       "        text-align: right;\n",
       "    }\n",
       "</style>\n",
       "<table border=\"1\" class=\"dataframe\">\n",
       "  <thead>\n",
       "    <tr style=\"text-align: right;\">\n",
       "      <th></th>\n",
       "      <th>CRIM</th>\n",
       "      <th>ZN</th>\n",
       "      <th>INDUS</th>\n",
       "      <th>NOX</th>\n",
       "      <th>RM</th>\n",
       "      <th>AGE</th>\n",
       "      <th>DIS</th>\n",
       "      <th>RAD</th>\n",
       "      <th>TAX</th>\n",
       "      <th>PTRATIO</th>\n",
       "      <th>B</th>\n",
       "      <th>LSTAT</th>\n",
       "      <th>MEDV</th>\n",
       "    </tr>\n",
       "  </thead>\n",
       "  <tbody>\n",
       "    <tr>\n",
       "      <th>20</th>\n",
       "      <td>0.06417</td>\n",
       "      <td>0.0</td>\n",
       "      <td>4.39</td>\n",
       "      <td>0.442</td>\n",
       "      <td>5.837</td>\n",
       "      <td>37.8</td>\n",
       "      <td>1.9512</td>\n",
       "      <td>4.0</td>\n",
       "      <td>273.0</td>\n",
       "      <td>16.6</td>\n",
       "      <td>364.31</td>\n",
       "      <td>6.29</td>\n",
       "      <td>15.3</td>\n",
       "    </tr>\n",
       "    <tr>\n",
       "      <th>40</th>\n",
       "      <td>0.15038</td>\n",
       "      <td>0.0</td>\n",
       "      <td>7.38</td>\n",
       "      <td>0.507</td>\n",
       "      <td>6.086</td>\n",
       "      <td>65.4</td>\n",
       "      <td>2.6403</td>\n",
       "      <td>5.0</td>\n",
       "      <td>307.0</td>\n",
       "      <td>18.4</td>\n",
       "      <td>387.97</td>\n",
       "      <td>9.53</td>\n",
       "      <td>19.7</td>\n",
       "    </tr>\n",
       "    <tr>\n",
       "      <th>60</th>\n",
       "      <td>0.55007</td>\n",
       "      <td>0.0</td>\n",
       "      <td>12.83</td>\n",
       "      <td>0.575</td>\n",
       "      <td>6.376</td>\n",
       "      <td>85.9</td>\n",
       "      <td>3.8750</td>\n",
       "      <td>5.0</td>\n",
       "      <td>398.0</td>\n",
       "      <td>19.7</td>\n",
       "      <td>393.53</td>\n",
       "      <td>13.33</td>\n",
       "      <td>22.7</td>\n",
       "    </tr>\n",
       "    <tr>\n",
       "      <th>80</th>\n",
       "      <td>5.58107</td>\n",
       "      <td>20.0</td>\n",
       "      <td>18.10</td>\n",
       "      <td>0.668</td>\n",
       "      <td>6.750</td>\n",
       "      <td>95.6</td>\n",
       "      <td>5.6150</td>\n",
       "      <td>24.0</td>\n",
       "      <td>666.0</td>\n",
       "      <td>20.2</td>\n",
       "      <td>396.90</td>\n",
       "      <td>18.06</td>\n",
       "      <td>28.2</td>\n",
       "    </tr>\n",
       "  </tbody>\n",
       "</table>\n",
       "</div>"
      ],
      "text/plain": [
       "       CRIM    ZN  INDUS    NOX     RM   AGE     DIS   RAD    TAX  PTRATIO  \\\n",
       "20  0.06417   0.0   4.39  0.442  5.837  37.8  1.9512   4.0  273.0     16.6   \n",
       "40  0.15038   0.0   7.38  0.507  6.086  65.4  2.6403   5.0  307.0     18.4   \n",
       "60  0.55007   0.0  12.83  0.575  6.376  85.9  3.8750   5.0  398.0     19.7   \n",
       "80  5.58107  20.0  18.10  0.668  6.750  95.6  5.6150  24.0  666.0     20.2   \n",
       "\n",
       "         B  LSTAT  MEDV  \n",
       "20  364.31   6.29  15.3  \n",
       "40  387.97   9.53  19.7  \n",
       "60  393.53  13.33  22.7  \n",
       "80  396.90  18.06  28.2  "
      ]
     },
     "execution_count": 38,
     "metadata": {},
     "output_type": "execute_result"
    }
   ],
   "source": [
    "# Especificación de los percentiles en porcentajes\n",
    "p_percentiles = np.arange(20, 100, 20)   # O np.array([0.25, 0.5 , 0.75]) para especificar uno a uno\n",
    "# Cálculo de los percentiles\n",
    "valores_percentiles = np.percentile(df_boston[var_numericas], p_percentiles, axis=0)\n",
    "pd.DataFrame(data=valores_percentiles, index=p_percentiles, columns=var_numericas)"
   ]
  },
  {
   "cell_type": "code",
   "execution_count": 39,
   "metadata": {},
   "outputs": [
    {
     "name": "stdout",
     "output_type": "stream",
     "text": [
      "Cuartiles del Índice de Criminalidad:\n",
      "Q1=0.08204499999999999\n",
      "Q2=0.25651\n",
      "Q3=3.6770825\n"
     ]
    }
   ],
   "source": [
    "# Especificación de los cuartiles en probabilidad\n",
    "p_cuartiles = np.arange(.25, 1, .25)   # O np.array([.25, .50, .75]) para especificar uno a uno\n",
    "# Calculo de los cuartiles\n",
    "valores_cuartiles = np.quantile(df_boston['CRIM'], p_cuartiles)\n",
    "print(f'Cuartiles del Índice de Criminalidad:\\nQ1={valores_cuartiles[0]}\\nQ2={valores_cuartiles[1]}\\nQ3={valores_cuartiles[2]}')"
   ]
  },
  {
   "cell_type": "code",
   "execution_count": 40,
   "metadata": {},
   "outputs": [
    {
     "name": "stdout",
     "output_type": "stream",
     "text": [
      "Cuartiles del Índice de Criminalidad:\n",
      "Q1=0.08204499999999999\n",
      "Q2=0.25651\n",
      "Q3=3.6770825\n"
     ]
    }
   ],
   "source": [
    "# Especificación de los cuartiles en porcentajes\n",
    "p_cuartiles = np.arange(25, 100, 25)   # O np.array([25, 50, 75]) para especificar uno a uno\n",
    "# Calculo de los cuartiles\n",
    "valores_cuartiles = np.percentile(df_boston['CRIM'], p_cuartiles)\n",
    "print(f'Cuartiles del Índice de Criminalidad:\\nQ1={valores_cuartiles[0]}\\nQ2={valores_cuartiles[1]}\\nQ3={valores_cuartiles[2]}')"
   ]
  },
  {
   "cell_type": "markdown",
   "metadata": {},
   "source": [
    "### Medidas de Dispersión"
   ]
  },
  {
   "cell_type": "markdown",
   "metadata": {},
   "source": [
    "#### **Rango**"
   ]
  },
  {
   "cell_type": "markdown",
   "metadata": {},
   "source": [
    "##### Rango con Pandas"
   ]
  },
  {
   "cell_type": "code",
   "execution_count": 41,
   "metadata": {},
   "outputs": [
    {
     "data": {
      "text/plain": [
       "CRIM        88.96988\n",
       "ZN         100.00000\n",
       "INDUS       27.28000\n",
       "NOX          0.48600\n",
       "RM           5.21900\n",
       "AGE         97.10000\n",
       "DIS         10.99690\n",
       "RAD         23.00000\n",
       "TAX        524.00000\n",
       "PTRATIO      9.40000\n",
       "B          396.58000\n",
       "LSTAT       36.24000\n",
       "MEDV        45.00000\n",
       "dtype: float64"
      ]
     },
     "execution_count": 41,
     "metadata": {},
     "output_type": "execute_result"
    }
   ],
   "source": [
    "# Rango de cada una de las variables del dataset\n",
    "rangos = df_boston[var_numericas].max() - df_boston[var_numericas].min()\n",
    "rangos"
   ]
  },
  {
   "cell_type": "code",
   "execution_count": 42,
   "metadata": {},
   "outputs": [
    {
     "data": {
      "text/plain": [
       "45.0"
      ]
     },
     "execution_count": 42,
     "metadata": {},
     "output_type": "execute_result"
    }
   ],
   "source": [
    "# Rango de una característica específica\n",
    "df_boston['MEDV'].max() - df_boston['MEDV'].min()"
   ]
  },
  {
   "cell_type": "markdown",
   "metadata": {},
   "source": [
    "##### Rango con Numpy"
   ]
  },
  {
   "cell_type": "code",
   "execution_count": 43,
   "metadata": {},
   "outputs": [
    {
     "data": {
      "text/html": [
       "<div>\n",
       "<style scoped>\n",
       "    .dataframe tbody tr th:only-of-type {\n",
       "        vertical-align: middle;\n",
       "    }\n",
       "\n",
       "    .dataframe tbody tr th {\n",
       "        vertical-align: top;\n",
       "    }\n",
       "\n",
       "    .dataframe thead th {\n",
       "        text-align: right;\n",
       "    }\n",
       "</style>\n",
       "<table border=\"1\" class=\"dataframe\">\n",
       "  <thead>\n",
       "    <tr style=\"text-align: right;\">\n",
       "      <th></th>\n",
       "      <th>rango</th>\n",
       "    </tr>\n",
       "  </thead>\n",
       "  <tbody>\n",
       "    <tr>\n",
       "      <th>CRIM</th>\n",
       "      <td>88.96988</td>\n",
       "    </tr>\n",
       "    <tr>\n",
       "      <th>ZN</th>\n",
       "      <td>100.00000</td>\n",
       "    </tr>\n",
       "    <tr>\n",
       "      <th>INDUS</th>\n",
       "      <td>27.28000</td>\n",
       "    </tr>\n",
       "    <tr>\n",
       "      <th>NOX</th>\n",
       "      <td>0.48600</td>\n",
       "    </tr>\n",
       "    <tr>\n",
       "      <th>RM</th>\n",
       "      <td>5.21900</td>\n",
       "    </tr>\n",
       "    <tr>\n",
       "      <th>AGE</th>\n",
       "      <td>97.10000</td>\n",
       "    </tr>\n",
       "    <tr>\n",
       "      <th>DIS</th>\n",
       "      <td>10.99690</td>\n",
       "    </tr>\n",
       "    <tr>\n",
       "      <th>RAD</th>\n",
       "      <td>23.00000</td>\n",
       "    </tr>\n",
       "    <tr>\n",
       "      <th>TAX</th>\n",
       "      <td>524.00000</td>\n",
       "    </tr>\n",
       "    <tr>\n",
       "      <th>PTRATIO</th>\n",
       "      <td>9.40000</td>\n",
       "    </tr>\n",
       "    <tr>\n",
       "      <th>B</th>\n",
       "      <td>396.58000</td>\n",
       "    </tr>\n",
       "    <tr>\n",
       "      <th>LSTAT</th>\n",
       "      <td>36.24000</td>\n",
       "    </tr>\n",
       "    <tr>\n",
       "      <th>MEDV</th>\n",
       "      <td>45.00000</td>\n",
       "    </tr>\n",
       "  </tbody>\n",
       "</table>\n",
       "</div>"
      ],
      "text/plain": [
       "             rango\n",
       "CRIM      88.96988\n",
       "ZN       100.00000\n",
       "INDUS     27.28000\n",
       "NOX        0.48600\n",
       "RM         5.21900\n",
       "AGE       97.10000\n",
       "DIS       10.99690\n",
       "RAD       23.00000\n",
       "TAX      524.00000\n",
       "PTRATIO    9.40000\n",
       "B        396.58000\n",
       "LSTAT     36.24000\n",
       "MEDV      45.00000"
      ]
     },
     "execution_count": 43,
     "metadata": {},
     "output_type": "execute_result"
    }
   ],
   "source": [
    "# Rango de cada una de las variables del dataset\n",
    "rangos_np = np.max(np.array(df_boston[var_numericas]), axis=0) - np.min(np.array(df_boston[var_numericas]), axis=0)\n",
    "pd.DataFrame(data=rangos_np, index=var_numericas, columns=['rango'])"
   ]
  },
  {
   "cell_type": "code",
   "execution_count": 44,
   "metadata": {
    "scrolled": true
   },
   "outputs": [
    {
     "data": {
      "text/plain": [
       "45.0"
      ]
     },
     "execution_count": 44,
     "metadata": {},
     "output_type": "execute_result"
    }
   ],
   "source": [
    "# Rango de una característica específica\n",
    "np.max(np.array(df_boston['MEDV'])) - np.min(np.array(df_boston['MEDV']))"
   ]
  },
  {
   "cell_type": "markdown",
   "metadata": {},
   "source": [
    "**Otra manera**\n",
    "https://numpy.org/doc/stable/reference/generated/numpy.ptp.html?highlight=ptp#numpy.ptp"
   ]
  },
  {
   "cell_type": "code",
   "execution_count": 45,
   "metadata": {
    "run_control": {
     "marked": true
    }
   },
   "outputs": [
    {
     "data": {
      "text/html": [
       "<div>\n",
       "<style scoped>\n",
       "    .dataframe tbody tr th:only-of-type {\n",
       "        vertical-align: middle;\n",
       "    }\n",
       "\n",
       "    .dataframe tbody tr th {\n",
       "        vertical-align: top;\n",
       "    }\n",
       "\n",
       "    .dataframe thead th {\n",
       "        text-align: right;\n",
       "    }\n",
       "</style>\n",
       "<table border=\"1\" class=\"dataframe\">\n",
       "  <thead>\n",
       "    <tr style=\"text-align: right;\">\n",
       "      <th></th>\n",
       "      <th>moda</th>\n",
       "    </tr>\n",
       "  </thead>\n",
       "  <tbody>\n",
       "    <tr>\n",
       "      <th>CRIM</th>\n",
       "      <td>88.96988</td>\n",
       "    </tr>\n",
       "    <tr>\n",
       "      <th>ZN</th>\n",
       "      <td>100.00000</td>\n",
       "    </tr>\n",
       "    <tr>\n",
       "      <th>INDUS</th>\n",
       "      <td>27.28000</td>\n",
       "    </tr>\n",
       "    <tr>\n",
       "      <th>NOX</th>\n",
       "      <td>0.48600</td>\n",
       "    </tr>\n",
       "    <tr>\n",
       "      <th>RM</th>\n",
       "      <td>5.21900</td>\n",
       "    </tr>\n",
       "    <tr>\n",
       "      <th>AGE</th>\n",
       "      <td>97.10000</td>\n",
       "    </tr>\n",
       "    <tr>\n",
       "      <th>DIS</th>\n",
       "      <td>10.99690</td>\n",
       "    </tr>\n",
       "    <tr>\n",
       "      <th>RAD</th>\n",
       "      <td>23.00000</td>\n",
       "    </tr>\n",
       "    <tr>\n",
       "      <th>TAX</th>\n",
       "      <td>524.00000</td>\n",
       "    </tr>\n",
       "    <tr>\n",
       "      <th>PTRATIO</th>\n",
       "      <td>9.40000</td>\n",
       "    </tr>\n",
       "    <tr>\n",
       "      <th>B</th>\n",
       "      <td>396.58000</td>\n",
       "    </tr>\n",
       "    <tr>\n",
       "      <th>LSTAT</th>\n",
       "      <td>36.24000</td>\n",
       "    </tr>\n",
       "    <tr>\n",
       "      <th>MEDV</th>\n",
       "      <td>45.00000</td>\n",
       "    </tr>\n",
       "  </tbody>\n",
       "</table>\n",
       "</div>"
      ],
      "text/plain": [
       "              moda\n",
       "CRIM      88.96988\n",
       "ZN       100.00000\n",
       "INDUS     27.28000\n",
       "NOX        0.48600\n",
       "RM         5.21900\n",
       "AGE       97.10000\n",
       "DIS       10.99690\n",
       "RAD       23.00000\n",
       "TAX      524.00000\n",
       "PTRATIO    9.40000\n",
       "B        396.58000\n",
       "LSTAT     36.24000\n",
       "MEDV      45.00000"
      ]
     },
     "execution_count": 45,
     "metadata": {},
     "output_type": "execute_result"
    }
   ],
   "source": [
    "# Rango de cada una de las variables del dataset\n",
    "rango_np2 = np.ptp(np.array(df_boston[var_numericas]), axis=0)\n",
    "pd.DataFrame(data=rango_np2, index=var_numericas, columns=['moda'])"
   ]
  },
  {
   "cell_type": "code",
   "execution_count": 46,
   "metadata": {},
   "outputs": [
    {
     "data": {
      "text/plain": [
       "45.0"
      ]
     },
     "execution_count": 46,
     "metadata": {},
     "output_type": "execute_result"
    }
   ],
   "source": [
    "# Rango de una característica específica\n",
    "np.ptp(np.array(df_boston['MEDV']))"
   ]
  },
  {
   "cell_type": "markdown",
   "metadata": {},
   "source": [
    "#### **Varianza**"
   ]
  },
  {
   "cell_type": "markdown",
   "metadata": {},
   "source": [
    "##### Varianza con Pandas"
   ]
  },
  {
   "cell_type": "code",
   "execution_count": 47,
   "metadata": {},
   "outputs": [
    {
     "data": {
      "text/plain": [
       "CRIM          73.986578\n",
       "ZN           543.936814\n",
       "INDUS         47.064442\n",
       "NOX            0.013428\n",
       "RM             0.493671\n",
       "AGE          792.358399\n",
       "DIS            4.434015\n",
       "RAD           75.816366\n",
       "TAX        28404.759488\n",
       "PTRATIO        4.686989\n",
       "B           8334.752263\n",
       "LSTAT         50.994760\n",
       "MEDV          84.586724\n",
       "dtype: float64"
      ]
     },
     "execution_count": 47,
     "metadata": {},
     "output_type": "execute_result"
    }
   ],
   "source": [
    "# Varianza de cada una de las variables del dataset\n",
    "varianzas = df_boston[var_numericas].var()\n",
    "varianzas"
   ]
  },
  {
   "cell_type": "code",
   "execution_count": 48,
   "metadata": {},
   "outputs": [
    {
     "data": {
      "text/plain": [
       "792.358398505068"
      ]
     },
     "execution_count": 48,
     "metadata": {},
     "output_type": "execute_result"
    }
   ],
   "source": [
    "# Varianza de una característica específica\n",
    "df_boston['AGE'].var()"
   ]
  },
  {
   "cell_type": "markdown",
   "metadata": {},
   "source": [
    "##### Varianza con Numpy"
   ]
  },
  {
   "cell_type": "code",
   "execution_count": 49,
   "metadata": {},
   "outputs": [
    {
     "data": {
      "text/html": [
       "<div>\n",
       "<style scoped>\n",
       "    .dataframe tbody tr th:only-of-type {\n",
       "        vertical-align: middle;\n",
       "    }\n",
       "\n",
       "    .dataframe tbody tr th {\n",
       "        vertical-align: top;\n",
       "    }\n",
       "\n",
       "    .dataframe thead th {\n",
       "        text-align: right;\n",
       "    }\n",
       "</style>\n",
       "<table border=\"1\" class=\"dataframe\">\n",
       "  <thead>\n",
       "    <tr style=\"text-align: right;\">\n",
       "      <th></th>\n",
       "      <th>varianza</th>\n",
       "    </tr>\n",
       "  </thead>\n",
       "  <tbody>\n",
       "    <tr>\n",
       "      <th>CRIM</th>\n",
       "      <td>73.840360</td>\n",
       "    </tr>\n",
       "    <tr>\n",
       "      <th>ZN</th>\n",
       "      <td>542.861840</td>\n",
       "    </tr>\n",
       "    <tr>\n",
       "      <th>INDUS</th>\n",
       "      <td>46.971430</td>\n",
       "    </tr>\n",
       "    <tr>\n",
       "      <th>NOX</th>\n",
       "      <td>0.013401</td>\n",
       "    </tr>\n",
       "    <tr>\n",
       "      <th>RM</th>\n",
       "      <td>0.492695</td>\n",
       "    </tr>\n",
       "    <tr>\n",
       "      <th>AGE</th>\n",
       "      <td>790.792473</td>\n",
       "    </tr>\n",
       "    <tr>\n",
       "      <th>DIS</th>\n",
       "      <td>4.425252</td>\n",
       "    </tr>\n",
       "    <tr>\n",
       "      <th>RAD</th>\n",
       "      <td>75.666531</td>\n",
       "    </tr>\n",
       "    <tr>\n",
       "      <th>TAX</th>\n",
       "      <td>28348.623600</td>\n",
       "    </tr>\n",
       "    <tr>\n",
       "      <th>PTRATIO</th>\n",
       "      <td>4.677726</td>\n",
       "    </tr>\n",
       "    <tr>\n",
       "      <th>B</th>\n",
       "      <td>8318.280421</td>\n",
       "    </tr>\n",
       "    <tr>\n",
       "      <th>LSTAT</th>\n",
       "      <td>50.893979</td>\n",
       "    </tr>\n",
       "    <tr>\n",
       "      <th>MEDV</th>\n",
       "      <td>84.419556</td>\n",
       "    </tr>\n",
       "  </tbody>\n",
       "</table>\n",
       "</div>"
      ],
      "text/plain": [
       "             varianza\n",
       "CRIM        73.840360\n",
       "ZN         542.861840\n",
       "INDUS       46.971430\n",
       "NOX          0.013401\n",
       "RM           0.492695\n",
       "AGE        790.792473\n",
       "DIS          4.425252\n",
       "RAD         75.666531\n",
       "TAX      28348.623600\n",
       "PTRATIO      4.677726\n",
       "B         8318.280421\n",
       "LSTAT       50.893979\n",
       "MEDV        84.419556"
      ]
     },
     "execution_count": 49,
     "metadata": {},
     "output_type": "execute_result"
    }
   ],
   "source": [
    "# Varianza de cada una de las variables del dataset\n",
    "varianzas_np = np.var(np.array(df_boston[var_numericas]), axis=0)\n",
    "pd.DataFrame(data=varianzas_np, index=[var_numericas], columns=['varianza'])"
   ]
  },
  {
   "cell_type": "code",
   "execution_count": 50,
   "metadata": {
    "scrolled": true
   },
   "outputs": [
    {
     "data": {
      "text/plain": [
       "790.7924728163227"
      ]
     },
     "execution_count": 50,
     "metadata": {},
     "output_type": "execute_result"
    }
   ],
   "source": [
    "# Varianza de una característica específica\n",
    "np.var(np.array(df_boston['AGE']))"
   ]
  },
  {
   "cell_type": "markdown",
   "metadata": {},
   "source": [
    "##### Varianza con stats de Scipy"
   ]
  },
  {
   "cell_type": "code",
   "execution_count": 51,
   "metadata": {},
   "outputs": [
    {
     "data": {
      "text/html": [
       "<div>\n",
       "<style scoped>\n",
       "    .dataframe tbody tr th:only-of-type {\n",
       "        vertical-align: middle;\n",
       "    }\n",
       "\n",
       "    .dataframe tbody tr th {\n",
       "        vertical-align: top;\n",
       "    }\n",
       "\n",
       "    .dataframe thead th {\n",
       "        text-align: right;\n",
       "    }\n",
       "</style>\n",
       "<table border=\"1\" class=\"dataframe\">\n",
       "  <thead>\n",
       "    <tr style=\"text-align: right;\">\n",
       "      <th></th>\n",
       "      <th>varianza</th>\n",
       "    </tr>\n",
       "  </thead>\n",
       "  <tbody>\n",
       "    <tr>\n",
       "      <th>CRIM</th>\n",
       "      <td>73.986578</td>\n",
       "    </tr>\n",
       "    <tr>\n",
       "      <th>ZN</th>\n",
       "      <td>543.936814</td>\n",
       "    </tr>\n",
       "    <tr>\n",
       "      <th>INDUS</th>\n",
       "      <td>47.064442</td>\n",
       "    </tr>\n",
       "    <tr>\n",
       "      <th>NOX</th>\n",
       "      <td>0.013428</td>\n",
       "    </tr>\n",
       "    <tr>\n",
       "      <th>RM</th>\n",
       "      <td>0.493671</td>\n",
       "    </tr>\n",
       "    <tr>\n",
       "      <th>AGE</th>\n",
       "      <td>792.358399</td>\n",
       "    </tr>\n",
       "    <tr>\n",
       "      <th>DIS</th>\n",
       "      <td>4.434015</td>\n",
       "    </tr>\n",
       "    <tr>\n",
       "      <th>RAD</th>\n",
       "      <td>75.816366</td>\n",
       "    </tr>\n",
       "    <tr>\n",
       "      <th>TAX</th>\n",
       "      <td>28404.759488</td>\n",
       "    </tr>\n",
       "    <tr>\n",
       "      <th>PTRATIO</th>\n",
       "      <td>4.686989</td>\n",
       "    </tr>\n",
       "    <tr>\n",
       "      <th>B</th>\n",
       "      <td>8334.752263</td>\n",
       "    </tr>\n",
       "    <tr>\n",
       "      <th>LSTAT</th>\n",
       "      <td>50.994760</td>\n",
       "    </tr>\n",
       "    <tr>\n",
       "      <th>MEDV</th>\n",
       "      <td>84.586724</td>\n",
       "    </tr>\n",
       "  </tbody>\n",
       "</table>\n",
       "</div>"
      ],
      "text/plain": [
       "             varianza\n",
       "CRIM        73.986578\n",
       "ZN         543.936814\n",
       "INDUS       47.064442\n",
       "NOX          0.013428\n",
       "RM           0.493671\n",
       "AGE        792.358399\n",
       "DIS          4.434015\n",
       "RAD         75.816366\n",
       "TAX      28404.759488\n",
       "PTRATIO      4.686989\n",
       "B         8334.752263\n",
       "LSTAT       50.994760\n",
       "MEDV        84.586724"
      ]
     },
     "execution_count": 51,
     "metadata": {},
     "output_type": "execute_result"
    }
   ],
   "source": [
    "# Varianza de cada una de las variables del dataset\n",
    "pd.DataFrame(data=descrip_stat.variance, index=var_numericas, columns=['varianza'])"
   ]
  },
  {
   "cell_type": "code",
   "execution_count": 52,
   "metadata": {
    "scrolled": true
   },
   "outputs": [
    {
     "name": "stdout",
     "output_type": "stream",
     "text": [
      "La varianza de AGE es 792.358398505068\n"
     ]
    }
   ],
   "source": [
    "# Varianza de una característica específica\n",
    "var = 'AGE'\n",
    "est_descript_medv = stats.describe(df_boston[var])\n",
    "print(f'La varianza de {var} es {float(est_descript_medv.variance)}')"
   ]
  },
  {
   "cell_type": "markdown",
   "metadata": {},
   "source": [
    "#### **Desviación estándar**"
   ]
  },
  {
   "cell_type": "markdown",
   "metadata": {},
   "source": [
    "##### Desviación estándar con Pandas"
   ]
  },
  {
   "cell_type": "code",
   "execution_count": 53,
   "metadata": {},
   "outputs": [
    {
     "data": {
      "text/plain": [
       "CRIM         8.601545\n",
       "ZN          23.322453\n",
       "INDUS        6.860353\n",
       "NOX          0.115878\n",
       "RM           0.702617\n",
       "AGE         28.148861\n",
       "DIS          2.105710\n",
       "RAD          8.707259\n",
       "TAX        168.537116\n",
       "PTRATIO      2.164946\n",
       "B           91.294864\n",
       "LSTAT        7.141062\n",
       "MEDV         9.197104\n",
       "dtype: float64"
      ]
     },
     "execution_count": 53,
     "metadata": {},
     "output_type": "execute_result"
    }
   ],
   "source": [
    "# Desviación estándar de cada una de las variables del dataset\n",
    "desv_ests = df_boston[var_numericas].std()    # ddof=1 por defecto\n",
    "desv_ests"
   ]
  },
  {
   "cell_type": "code",
   "execution_count": 54,
   "metadata": {},
   "outputs": [
    {
     "data": {
      "text/plain": [
       "28.148861406903617"
      ]
     },
     "execution_count": 54,
     "metadata": {},
     "output_type": "execute_result"
    }
   ],
   "source": [
    "# Desviación estándar de una característica específica\n",
    "df_boston['AGE'].std(ddof=1)"
   ]
  },
  {
   "cell_type": "code",
   "execution_count": 55,
   "metadata": {},
   "outputs": [
    {
     "data": {
      "text/plain": [
       "28.121032570236867"
      ]
     },
     "execution_count": 55,
     "metadata": {},
     "output_type": "execute_result"
    }
   ],
   "source": [
    "# Desviación estándar de una característica específica\n",
    "df_boston['AGE'].std(ddof=0)"
   ]
  },
  {
   "cell_type": "markdown",
   "metadata": {},
   "source": [
    "##### Desviación estándar con Numpy"
   ]
  },
  {
   "cell_type": "code",
   "execution_count": 56,
   "metadata": {},
   "outputs": [
    {
     "data": {
      "text/html": [
       "<div>\n",
       "<style scoped>\n",
       "    .dataframe tbody tr th:only-of-type {\n",
       "        vertical-align: middle;\n",
       "    }\n",
       "\n",
       "    .dataframe tbody tr th {\n",
       "        vertical-align: top;\n",
       "    }\n",
       "\n",
       "    .dataframe thead th {\n",
       "        text-align: right;\n",
       "    }\n",
       "</style>\n",
       "<table border=\"1\" class=\"dataframe\">\n",
       "  <thead>\n",
       "    <tr style=\"text-align: right;\">\n",
       "      <th></th>\n",
       "      <th>desv_estandar</th>\n",
       "    </tr>\n",
       "  </thead>\n",
       "  <tbody>\n",
       "    <tr>\n",
       "      <th>CRIM</th>\n",
       "      <td>8.593041</td>\n",
       "    </tr>\n",
       "    <tr>\n",
       "      <th>ZN</th>\n",
       "      <td>23.299396</td>\n",
       "    </tr>\n",
       "    <tr>\n",
       "      <th>INDUS</th>\n",
       "      <td>6.853571</td>\n",
       "    </tr>\n",
       "    <tr>\n",
       "      <th>NOX</th>\n",
       "      <td>0.115763</td>\n",
       "    </tr>\n",
       "    <tr>\n",
       "      <th>RM</th>\n",
       "      <td>0.701923</td>\n",
       "    </tr>\n",
       "    <tr>\n",
       "      <th>AGE</th>\n",
       "      <td>28.121033</td>\n",
       "    </tr>\n",
       "    <tr>\n",
       "      <th>DIS</th>\n",
       "      <td>2.103628</td>\n",
       "    </tr>\n",
       "    <tr>\n",
       "      <th>RAD</th>\n",
       "      <td>8.698651</td>\n",
       "    </tr>\n",
       "    <tr>\n",
       "      <th>TAX</th>\n",
       "      <td>168.370495</td>\n",
       "    </tr>\n",
       "    <tr>\n",
       "      <th>PTRATIO</th>\n",
       "      <td>2.162805</td>\n",
       "    </tr>\n",
       "    <tr>\n",
       "      <th>B</th>\n",
       "      <td>91.204607</td>\n",
       "    </tr>\n",
       "    <tr>\n",
       "      <th>LSTAT</th>\n",
       "      <td>7.134002</td>\n",
       "    </tr>\n",
       "    <tr>\n",
       "      <th>MEDV</th>\n",
       "      <td>9.188012</td>\n",
       "    </tr>\n",
       "  </tbody>\n",
       "</table>\n",
       "</div>"
      ],
      "text/plain": [
       "         desv_estandar\n",
       "CRIM          8.593041\n",
       "ZN           23.299396\n",
       "INDUS         6.853571\n",
       "NOX           0.115763\n",
       "RM            0.701923\n",
       "AGE          28.121033\n",
       "DIS           2.103628\n",
       "RAD           8.698651\n",
       "TAX         168.370495\n",
       "PTRATIO       2.162805\n",
       "B            91.204607\n",
       "LSTAT         7.134002\n",
       "MEDV          9.188012"
      ]
     },
     "execution_count": 56,
     "metadata": {},
     "output_type": "execute_result"
    }
   ],
   "source": [
    "# Desviación estándar de cada una de las variables del dataset\n",
    "desv_ests_np = np.std(np.array(df_boston[var_numericas]), axis=0)\n",
    "pd.DataFrame(data=desv_ests_np, index=var_numericas, columns=['desv_estandar'])"
   ]
  },
  {
   "cell_type": "code",
   "execution_count": 57,
   "metadata": {
    "scrolled": true
   },
   "outputs": [
    {
     "data": {
      "text/plain": [
       "28.121032570236867"
      ]
     },
     "execution_count": 57,
     "metadata": {},
     "output_type": "execute_result"
    }
   ],
   "source": [
    "# Desviación estándar de una característica específica\n",
    "np.std(np.array(df_boston['AGE']))"
   ]
  },
  {
   "cell_type": "markdown",
   "metadata": {},
   "source": [
    "##### Desviación estándar con stats de Scipy"
   ]
  },
  {
   "cell_type": "code",
   "execution_count": 58,
   "metadata": {},
   "outputs": [
    {
     "data": {
      "text/html": [
       "<div>\n",
       "<style scoped>\n",
       "    .dataframe tbody tr th:only-of-type {\n",
       "        vertical-align: middle;\n",
       "    }\n",
       "\n",
       "    .dataframe tbody tr th {\n",
       "        vertical-align: top;\n",
       "    }\n",
       "\n",
       "    .dataframe thead th {\n",
       "        text-align: right;\n",
       "    }\n",
       "</style>\n",
       "<table border=\"1\" class=\"dataframe\">\n",
       "  <thead>\n",
       "    <tr style=\"text-align: right;\">\n",
       "      <th></th>\n",
       "      <th>desv_estandar</th>\n",
       "    </tr>\n",
       "  </thead>\n",
       "  <tbody>\n",
       "    <tr>\n",
       "      <th>CRIM</th>\n",
       "      <td>8.601545</td>\n",
       "    </tr>\n",
       "    <tr>\n",
       "      <th>ZN</th>\n",
       "      <td>23.322453</td>\n",
       "    </tr>\n",
       "    <tr>\n",
       "      <th>INDUS</th>\n",
       "      <td>6.860353</td>\n",
       "    </tr>\n",
       "    <tr>\n",
       "      <th>NOX</th>\n",
       "      <td>0.115878</td>\n",
       "    </tr>\n",
       "    <tr>\n",
       "      <th>RM</th>\n",
       "      <td>0.702617</td>\n",
       "    </tr>\n",
       "    <tr>\n",
       "      <th>AGE</th>\n",
       "      <td>28.148861</td>\n",
       "    </tr>\n",
       "    <tr>\n",
       "      <th>DIS</th>\n",
       "      <td>2.105710</td>\n",
       "    </tr>\n",
       "    <tr>\n",
       "      <th>RAD</th>\n",
       "      <td>8.707259</td>\n",
       "    </tr>\n",
       "    <tr>\n",
       "      <th>TAX</th>\n",
       "      <td>168.537116</td>\n",
       "    </tr>\n",
       "    <tr>\n",
       "      <th>PTRATIO</th>\n",
       "      <td>2.164946</td>\n",
       "    </tr>\n",
       "    <tr>\n",
       "      <th>B</th>\n",
       "      <td>91.294864</td>\n",
       "    </tr>\n",
       "    <tr>\n",
       "      <th>LSTAT</th>\n",
       "      <td>7.141062</td>\n",
       "    </tr>\n",
       "    <tr>\n",
       "      <th>MEDV</th>\n",
       "      <td>9.197104</td>\n",
       "    </tr>\n",
       "  </tbody>\n",
       "</table>\n",
       "</div>"
      ],
      "text/plain": [
       "         desv_estandar\n",
       "CRIM          8.601545\n",
       "ZN           23.322453\n",
       "INDUS         6.860353\n",
       "NOX           0.115878\n",
       "RM            0.702617\n",
       "AGE          28.148861\n",
       "DIS           2.105710\n",
       "RAD           8.707259\n",
       "TAX         168.537116\n",
       "PTRATIO       2.164946\n",
       "B            91.294864\n",
       "LSTAT         7.141062\n",
       "MEDV          9.197104"
      ]
     },
     "execution_count": 58,
     "metadata": {},
     "output_type": "execute_result"
    }
   ],
   "source": [
    "# Desviación estándar de cada una de las variables del dataset\n",
    "pd.DataFrame(data=np.sqrt(descrip_stat.variance), index=var_numericas, columns=['desv_estandar'])"
   ]
  },
  {
   "cell_type": "code",
   "execution_count": 59,
   "metadata": {},
   "outputs": [
    {
     "name": "stdout",
     "output_type": "stream",
     "text": [
      "La desviación estándar de AGE es 28.148861406903617\n"
     ]
    }
   ],
   "source": [
    "# Desviación estándar de una característica específica\n",
    "var = 'AGE'\n",
    "est_descript_medv = stats.describe(df_boston[var])\n",
    "print(f'La desviación estándar de {var} es {float(math.sqrt(est_descript_medv.variance))}')   # válido math.sqrt o np.sqrt"
   ]
  },
  {
   "cell_type": "markdown",
   "metadata": {},
   "source": [
    "#### **Rango intercuartil**"
   ]
  },
  {
   "cell_type": "markdown",
   "metadata": {},
   "source": [
    "##### Rango intercuartil con Pandas"
   ]
  },
  {
   "cell_type": "code",
   "execution_count": 60,
   "metadata": {},
   "outputs": [
    {
     "data": {
      "text/plain": [
       "CRIM         3.595038\n",
       "ZN          12.500000\n",
       "INDUS       12.910000\n",
       "NOX          0.175000\n",
       "RM           0.738000\n",
       "AGE         49.050000\n",
       "DIS          3.088250\n",
       "RAD         20.000000\n",
       "TAX        387.000000\n",
       "PTRATIO      2.800000\n",
       "B           20.847500\n",
       "LSTAT       10.005000\n",
       "MEDV         7.975000\n",
       "dtype: float64"
      ]
     },
     "execution_count": 60,
     "metadata": {},
     "output_type": "execute_result"
    }
   ],
   "source": [
    "# Rango intercuartil de cada una de las variables del dataset\n",
    "rango_intercuartil = df_boston.quantile(0.75) - df_boston.quantile(0.25)\n",
    "rango_intercuartil"
   ]
  },
  {
   "cell_type": "code",
   "execution_count": 61,
   "metadata": {},
   "outputs": [
    {
     "data": {
      "text/plain": [
       "7.975000000000001"
      ]
     },
     "execution_count": 61,
     "metadata": {},
     "output_type": "execute_result"
    }
   ],
   "source": [
    "# Rango intercuartil de una característica específica\n",
    "df_boston['MEDV'].quantile(0.75) - df_boston['MEDV'].quantile(0.25)"
   ]
  },
  {
   "cell_type": "markdown",
   "metadata": {},
   "source": [
    "##### Rango intercuartil con Numpy"
   ]
  },
  {
   "cell_type": "code",
   "execution_count": 62,
   "metadata": {},
   "outputs": [
    {
     "data": {
      "text/html": [
       "<div>\n",
       "<style scoped>\n",
       "    .dataframe tbody tr th:only-of-type {\n",
       "        vertical-align: middle;\n",
       "    }\n",
       "\n",
       "    .dataframe tbody tr th {\n",
       "        vertical-align: top;\n",
       "    }\n",
       "\n",
       "    .dataframe thead th {\n",
       "        text-align: right;\n",
       "    }\n",
       "</style>\n",
       "<table border=\"1\" class=\"dataframe\">\n",
       "  <thead>\n",
       "    <tr style=\"text-align: right;\">\n",
       "      <th></th>\n",
       "      <th>rango_intercuartil</th>\n",
       "    </tr>\n",
       "  </thead>\n",
       "  <tbody>\n",
       "    <tr>\n",
       "      <th>CRIM</th>\n",
       "      <td>3.595038</td>\n",
       "    </tr>\n",
       "    <tr>\n",
       "      <th>ZN</th>\n",
       "      <td>12.500000</td>\n",
       "    </tr>\n",
       "    <tr>\n",
       "      <th>INDUS</th>\n",
       "      <td>12.910000</td>\n",
       "    </tr>\n",
       "    <tr>\n",
       "      <th>NOX</th>\n",
       "      <td>0.175000</td>\n",
       "    </tr>\n",
       "    <tr>\n",
       "      <th>RM</th>\n",
       "      <td>0.738000</td>\n",
       "    </tr>\n",
       "    <tr>\n",
       "      <th>AGE</th>\n",
       "      <td>49.050000</td>\n",
       "    </tr>\n",
       "    <tr>\n",
       "      <th>DIS</th>\n",
       "      <td>3.088250</td>\n",
       "    </tr>\n",
       "    <tr>\n",
       "      <th>RAD</th>\n",
       "      <td>20.000000</td>\n",
       "    </tr>\n",
       "    <tr>\n",
       "      <th>TAX</th>\n",
       "      <td>387.000000</td>\n",
       "    </tr>\n",
       "    <tr>\n",
       "      <th>PTRATIO</th>\n",
       "      <td>2.800000</td>\n",
       "    </tr>\n",
       "    <tr>\n",
       "      <th>B</th>\n",
       "      <td>20.847500</td>\n",
       "    </tr>\n",
       "    <tr>\n",
       "      <th>LSTAT</th>\n",
       "      <td>10.005000</td>\n",
       "    </tr>\n",
       "    <tr>\n",
       "      <th>MEDV</th>\n",
       "      <td>7.975000</td>\n",
       "    </tr>\n",
       "  </tbody>\n",
       "</table>\n",
       "</div>"
      ],
      "text/plain": [
       "         rango_intercuartil\n",
       "CRIM               3.595038\n",
       "ZN                12.500000\n",
       "INDUS             12.910000\n",
       "NOX                0.175000\n",
       "RM                 0.738000\n",
       "AGE               49.050000\n",
       "DIS                3.088250\n",
       "RAD               20.000000\n",
       "TAX              387.000000\n",
       "PTRATIO            2.800000\n",
       "B                 20.847500\n",
       "LSTAT             10.005000\n",
       "MEDV               7.975000"
      ]
     },
     "execution_count": 62,
     "metadata": {},
     "output_type": "execute_result"
    }
   ],
   "source": [
    "# Rango intercuartil de cada una de las variables del dataset\n",
    "rango_intercuartil_np = np.quantile(np.array(df_boston[var_numericas]), q=0.75, axis=0) - np.quantile(np.array(df_boston[var_numericas]), q=0.25, axis=0)\n",
    "pd.DataFrame(data=rango_intercuartil_np, index=[var_numericas], columns=['rango_intercuartil'])"
   ]
  },
  {
   "cell_type": "code",
   "execution_count": 63,
   "metadata": {
    "scrolled": true
   },
   "outputs": [
    {
     "data": {
      "text/plain": [
       "7.975000000000001"
      ]
     },
     "execution_count": 63,
     "metadata": {},
     "output_type": "execute_result"
    }
   ],
   "source": [
    "# Rango intercuartil de una característica específica\n",
    "np.quantile(np.array(df_boston['MEDV']), q=0.75) - np.quantile(np.array(df_boston['MEDV']), q=0.25)"
   ]
  },
  {
   "cell_type": "markdown",
   "metadata": {},
   "source": [
    "##### Rango intercuartil con stats de Scipy\n",
    "https://docs.scipy.org/doc/scipy/reference/generated/scipy.stats.iqr.html"
   ]
  },
  {
   "cell_type": "code",
   "execution_count": 64,
   "metadata": {},
   "outputs": [
    {
     "data": {
      "text/html": [
       "<div>\n",
       "<style scoped>\n",
       "    .dataframe tbody tr th:only-of-type {\n",
       "        vertical-align: middle;\n",
       "    }\n",
       "\n",
       "    .dataframe tbody tr th {\n",
       "        vertical-align: top;\n",
       "    }\n",
       "\n",
       "    .dataframe thead th {\n",
       "        text-align: right;\n",
       "    }\n",
       "</style>\n",
       "<table border=\"1\" class=\"dataframe\">\n",
       "  <thead>\n",
       "    <tr style=\"text-align: right;\">\n",
       "      <th></th>\n",
       "      <th>rango_intercuartil</th>\n",
       "    </tr>\n",
       "  </thead>\n",
       "  <tbody>\n",
       "    <tr>\n",
       "      <th>CRIM</th>\n",
       "      <td>3.595038</td>\n",
       "    </tr>\n",
       "    <tr>\n",
       "      <th>ZN</th>\n",
       "      <td>12.500000</td>\n",
       "    </tr>\n",
       "    <tr>\n",
       "      <th>INDUS</th>\n",
       "      <td>12.910000</td>\n",
       "    </tr>\n",
       "    <tr>\n",
       "      <th>NOX</th>\n",
       "      <td>0.175000</td>\n",
       "    </tr>\n",
       "    <tr>\n",
       "      <th>RM</th>\n",
       "      <td>0.738000</td>\n",
       "    </tr>\n",
       "    <tr>\n",
       "      <th>AGE</th>\n",
       "      <td>49.050000</td>\n",
       "    </tr>\n",
       "    <tr>\n",
       "      <th>DIS</th>\n",
       "      <td>3.088250</td>\n",
       "    </tr>\n",
       "    <tr>\n",
       "      <th>RAD</th>\n",
       "      <td>20.000000</td>\n",
       "    </tr>\n",
       "    <tr>\n",
       "      <th>TAX</th>\n",
       "      <td>387.000000</td>\n",
       "    </tr>\n",
       "    <tr>\n",
       "      <th>PTRATIO</th>\n",
       "      <td>2.800000</td>\n",
       "    </tr>\n",
       "    <tr>\n",
       "      <th>B</th>\n",
       "      <td>20.847500</td>\n",
       "    </tr>\n",
       "    <tr>\n",
       "      <th>LSTAT</th>\n",
       "      <td>10.005000</td>\n",
       "    </tr>\n",
       "    <tr>\n",
       "      <th>MEDV</th>\n",
       "      <td>7.975000</td>\n",
       "    </tr>\n",
       "  </tbody>\n",
       "</table>\n",
       "</div>"
      ],
      "text/plain": [
       "         rango_intercuartil\n",
       "CRIM               3.595038\n",
       "ZN                12.500000\n",
       "INDUS             12.910000\n",
       "NOX                0.175000\n",
       "RM                 0.738000\n",
       "AGE               49.050000\n",
       "DIS                3.088250\n",
       "RAD               20.000000\n",
       "TAX              387.000000\n",
       "PTRATIO            2.800000\n",
       "B                 20.847500\n",
       "LSTAT             10.005000\n",
       "MEDV               7.975000"
      ]
     },
     "execution_count": 64,
     "metadata": {},
     "output_type": "execute_result"
    }
   ],
   "source": [
    "# Rango intercuartil de cada una de las variables del dataset\n",
    "pd.DataFrame(data=stats.iqr(df_boston[var_numericas], axis=0), index=[var_numericas], columns=['rango_intercuartil'])"
   ]
  },
  {
   "cell_type": "code",
   "execution_count": 65,
   "metadata": {
    "scrolled": true
   },
   "outputs": [
    {
     "name": "stdout",
     "output_type": "stream",
     "text": [
      "La rango_intercuartil de AGE es 49.04999999999999\n"
     ]
    }
   ],
   "source": [
    "# Rango intercuartil de una característica específica\n",
    "var = 'AGE'\n",
    "print(f'La rango_intercuartil de {var} es {float(stats.iqr(df_boston[var]))}')   # válido math.sqrt o np.sqrt"
   ]
  },
  {
   "cell_type": "markdown",
   "metadata": {},
   "source": [
    "#### **Coeficiente de variación**"
   ]
  },
  {
   "cell_type": "markdown",
   "metadata": {},
   "source": [
    "##### Coeficiente de variación con Pandas"
   ]
  },
  {
   "cell_type": "code",
   "execution_count": 66,
   "metadata": {},
   "outputs": [
    {
     "data": {
      "text/plain": [
       "CRIM       238.037610\n",
       "ZN         205.237586\n",
       "INDUS       61.600874\n",
       "NOX         20.890339\n",
       "RM          11.179921\n",
       "AGE         41.048344\n",
       "DIS         55.485809\n",
       "RAD         91.181152\n",
       "TAX         41.284120\n",
       "PTRATIO     11.730604\n",
       "B           25.596162\n",
       "LSTAT       56.437413\n",
       "MEDV        40.816505\n",
       "dtype: float64"
      ]
     },
     "execution_count": 66,
     "metadata": {},
     "output_type": "execute_result"
    }
   ],
   "source": [
    "# Coeficiente de variación de cada una de las variables del dataset\n",
    "CVs = df_boston[var_numericas].std()/df_boston[var_numericas].mean()*100\n",
    "CVs"
   ]
  },
  {
   "cell_type": "code",
   "execution_count": 67,
   "metadata": {},
   "outputs": [
    {
     "data": {
      "text/plain": [
       "40.81650529938067"
      ]
     },
     "execution_count": 67,
     "metadata": {},
     "output_type": "execute_result"
    }
   ],
   "source": [
    "# Coeficiente de variación de una característica específica\n",
    "df_boston['MEDV'].std()/df_boston['MEDV'].mean()*100"
   ]
  },
  {
   "cell_type": "markdown",
   "metadata": {},
   "source": [
    "##### Coeficiente de variación con Numpy"
   ]
  },
  {
   "cell_type": "code",
   "execution_count": 68,
   "metadata": {},
   "outputs": [
    {
     "data": {
      "text/html": [
       "<div>\n",
       "<style scoped>\n",
       "    .dataframe tbody tr th:only-of-type {\n",
       "        vertical-align: middle;\n",
       "    }\n",
       "\n",
       "    .dataframe tbody tr th {\n",
       "        vertical-align: top;\n",
       "    }\n",
       "\n",
       "    .dataframe thead th {\n",
       "        text-align: right;\n",
       "    }\n",
       "</style>\n",
       "<table border=\"1\" class=\"dataframe\">\n",
       "  <thead>\n",
       "    <tr style=\"text-align: right;\">\n",
       "      <th></th>\n",
       "      <th>CRIM</th>\n",
       "      <th>ZN</th>\n",
       "      <th>INDUS</th>\n",
       "      <th>CHAS</th>\n",
       "      <th>NOX</th>\n",
       "      <th>RM</th>\n",
       "      <th>AGE</th>\n",
       "      <th>DIS</th>\n",
       "      <th>RAD</th>\n",
       "      <th>TAX</th>\n",
       "      <th>PTRATIO</th>\n",
       "      <th>B</th>\n",
       "      <th>LSTAT</th>\n",
       "      <th>MEDV</th>\n",
       "      <th>cat_RAD</th>\n",
       "    </tr>\n",
       "  </thead>\n",
       "  <tbody>\n",
       "    <tr>\n",
       "      <th>0</th>\n",
       "      <td>0.00632</td>\n",
       "      <td>18.0</td>\n",
       "      <td>2.31</td>\n",
       "      <td>0</td>\n",
       "      <td>0.538</td>\n",
       "      <td>6.575</td>\n",
       "      <td>65.2</td>\n",
       "      <td>4.0900</td>\n",
       "      <td>1.0</td>\n",
       "      <td>296.0</td>\n",
       "      <td>15.3</td>\n",
       "      <td>396.90</td>\n",
       "      <td>4.98</td>\n",
       "      <td>24.0</td>\n",
       "      <td>(0.999, 4.0]</td>\n",
       "    </tr>\n",
       "    <tr>\n",
       "      <th>1</th>\n",
       "      <td>0.02731</td>\n",
       "      <td>0.0</td>\n",
       "      <td>7.07</td>\n",
       "      <td>0</td>\n",
       "      <td>0.469</td>\n",
       "      <td>6.421</td>\n",
       "      <td>78.9</td>\n",
       "      <td>4.9671</td>\n",
       "      <td>2.0</td>\n",
       "      <td>242.0</td>\n",
       "      <td>17.8</td>\n",
       "      <td>396.90</td>\n",
       "      <td>9.14</td>\n",
       "      <td>21.6</td>\n",
       "      <td>(0.999, 4.0]</td>\n",
       "    </tr>\n",
       "    <tr>\n",
       "      <th>2</th>\n",
       "      <td>0.02729</td>\n",
       "      <td>0.0</td>\n",
       "      <td>7.07</td>\n",
       "      <td>0</td>\n",
       "      <td>0.469</td>\n",
       "      <td>7.185</td>\n",
       "      <td>61.1</td>\n",
       "      <td>4.9671</td>\n",
       "      <td>2.0</td>\n",
       "      <td>242.0</td>\n",
       "      <td>17.8</td>\n",
       "      <td>392.83</td>\n",
       "      <td>4.03</td>\n",
       "      <td>34.7</td>\n",
       "      <td>(0.999, 4.0]</td>\n",
       "    </tr>\n",
       "    <tr>\n",
       "      <th>3</th>\n",
       "      <td>0.03237</td>\n",
       "      <td>0.0</td>\n",
       "      <td>2.18</td>\n",
       "      <td>0</td>\n",
       "      <td>0.458</td>\n",
       "      <td>6.998</td>\n",
       "      <td>45.8</td>\n",
       "      <td>6.0622</td>\n",
       "      <td>3.0</td>\n",
       "      <td>222.0</td>\n",
       "      <td>18.7</td>\n",
       "      <td>394.63</td>\n",
       "      <td>2.94</td>\n",
       "      <td>33.4</td>\n",
       "      <td>(0.999, 4.0]</td>\n",
       "    </tr>\n",
       "    <tr>\n",
       "      <th>4</th>\n",
       "      <td>0.06905</td>\n",
       "      <td>0.0</td>\n",
       "      <td>2.18</td>\n",
       "      <td>0</td>\n",
       "      <td>0.458</td>\n",
       "      <td>7.147</td>\n",
       "      <td>54.2</td>\n",
       "      <td>6.0622</td>\n",
       "      <td>3.0</td>\n",
       "      <td>222.0</td>\n",
       "      <td>18.7</td>\n",
       "      <td>396.90</td>\n",
       "      <td>5.33</td>\n",
       "      <td>36.2</td>\n",
       "      <td>(0.999, 4.0]</td>\n",
       "    </tr>\n",
       "  </tbody>\n",
       "</table>\n",
       "</div>"
      ],
      "text/plain": [
       "      CRIM    ZN  INDUS CHAS    NOX     RM   AGE     DIS  RAD    TAX  PTRATIO  \\\n",
       "0  0.00632  18.0   2.31    0  0.538  6.575  65.2  4.0900  1.0  296.0     15.3   \n",
       "1  0.02731   0.0   7.07    0  0.469  6.421  78.9  4.9671  2.0  242.0     17.8   \n",
       "2  0.02729   0.0   7.07    0  0.469  7.185  61.1  4.9671  2.0  242.0     17.8   \n",
       "3  0.03237   0.0   2.18    0  0.458  6.998  45.8  6.0622  3.0  222.0     18.7   \n",
       "4  0.06905   0.0   2.18    0  0.458  7.147  54.2  6.0622  3.0  222.0     18.7   \n",
       "\n",
       "        B  LSTAT  MEDV       cat_RAD  \n",
       "0  396.90   4.98  24.0  (0.999, 4.0]  \n",
       "1  396.90   9.14  21.6  (0.999, 4.0]  \n",
       "2  392.83   4.03  34.7  (0.999, 4.0]  \n",
       "3  394.63   2.94  33.4  (0.999, 4.0]  \n",
       "4  396.90   5.33  36.2  (0.999, 4.0]  "
      ]
     },
     "execution_count": 68,
     "metadata": {},
     "output_type": "execute_result"
    }
   ],
   "source": [
    "df_boston.head()"
   ]
  },
  {
   "cell_type": "code",
   "execution_count": 69,
   "metadata": {},
   "outputs": [
    {
     "data": {
      "text/html": [
       "<div>\n",
       "<style scoped>\n",
       "    .dataframe tbody tr th:only-of-type {\n",
       "        vertical-align: middle;\n",
       "    }\n",
       "\n",
       "    .dataframe tbody tr th {\n",
       "        vertical-align: top;\n",
       "    }\n",
       "\n",
       "    .dataframe thead th {\n",
       "        text-align: right;\n",
       "    }\n",
       "</style>\n",
       "<table border=\"1\" class=\"dataframe\">\n",
       "  <thead>\n",
       "    <tr style=\"text-align: right;\">\n",
       "      <th></th>\n",
       "      <th>CV</th>\n",
       "    </tr>\n",
       "  </thead>\n",
       "  <tbody>\n",
       "    <tr>\n",
       "      <th>CRIM</th>\n",
       "      <td>237.802278</td>\n",
       "    </tr>\n",
       "    <tr>\n",
       "      <th>ZN</th>\n",
       "      <td>205.034682</td>\n",
       "    </tr>\n",
       "    <tr>\n",
       "      <th>INDUS</th>\n",
       "      <td>61.539973</td>\n",
       "    </tr>\n",
       "    <tr>\n",
       "      <th>NOX</th>\n",
       "      <td>20.869686</td>\n",
       "    </tr>\n",
       "    <tr>\n",
       "      <th>RM</th>\n",
       "      <td>11.168868</td>\n",
       "    </tr>\n",
       "    <tr>\n",
       "      <th>AGE</th>\n",
       "      <td>41.007762</td>\n",
       "    </tr>\n",
       "    <tr>\n",
       "      <th>DIS</th>\n",
       "      <td>55.430954</td>\n",
       "    </tr>\n",
       "    <tr>\n",
       "      <th>RAD</th>\n",
       "      <td>91.091007</td>\n",
       "    </tr>\n",
       "    <tr>\n",
       "      <th>TAX</th>\n",
       "      <td>41.243305</td>\n",
       "    </tr>\n",
       "    <tr>\n",
       "      <th>PTRATIO</th>\n",
       "      <td>11.719007</td>\n",
       "    </tr>\n",
       "    <tr>\n",
       "      <th>B</th>\n",
       "      <td>25.570857</td>\n",
       "    </tr>\n",
       "    <tr>\n",
       "      <th>LSTAT</th>\n",
       "      <td>56.381617</td>\n",
       "    </tr>\n",
       "    <tr>\n",
       "      <th>MEDV</th>\n",
       "      <td>40.776153</td>\n",
       "    </tr>\n",
       "  </tbody>\n",
       "</table>\n",
       "</div>"
      ],
      "text/plain": [
       "                 CV\n",
       "CRIM     237.802278\n",
       "ZN       205.034682\n",
       "INDUS     61.539973\n",
       "NOX       20.869686\n",
       "RM        11.168868\n",
       "AGE       41.007762\n",
       "DIS       55.430954\n",
       "RAD       91.091007\n",
       "TAX       41.243305\n",
       "PTRATIO   11.719007\n",
       "B         25.570857\n",
       "LSTAT     56.381617\n",
       "MEDV      40.776153"
      ]
     },
     "execution_count": 69,
     "metadata": {},
     "output_type": "execute_result"
    }
   ],
   "source": [
    "# Coeficiente de variación de cada una de las variables del dataset\n",
    "cv_np = np.std(df_boston[var_numericas], axis=0)/np.mean(df_boston[var_numericas], axis=0)*100\n",
    "pd.DataFrame(data=np.array(cv_np), index=[var_numericas], columns=['CV'])"
   ]
  },
  {
   "cell_type": "code",
   "execution_count": 70,
   "metadata": {},
   "outputs": [
    {
     "data": {
      "text/plain": [
       "40.77615283741554"
      ]
     },
     "execution_count": 70,
     "metadata": {},
     "output_type": "execute_result"
    }
   ],
   "source": [
    "# Coeficiente de variación de una característica específica\n",
    "np.std(np.array(df_boston['MEDV']))/np.mean(np.array(df_boston['MEDV']))*100"
   ]
  },
  {
   "cell_type": "markdown",
   "metadata": {},
   "source": [
    "##### Coeficiente de variación con stats de Scipy\n",
    "https://docs.scipy.org/doc/scipy/reference/generated/scipy.stats.variation.html#scipy.stats.variation"
   ]
  },
  {
   "cell_type": "code",
   "execution_count": 71,
   "metadata": {},
   "outputs": [
    {
     "data": {
      "text/html": [
       "<div>\n",
       "<style scoped>\n",
       "    .dataframe tbody tr th:only-of-type {\n",
       "        vertical-align: middle;\n",
       "    }\n",
       "\n",
       "    .dataframe tbody tr th {\n",
       "        vertical-align: top;\n",
       "    }\n",
       "\n",
       "    .dataframe thead th {\n",
       "        text-align: right;\n",
       "    }\n",
       "</style>\n",
       "<table border=\"1\" class=\"dataframe\">\n",
       "  <thead>\n",
       "    <tr style=\"text-align: right;\">\n",
       "      <th></th>\n",
       "      <th>cv</th>\n",
       "    </tr>\n",
       "  </thead>\n",
       "  <tbody>\n",
       "    <tr>\n",
       "      <th>CRIM</th>\n",
       "      <td>237.802278</td>\n",
       "    </tr>\n",
       "    <tr>\n",
       "      <th>ZN</th>\n",
       "      <td>205.034682</td>\n",
       "    </tr>\n",
       "    <tr>\n",
       "      <th>INDUS</th>\n",
       "      <td>61.539973</td>\n",
       "    </tr>\n",
       "    <tr>\n",
       "      <th>NOX</th>\n",
       "      <td>20.869686</td>\n",
       "    </tr>\n",
       "    <tr>\n",
       "      <th>RM</th>\n",
       "      <td>11.168868</td>\n",
       "    </tr>\n",
       "    <tr>\n",
       "      <th>AGE</th>\n",
       "      <td>41.007762</td>\n",
       "    </tr>\n",
       "    <tr>\n",
       "      <th>DIS</th>\n",
       "      <td>55.430954</td>\n",
       "    </tr>\n",
       "    <tr>\n",
       "      <th>RAD</th>\n",
       "      <td>91.091007</td>\n",
       "    </tr>\n",
       "    <tr>\n",
       "      <th>TAX</th>\n",
       "      <td>41.243305</td>\n",
       "    </tr>\n",
       "    <tr>\n",
       "      <th>PTRATIO</th>\n",
       "      <td>11.719007</td>\n",
       "    </tr>\n",
       "    <tr>\n",
       "      <th>B</th>\n",
       "      <td>25.570857</td>\n",
       "    </tr>\n",
       "    <tr>\n",
       "      <th>LSTAT</th>\n",
       "      <td>56.381617</td>\n",
       "    </tr>\n",
       "    <tr>\n",
       "      <th>MEDV</th>\n",
       "      <td>40.776153</td>\n",
       "    </tr>\n",
       "  </tbody>\n",
       "</table>\n",
       "</div>"
      ],
      "text/plain": [
       "                 cv\n",
       "CRIM     237.802278\n",
       "ZN       205.034682\n",
       "INDUS     61.539973\n",
       "NOX       20.869686\n",
       "RM        11.168868\n",
       "AGE       41.007762\n",
       "DIS       55.430954\n",
       "RAD       91.091007\n",
       "TAX       41.243305\n",
       "PTRATIO   11.719007\n",
       "B         25.570857\n",
       "LSTAT     56.381617\n",
       "MEDV      40.776153"
      ]
     },
     "execution_count": 71,
     "metadata": {},
     "output_type": "execute_result"
    }
   ],
   "source": [
    "cv_np2 = stats.variation(np.array(df_boston[var_numericas]), axis=0)*100\n",
    "pd.DataFrame(data=cv_np2, index=var_numericas, columns=['cv'])"
   ]
  },
  {
   "cell_type": "markdown",
   "metadata": {},
   "source": [
    "### Medidas de Forma"
   ]
  },
  {
   "cell_type": "markdown",
   "metadata": {},
   "source": [
    "#### **Simetría**"
   ]
  },
  {
   "cell_type": "markdown",
   "metadata": {},
   "source": [
    "##### Simetría con Pandas"
   ]
  },
  {
   "cell_type": "code",
   "execution_count": 72,
   "metadata": {},
   "outputs": [
    {
     "data": {
      "text/plain": [
       "CRIM       5.223149\n",
       "ZN         2.225666\n",
       "INDUS      0.295022\n",
       "CHAS       3.405904\n",
       "NOX        0.729308\n",
       "RM         0.403612\n",
       "AGE       -0.598963\n",
       "DIS        1.011781\n",
       "RAD        1.004815\n",
       "TAX        0.669956\n",
       "PTRATIO   -0.802325\n",
       "B         -2.890374\n",
       "LSTAT      0.906460\n",
       "MEDV       1.108098\n",
       "dtype: float64"
      ]
     },
     "execution_count": 72,
     "metadata": {},
     "output_type": "execute_result"
    }
   ],
   "source": [
    "# Simetría de cada una de las variables del dataset\n",
    "simetrias = df_boston.skew()\n",
    "simetrias"
   ]
  },
  {
   "cell_type": "code",
   "execution_count": 73,
   "metadata": {},
   "outputs": [
    {
     "data": {
      "text/plain": [
       "1.1080984082549072"
      ]
     },
     "execution_count": 73,
     "metadata": {},
     "output_type": "execute_result"
    }
   ],
   "source": [
    "# Simetría de una característica específica\n",
    "df_boston['MEDV'].skew()     # n-1"
   ]
  },
  {
   "cell_type": "markdown",
   "metadata": {},
   "source": [
    "##### Simetría con Numpy\n",
    "No existe manera"
   ]
  },
  {
   "cell_type": "markdown",
   "metadata": {},
   "source": [
    "##### Simetría con stats de Scipy"
   ]
  },
  {
   "cell_type": "code",
   "execution_count": 74,
   "metadata": {},
   "outputs": [
    {
     "data": {
      "text/html": [
       "<div>\n",
       "<style scoped>\n",
       "    .dataframe tbody tr th:only-of-type {\n",
       "        vertical-align: middle;\n",
       "    }\n",
       "\n",
       "    .dataframe tbody tr th {\n",
       "        vertical-align: top;\n",
       "    }\n",
       "\n",
       "    .dataframe thead th {\n",
       "        text-align: right;\n",
       "    }\n",
       "</style>\n",
       "<table border=\"1\" class=\"dataframe\">\n",
       "  <thead>\n",
       "    <tr style=\"text-align: right;\">\n",
       "      <th></th>\n",
       "      <th>simetria</th>\n",
       "    </tr>\n",
       "  </thead>\n",
       "  <tbody>\n",
       "    <tr>\n",
       "      <th>CRIM</th>\n",
       "      <td>5.207652</td>\n",
       "    </tr>\n",
       "    <tr>\n",
       "      <th>ZN</th>\n",
       "      <td>2.219063</td>\n",
       "    </tr>\n",
       "    <tr>\n",
       "      <th>INDUS</th>\n",
       "      <td>0.294146</td>\n",
       "    </tr>\n",
       "    <tr>\n",
       "      <th>NOX</th>\n",
       "      <td>0.727144</td>\n",
       "    </tr>\n",
       "    <tr>\n",
       "      <th>RM</th>\n",
       "      <td>0.402415</td>\n",
       "    </tr>\n",
       "    <tr>\n",
       "      <th>AGE</th>\n",
       "      <td>-0.597186</td>\n",
       "    </tr>\n",
       "    <tr>\n",
       "      <th>DIS</th>\n",
       "      <td>1.008779</td>\n",
       "    </tr>\n",
       "    <tr>\n",
       "      <th>RAD</th>\n",
       "      <td>1.001833</td>\n",
       "    </tr>\n",
       "    <tr>\n",
       "      <th>TAX</th>\n",
       "      <td>0.667968</td>\n",
       "    </tr>\n",
       "    <tr>\n",
       "      <th>PTRATIO</th>\n",
       "      <td>-0.799945</td>\n",
       "    </tr>\n",
       "    <tr>\n",
       "      <th>B</th>\n",
       "      <td>-2.881798</td>\n",
       "    </tr>\n",
       "    <tr>\n",
       "      <th>LSTAT</th>\n",
       "      <td>0.903771</td>\n",
       "    </tr>\n",
       "    <tr>\n",
       "      <th>MEDV</th>\n",
       "      <td>1.104811</td>\n",
       "    </tr>\n",
       "  </tbody>\n",
       "</table>\n",
       "</div>"
      ],
      "text/plain": [
       "         simetria\n",
       "CRIM     5.207652\n",
       "ZN       2.219063\n",
       "INDUS    0.294146\n",
       "NOX      0.727144\n",
       "RM       0.402415\n",
       "AGE     -0.597186\n",
       "DIS      1.008779\n",
       "RAD      1.001833\n",
       "TAX      0.667968\n",
       "PTRATIO -0.799945\n",
       "B       -2.881798\n",
       "LSTAT    0.903771\n",
       "MEDV     1.104811"
      ]
     },
     "execution_count": 74,
     "metadata": {},
     "output_type": "execute_result"
    }
   ],
   "source": [
    "# Simetría de cada una de las variables del dataset\n",
    "pd.DataFrame(data=descrip_stat.skewness, index=var_numericas, columns=['simetria'])"
   ]
  },
  {
   "cell_type": "code",
   "execution_count": 75,
   "metadata": {},
   "outputs": [
    {
     "name": "stdout",
     "output_type": "stream",
     "text": [
      "La simetría de AGE es -0.5971855948016143\n"
     ]
    }
   ],
   "source": [
    "# Simetría de una característica específica\n",
    "var = 'AGE'\n",
    "est_descript_medv = stats.describe(df_boston[var])\n",
    "print(f'La simetría de {var} es {float(est_descript_medv.skewness)}')"
   ]
  },
  {
   "cell_type": "markdown",
   "metadata": {},
   "source": [
    "**Otra manera**"
   ]
  },
  {
   "cell_type": "code",
   "execution_count": 76,
   "metadata": {},
   "outputs": [
    {
     "data": {
      "text/html": [
       "<div>\n",
       "<style scoped>\n",
       "    .dataframe tbody tr th:only-of-type {\n",
       "        vertical-align: middle;\n",
       "    }\n",
       "\n",
       "    .dataframe tbody tr th {\n",
       "        vertical-align: top;\n",
       "    }\n",
       "\n",
       "    .dataframe thead th {\n",
       "        text-align: right;\n",
       "    }\n",
       "</style>\n",
       "<table border=\"1\" class=\"dataframe\">\n",
       "  <thead>\n",
       "    <tr style=\"text-align: right;\">\n",
       "      <th></th>\n",
       "      <th>simetria</th>\n",
       "    </tr>\n",
       "  </thead>\n",
       "  <tbody>\n",
       "    <tr>\n",
       "      <th>CRIM</th>\n",
       "      <td>5.207652</td>\n",
       "    </tr>\n",
       "    <tr>\n",
       "      <th>ZN</th>\n",
       "      <td>2.219063</td>\n",
       "    </tr>\n",
       "    <tr>\n",
       "      <th>INDUS</th>\n",
       "      <td>0.294146</td>\n",
       "    </tr>\n",
       "    <tr>\n",
       "      <th>NOX</th>\n",
       "      <td>0.727144</td>\n",
       "    </tr>\n",
       "    <tr>\n",
       "      <th>RM</th>\n",
       "      <td>0.402415</td>\n",
       "    </tr>\n",
       "    <tr>\n",
       "      <th>AGE</th>\n",
       "      <td>-0.597186</td>\n",
       "    </tr>\n",
       "    <tr>\n",
       "      <th>DIS</th>\n",
       "      <td>1.008779</td>\n",
       "    </tr>\n",
       "    <tr>\n",
       "      <th>RAD</th>\n",
       "      <td>1.001833</td>\n",
       "    </tr>\n",
       "    <tr>\n",
       "      <th>TAX</th>\n",
       "      <td>0.667968</td>\n",
       "    </tr>\n",
       "    <tr>\n",
       "      <th>PTRATIO</th>\n",
       "      <td>-0.799945</td>\n",
       "    </tr>\n",
       "    <tr>\n",
       "      <th>B</th>\n",
       "      <td>-2.881798</td>\n",
       "    </tr>\n",
       "    <tr>\n",
       "      <th>LSTAT</th>\n",
       "      <td>0.903771</td>\n",
       "    </tr>\n",
       "    <tr>\n",
       "      <th>MEDV</th>\n",
       "      <td>1.104811</td>\n",
       "    </tr>\n",
       "  </tbody>\n",
       "</table>\n",
       "</div>"
      ],
      "text/plain": [
       "         simetria\n",
       "CRIM     5.207652\n",
       "ZN       2.219063\n",
       "INDUS    0.294146\n",
       "NOX      0.727144\n",
       "RM       0.402415\n",
       "AGE     -0.597186\n",
       "DIS      1.008779\n",
       "RAD      1.001833\n",
       "TAX      0.667968\n",
       "PTRATIO -0.799945\n",
       "B       -2.881798\n",
       "LSTAT    0.903771\n",
       "MEDV     1.104811"
      ]
     },
     "execution_count": 76,
     "metadata": {},
     "output_type": "execute_result"
    }
   ],
   "source": [
    "# Simetría de cada una de las variables del dataset\n",
    "simetrias_ss = stats.skew(np.array(df_boston[var_numericas]), bias=True, axis=0)\n",
    "pd.DataFrame(data=simetrias_ss, index=var_numericas, columns=['simetria'])"
   ]
  },
  {
   "cell_type": "code",
   "execution_count": 77,
   "metadata": {
    "scrolled": true
   },
   "outputs": [
    {
     "data": {
      "text/plain": [
       "-0.5971855948016143"
      ]
     },
     "execution_count": 77,
     "metadata": {},
     "output_type": "execute_result"
    }
   ],
   "source": [
    "# Simetría de una característica específica\n",
    "stats.skew(np.array(df_boston['AGE']))"
   ]
  },
  {
   "cell_type": "markdown",
   "metadata": {},
   "source": [
    "#### **Curtosis**"
   ]
  },
  {
   "cell_type": "markdown",
   "metadata": {},
   "source": [
    "##### Curtosis con Pandas"
   ]
  },
  {
   "cell_type": "code",
   "execution_count": 78,
   "metadata": {},
   "outputs": [
    {
     "data": {
      "text/plain": [
       "CRIM       37.130509\n",
       "ZN          4.031510\n",
       "INDUS      -1.233540\n",
       "CHAS        9.638264\n",
       "NOX        -0.064667\n",
       "RM          1.891500\n",
       "AGE        -0.967716\n",
       "DIS         0.487941\n",
       "RAD        -0.867232\n",
       "TAX        -1.142408\n",
       "PTRATIO    -0.285091\n",
       "B           7.226818\n",
       "LSTAT       0.493240\n",
       "MEDV        1.495197\n",
       "dtype: float64"
      ]
     },
     "execution_count": 78,
     "metadata": {},
     "output_type": "execute_result"
    }
   ],
   "source": [
    "# Curtosis de cada una de las variables del dataset\n",
    "curtosis = df_boston.kurt()\n",
    "curtosis"
   ]
  },
  {
   "cell_type": "code",
   "execution_count": 79,
   "metadata": {},
   "outputs": [
    {
     "data": {
      "text/plain": [
       "-0.9677155941626912"
      ]
     },
     "execution_count": 79,
     "metadata": {},
     "output_type": "execute_result"
    }
   ],
   "source": [
    "# Curtosis de una característica específica\n",
    "df_boston['AGE'].kurt()     # n-1"
   ]
  },
  {
   "cell_type": "markdown",
   "metadata": {},
   "source": [
    "##### Curtosis con Numpy\n",
    "No existe manera directa"
   ]
  },
  {
   "cell_type": "markdown",
   "metadata": {},
   "source": [
    "##### Curtosis con stats de Scipy"
   ]
  },
  {
   "cell_type": "code",
   "execution_count": 80,
   "metadata": {},
   "outputs": [
    {
     "data": {
      "text/html": [
       "<div>\n",
       "<style scoped>\n",
       "    .dataframe tbody tr th:only-of-type {\n",
       "        vertical-align: middle;\n",
       "    }\n",
       "\n",
       "    .dataframe tbody tr th {\n",
       "        vertical-align: top;\n",
       "    }\n",
       "\n",
       "    .dataframe thead th {\n",
       "        text-align: right;\n",
       "    }\n",
       "</style>\n",
       "<table border=\"1\" class=\"dataframe\">\n",
       "  <thead>\n",
       "    <tr style=\"text-align: right;\">\n",
       "      <th></th>\n",
       "      <th>curtosis</th>\n",
       "    </tr>\n",
       "  </thead>\n",
       "  <tbody>\n",
       "    <tr>\n",
       "      <th>CRIM</th>\n",
       "      <td>36.752786</td>\n",
       "    </tr>\n",
       "    <tr>\n",
       "      <th>ZN</th>\n",
       "      <td>3.979949</td>\n",
       "    </tr>\n",
       "    <tr>\n",
       "      <th>INDUS</th>\n",
       "      <td>-1.233218</td>\n",
       "    </tr>\n",
       "    <tr>\n",
       "      <th>NOX</th>\n",
       "      <td>-0.075864</td>\n",
       "    </tr>\n",
       "    <tr>\n",
       "      <th>RM</th>\n",
       "      <td>1.861027</td>\n",
       "    </tr>\n",
       "    <tr>\n",
       "      <th>AGE</th>\n",
       "      <td>-0.970014</td>\n",
       "    </tr>\n",
       "    <tr>\n",
       "      <th>DIS</th>\n",
       "      <td>0.471299</td>\n",
       "    </tr>\n",
       "    <tr>\n",
       "      <th>RAD</th>\n",
       "      <td>-0.870521</td>\n",
       "    </tr>\n",
       "    <tr>\n",
       "      <th>TAX</th>\n",
       "      <td>-1.142985</td>\n",
       "    </tr>\n",
       "    <tr>\n",
       "      <th>PTRATIO</th>\n",
       "      <td>-0.294116</td>\n",
       "    </tr>\n",
       "    <tr>\n",
       "      <th>B</th>\n",
       "      <td>7.143769</td>\n",
       "    </tr>\n",
       "    <tr>\n",
       "      <th>LSTAT</th>\n",
       "      <td>0.476545</td>\n",
       "    </tr>\n",
       "    <tr>\n",
       "      <th>MEDV</th>\n",
       "      <td>1.468629</td>\n",
       "    </tr>\n",
       "  </tbody>\n",
       "</table>\n",
       "</div>"
      ],
      "text/plain": [
       "          curtosis\n",
       "CRIM     36.752786\n",
       "ZN        3.979949\n",
       "INDUS    -1.233218\n",
       "NOX      -0.075864\n",
       "RM        1.861027\n",
       "AGE      -0.970014\n",
       "DIS       0.471299\n",
       "RAD      -0.870521\n",
       "TAX      -1.142985\n",
       "PTRATIO  -0.294116\n",
       "B         7.143769\n",
       "LSTAT     0.476545\n",
       "MEDV      1.468629"
      ]
     },
     "execution_count": 80,
     "metadata": {},
     "output_type": "execute_result"
    }
   ],
   "source": [
    "# Curtosis de cada una de las variables del dataset\n",
    "pd.DataFrame(data=descrip_stat.kurtosis, index=var_numericas, columns=['curtosis'])"
   ]
  },
  {
   "cell_type": "code",
   "execution_count": 81,
   "metadata": {},
   "outputs": [
    {
     "name": "stdout",
     "output_type": "stream",
     "text": [
      "La curtosis de AGE es -0.97001392664039\n"
     ]
    }
   ],
   "source": [
    "# Curtosis de una característica específica\n",
    "var = 'AGE'\n",
    "est_descript_medv = stats.describe(df_boston[var])\n",
    "print(f'La curtosis de {var} es {float(est_descript_medv.kurtosis)}')"
   ]
  },
  {
   "cell_type": "markdown",
   "metadata": {},
   "source": [
    "**Otra manera**"
   ]
  },
  {
   "cell_type": "code",
   "execution_count": 82,
   "metadata": {},
   "outputs": [
    {
     "data": {
      "text/html": [
       "<div>\n",
       "<style scoped>\n",
       "    .dataframe tbody tr th:only-of-type {\n",
       "        vertical-align: middle;\n",
       "    }\n",
       "\n",
       "    .dataframe tbody tr th {\n",
       "        vertical-align: top;\n",
       "    }\n",
       "\n",
       "    .dataframe thead th {\n",
       "        text-align: right;\n",
       "    }\n",
       "</style>\n",
       "<table border=\"1\" class=\"dataframe\">\n",
       "  <thead>\n",
       "    <tr style=\"text-align: right;\">\n",
       "      <th></th>\n",
       "      <th>curtosis</th>\n",
       "    </tr>\n",
       "  </thead>\n",
       "  <tbody>\n",
       "    <tr>\n",
       "      <th>CRIM</th>\n",
       "      <td>36.752786</td>\n",
       "    </tr>\n",
       "    <tr>\n",
       "      <th>ZN</th>\n",
       "      <td>3.979949</td>\n",
       "    </tr>\n",
       "    <tr>\n",
       "      <th>INDUS</th>\n",
       "      <td>-1.233218</td>\n",
       "    </tr>\n",
       "    <tr>\n",
       "      <th>NOX</th>\n",
       "      <td>-0.075864</td>\n",
       "    </tr>\n",
       "    <tr>\n",
       "      <th>RM</th>\n",
       "      <td>1.861027</td>\n",
       "    </tr>\n",
       "    <tr>\n",
       "      <th>AGE</th>\n",
       "      <td>-0.970014</td>\n",
       "    </tr>\n",
       "    <tr>\n",
       "      <th>DIS</th>\n",
       "      <td>0.471299</td>\n",
       "    </tr>\n",
       "    <tr>\n",
       "      <th>RAD</th>\n",
       "      <td>-0.870521</td>\n",
       "    </tr>\n",
       "    <tr>\n",
       "      <th>TAX</th>\n",
       "      <td>-1.142985</td>\n",
       "    </tr>\n",
       "    <tr>\n",
       "      <th>PTRATIO</th>\n",
       "      <td>-0.294116</td>\n",
       "    </tr>\n",
       "    <tr>\n",
       "      <th>B</th>\n",
       "      <td>7.143769</td>\n",
       "    </tr>\n",
       "    <tr>\n",
       "      <th>LSTAT</th>\n",
       "      <td>0.476545</td>\n",
       "    </tr>\n",
       "    <tr>\n",
       "      <th>MEDV</th>\n",
       "      <td>1.468629</td>\n",
       "    </tr>\n",
       "  </tbody>\n",
       "</table>\n",
       "</div>"
      ],
      "text/plain": [
       "          curtosis\n",
       "CRIM     36.752786\n",
       "ZN        3.979949\n",
       "INDUS    -1.233218\n",
       "NOX      -0.075864\n",
       "RM        1.861027\n",
       "AGE      -0.970014\n",
       "DIS       0.471299\n",
       "RAD      -0.870521\n",
       "TAX      -1.142985\n",
       "PTRATIO  -0.294116\n",
       "B         7.143769\n",
       "LSTAT     0.476545\n",
       "MEDV      1.468629"
      ]
     },
     "execution_count": 82,
     "metadata": {},
     "output_type": "execute_result"
    }
   ],
   "source": [
    "# Curtosis de cada una de las variables del dataset\n",
    "curtosis_ss = stats.kurtosis(np.array(df_boston[var_numericas]), bias=True, axis=0)\n",
    "pd.DataFrame(data=curtosis_ss, index=var_numericas, columns=['curtosis'])"
   ]
  },
  {
   "cell_type": "code",
   "execution_count": 83,
   "metadata": {
    "scrolled": true
   },
   "outputs": [
    {
     "data": {
      "text/plain": [
       "-0.97001392664039"
      ]
     },
     "execution_count": 83,
     "metadata": {},
     "output_type": "execute_result"
    }
   ],
   "source": [
    "# Curtosis de una característica específica\n",
    "stats.kurtosis(np.array(df_boston['AGE']))"
   ]
  },
  {
   "cell_type": "markdown",
   "metadata": {},
   "source": [
    "## Organización de los datos"
   ]
  },
  {
   "cell_type": "markdown",
   "metadata": {},
   "source": [
    "### Tablas de frecuencias\n",
    "https://docs.scipy.org/doc/scipy/reference/generated/scipy.stats.binned_statistic.html#scipy.stats.binned_statistic"
   ]
  },
  {
   "cell_type": "markdown",
   "metadata": {},
   "source": [
    "#### Tabla de frecuencia: de variable categórica"
   ]
  },
  {
   "cell_type": "code",
   "execution_count": 84,
   "metadata": {},
   "outputs": [
    {
     "data": {
      "text/plain": [
       "0    471\n",
       "1     35\n",
       "Name: CHAS, dtype: int64"
      ]
     },
     "execution_count": 84,
     "metadata": {},
     "output_type": "execute_result"
    }
   ],
   "source": [
    "df_boston['CHAS'].value_counts()"
   ]
  },
  {
   "cell_type": "code",
   "execution_count": 85,
   "metadata": {},
   "outputs": [
    {
     "data": {
      "text/html": [
       "<div>\n",
       "<style scoped>\n",
       "    .dataframe tbody tr th:only-of-type {\n",
       "        vertical-align: middle;\n",
       "    }\n",
       "\n",
       "    .dataframe tbody tr th {\n",
       "        vertical-align: top;\n",
       "    }\n",
       "\n",
       "    .dataframe thead th {\n",
       "        text-align: right;\n",
       "    }\n",
       "</style>\n",
       "<table border=\"1\" class=\"dataframe\">\n",
       "  <thead>\n",
       "    <tr style=\"text-align: right;\">\n",
       "      <th></th>\n",
       "      <th>cat_RAD</th>\n",
       "    </tr>\n",
       "    <tr>\n",
       "      <th>CHAS</th>\n",
       "      <th></th>\n",
       "    </tr>\n",
       "  </thead>\n",
       "  <tbody>\n",
       "    <tr>\n",
       "      <th>0</th>\n",
       "      <td>471</td>\n",
       "    </tr>\n",
       "    <tr>\n",
       "      <th>1</th>\n",
       "      <td>35</td>\n",
       "    </tr>\n",
       "  </tbody>\n",
       "</table>\n",
       "</div>"
      ],
      "text/plain": [
       "      cat_RAD\n",
       "CHAS         \n",
       "0         471\n",
       "1          35"
      ]
     },
     "execution_count": 85,
     "metadata": {},
     "output_type": "execute_result"
    }
   ],
   "source": [
    "df_boston[['CHAS', 'cat_RAD']].groupby('CHAS').count()"
   ]
  },
  {
   "cell_type": "code",
   "execution_count": 86,
   "metadata": {},
   "outputs": [
    {
     "name": "stdout",
     "output_type": "stream",
     "text": [
      "Tabla de frecuencias de la cercanía al Charles River\n"
     ]
    },
    {
     "data": {
      "text/html": [
       "<div>\n",
       "<style scoped>\n",
       "    .dataframe tbody tr th:only-of-type {\n",
       "        vertical-align: middle;\n",
       "    }\n",
       "\n",
       "    .dataframe tbody tr th {\n",
       "        vertical-align: top;\n",
       "    }\n",
       "\n",
       "    .dataframe thead th {\n",
       "        text-align: right;\n",
       "    }\n",
       "</style>\n",
       "<table border=\"1\" class=\"dataframe\">\n",
       "  <thead>\n",
       "    <tr style=\"text-align: right;\">\n",
       "      <th></th>\n",
       "      <th>f_abs</th>\n",
       "      <th>f_abs_acum</th>\n",
       "      <th>f_rel</th>\n",
       "      <th>f_rel_acum</th>\n",
       "    </tr>\n",
       "    <tr>\n",
       "      <th>categoria</th>\n",
       "      <th></th>\n",
       "      <th></th>\n",
       "      <th></th>\n",
       "      <th></th>\n",
       "    </tr>\n",
       "  </thead>\n",
       "  <tbody>\n",
       "    <tr>\n",
       "      <th>no</th>\n",
       "      <td>471</td>\n",
       "      <td>471</td>\n",
       "      <td>0.93083</td>\n",
       "      <td>0.93083</td>\n",
       "    </tr>\n",
       "    <tr>\n",
       "      <th>si</th>\n",
       "      <td>35</td>\n",
       "      <td>506</td>\n",
       "      <td>0.06917</td>\n",
       "      <td>1.00000</td>\n",
       "    </tr>\n",
       "  </tbody>\n",
       "</table>\n",
       "</div>"
      ],
      "text/plain": [
       "           f_abs  f_abs_acum    f_rel  f_rel_acum\n",
       "categoria                                        \n",
       "no           471         471  0.93083     0.93083\n",
       "si            35         506  0.06917     1.00000"
      ]
     },
     "execution_count": 86,
     "metadata": {},
     "output_type": "execute_result"
    }
   ],
   "source": [
    "cat_f_abs = df_boston['CHAS'].value_counts()\n",
    "table = {'categoria': np.array(['no', 'si']),'f_abs': cat_f_abs.values, 'f_abs_acum': np.cumsum(cat_f_abs.values),\n",
    "       'f_rel': cat_f_abs.values/sum(cat_f_abs.values), 'f_rel_acum': np.cumsum(cat_f_abs.values/sum(cat_f_abs.values))}\n",
    "print('Tabla de frecuencias de la cercanía al Charles River')\n",
    "pd.DataFrame(data=table).set_index('categoria')"
   ]
  },
  {
   "cell_type": "code",
   "execution_count": 87,
   "metadata": {},
   "outputs": [
    {
     "name": "stdout",
     "output_type": "stream",
     "text": [
      "Tabla de frecuencias del Índice de accesibilidad a carreteras radiales\n"
     ]
    },
    {
     "data": {
      "text/html": [
       "<div>\n",
       "<style scoped>\n",
       "    .dataframe tbody tr th:only-of-type {\n",
       "        vertical-align: middle;\n",
       "    }\n",
       "\n",
       "    .dataframe tbody tr th {\n",
       "        vertical-align: top;\n",
       "    }\n",
       "\n",
       "    .dataframe thead th {\n",
       "        text-align: right;\n",
       "    }\n",
       "</style>\n",
       "<table border=\"1\" class=\"dataframe\">\n",
       "  <thead>\n",
       "    <tr style=\"text-align: right;\">\n",
       "      <th></th>\n",
       "      <th>f_abs</th>\n",
       "      <th>f_abs_acum</th>\n",
       "      <th>f_rel</th>\n",
       "      <th>f_rel_acum</th>\n",
       "    </tr>\n",
       "    <tr>\n",
       "      <th>categoria</th>\n",
       "      <th></th>\n",
       "      <th></th>\n",
       "      <th></th>\n",
       "      <th></th>\n",
       "    </tr>\n",
       "  </thead>\n",
       "  <tbody>\n",
       "    <tr>\n",
       "      <th>(0.999, 4.0]</th>\n",
       "      <td>192</td>\n",
       "      <td>192</td>\n",
       "      <td>0.379447</td>\n",
       "      <td>0.379447</td>\n",
       "    </tr>\n",
       "    <tr>\n",
       "      <th>(4.0, 7.0]</th>\n",
       "      <td>158</td>\n",
       "      <td>350</td>\n",
       "      <td>0.312253</td>\n",
       "      <td>0.691700</td>\n",
       "    </tr>\n",
       "    <tr>\n",
       "      <th>(7.0, 24.0]</th>\n",
       "      <td>156</td>\n",
       "      <td>506</td>\n",
       "      <td>0.308300</td>\n",
       "      <td>1.000000</td>\n",
       "    </tr>\n",
       "  </tbody>\n",
       "</table>\n",
       "</div>"
      ],
      "text/plain": [
       "              f_abs  f_abs_acum     f_rel  f_rel_acum\n",
       "categoria                                            \n",
       "(0.999, 4.0]    192         192  0.379447    0.379447\n",
       "(4.0, 7.0]      158         350  0.312253    0.691700\n",
       "(7.0, 24.0]     156         506  0.308300    1.000000"
      ]
     },
     "execution_count": 87,
     "metadata": {},
     "output_type": "execute_result"
    }
   ],
   "source": [
    "rad_f_abs = df_boston['cat_RAD'].value_counts()\n",
    "table = {'categoria': rad_f_abs.index, 'f_abs': rad_f_abs.values, \n",
    "         'f_abs_acum': np.cumsum(rad_f_abs.values), 'f_rel': rad_f_abs.values/sum(rad_f_abs.values), \n",
    "         'f_rel_acum': np.cumsum(rad_f_abs.values/sum(rad_f_abs.values))}\n",
    "print('Tabla de frecuencias del Índice de accesibilidad a carreteras radiales')\n",
    "pd.DataFrame(data=table).set_index('categoria')"
   ]
  },
  {
   "cell_type": "markdown",
   "metadata": {},
   "source": [
    "#### Tabla de frecuencia: de variable númerica agrupada"
   ]
  },
  {
   "cell_type": "markdown",
   "metadata": {},
   "source": [
    "**Un ejemplo sencillo:**"
   ]
  },
  {
   "cell_type": "code",
   "execution_count": 88,
   "metadata": {},
   "outputs": [
    {
     "data": {
      "text/plain": [
       "BinnedStatisticResult(statistic=array([4., 1., 1.]), bin_edges=array([ 4.,  6.,  8., 10.]), binnumber=array([1, 1, 1, 2, 1, 3], dtype=int64))"
      ]
     },
     "execution_count": 88,
     "metadata": {},
     "output_type": "execute_result"
    }
   ],
   "source": [
    "values = [4,4,5,6,4,10]\n",
    "bines = stats.binned_statistic(values, values, 'count', bins=3)\n",
    "bines"
   ]
  },
  {
   "cell_type": "code",
   "execution_count": 89,
   "metadata": {},
   "outputs": [
    {
     "data": {
      "text/html": [
       "<div>\n",
       "<style scoped>\n",
       "    .dataframe tbody tr th:only-of-type {\n",
       "        vertical-align: middle;\n",
       "    }\n",
       "\n",
       "    .dataframe tbody tr th {\n",
       "        vertical-align: top;\n",
       "    }\n",
       "\n",
       "    .dataframe thead th {\n",
       "        text-align: right;\n",
       "    }\n",
       "</style>\n",
       "<table border=\"1\" class=\"dataframe\">\n",
       "  <thead>\n",
       "    <tr style=\"text-align: right;\">\n",
       "      <th></th>\n",
       "      <th>LI</th>\n",
       "      <th>LS</th>\n",
       "      <th>f_abs</th>\n",
       "      <th>f_abs_acum</th>\n",
       "      <th>f_rel</th>\n",
       "      <th>f_rel_acum</th>\n",
       "    </tr>\n",
       "  </thead>\n",
       "  <tbody>\n",
       "    <tr>\n",
       "      <th>1</th>\n",
       "      <td>4.0</td>\n",
       "      <td>6.0</td>\n",
       "      <td>4.0</td>\n",
       "      <td>4.0</td>\n",
       "      <td>0.666667</td>\n",
       "      <td>0.666667</td>\n",
       "    </tr>\n",
       "    <tr>\n",
       "      <th>2</th>\n",
       "      <td>6.0</td>\n",
       "      <td>8.0</td>\n",
       "      <td>1.0</td>\n",
       "      <td>5.0</td>\n",
       "      <td>0.166667</td>\n",
       "      <td>0.833333</td>\n",
       "    </tr>\n",
       "    <tr>\n",
       "      <th>3</th>\n",
       "      <td>8.0</td>\n",
       "      <td>10.0</td>\n",
       "      <td>1.0</td>\n",
       "      <td>6.0</td>\n",
       "      <td>0.166667</td>\n",
       "      <td>1.000000</td>\n",
       "    </tr>\n",
       "  </tbody>\n",
       "</table>\n",
       "</div>"
      ],
      "text/plain": [
       "    LI    LS  f_abs  f_abs_acum     f_rel  f_rel_acum\n",
       "1  4.0   6.0    4.0         4.0  0.666667    0.666667\n",
       "2  6.0   8.0    1.0         5.0  0.166667    0.833333\n",
       "3  8.0  10.0    1.0         6.0  0.166667    1.000000"
      ]
     },
     "execution_count": 89,
     "metadata": {},
     "output_type": "execute_result"
    }
   ],
   "source": [
    "# Intervalos: [LI,LS)\n",
    "aux = {'LI': bines.bin_edges[:-1], 'LS': bines.bin_edges[1:], 'f_abs': bines.statistic, 'f_abs_acum': np.cumsum(bines.statistic),\n",
    "       'f_rel': bines.statistic/sum(bines.statistic), 'f_rel_acum': np.cumsum(bines.statistic/sum(bines.statistic))}\n",
    "pd.DataFrame(data=aux, index=np.arange(1, len(bines.statistic)+1))"
   ]
  },
  {
   "cell_type": "markdown",
   "metadata": {},
   "source": [
    "**Tabla de frecuencia para CRIM:**"
   ]
  },
  {
   "cell_type": "code",
   "execution_count": 90,
   "metadata": {},
   "outputs": [
    {
     "data": {
      "text/plain": [
       "BinnedStatisticResult(statistic=array([449.,  39.,  10.,   2.,   2.,   1.,   1.,   1.,   1.]), bin_edges=array([6.32000000e-03, 9.89186222e+00, 1.97774044e+01, 2.96629467e+01,\n",
       "       3.95484889e+01, 4.94340311e+01, 5.93195733e+01, 6.92051156e+01,\n",
       "       7.90906578e+01, 8.89762000e+01]), binnumber=array([1, 1, 1, 1, 1, 1, 1, 1, 1, 1, 1, 1, 1, 1, 1, 1, 1, 1, 1, 1, 1, 1,\n",
       "       1, 1, 1, 1, 1, 1, 1, 1, 1, 1, 1, 1, 1, 1, 1, 1, 1, 1, 1, 1, 1, 1,\n",
       "       1, 1, 1, 1, 1, 1, 1, 1, 1, 1, 1, 1, 1, 1, 1, 1, 1, 1, 1, 1, 1, 1,\n",
       "       1, 1, 1, 1, 1, 1, 1, 1, 1, 1, 1, 1, 1, 1, 1, 1, 1, 1, 1, 1, 1, 1,\n",
       "       1, 1, 1, 1, 1, 1, 1, 1, 1, 1, 1, 1, 1, 1, 1, 1, 1, 1, 1, 1, 1, 1,\n",
       "       1, 1, 1, 1, 1, 1, 1, 1, 1, 1, 1, 1, 1, 1, 1, 1, 1, 1, 1, 1, 1, 1,\n",
       "       1, 1, 1, 1, 1, 1, 1, 1, 1, 1, 1, 1, 1, 1, 1, 1, 1, 1, 1, 1, 1, 1,\n",
       "       1, 1, 1, 1, 1, 1, 1, 1, 1, 1, 1, 1, 1, 1, 1, 1, 1, 1, 1, 1, 1, 1,\n",
       "       1, 1, 1, 1, 1, 1, 1, 1, 1, 1, 1, 1, 1, 1, 1, 1, 1, 1, 1, 1, 1, 1,\n",
       "       1, 1, 1, 1, 1, 1, 1, 1, 1, 1, 1, 1, 1, 1, 1, 1, 1, 1, 1, 1, 1, 1,\n",
       "       1, 1, 1, 1, 1, 1, 1, 1, 1, 1, 1, 1, 1, 1, 1, 1, 1, 1, 1, 1, 1, 1,\n",
       "       1, 1, 1, 1, 1, 1, 1, 1, 1, 1, 1, 1, 1, 1, 1, 1, 1, 1, 1, 1, 1, 1,\n",
       "       1, 1, 1, 1, 1, 1, 1, 1, 1, 1, 1, 1, 1, 1, 1, 1, 1, 1, 1, 1, 1, 1,\n",
       "       1, 1, 1, 1, 1, 1, 1, 1, 1, 1, 1, 1, 1, 1, 1, 1, 1, 1, 1, 1, 1, 1,\n",
       "       1, 1, 1, 1, 1, 1, 1, 1, 1, 1, 1, 1, 1, 1, 1, 1, 1, 1, 1, 1, 1, 1,\n",
       "       1, 1, 1, 1, 1, 1, 1, 1, 1, 1, 1, 1, 1, 1, 1, 1, 1, 1, 1, 1, 1, 1,\n",
       "       1, 1, 1, 1, 1, 1, 1, 1, 1, 1, 1, 1, 1, 1, 1, 2, 1, 1, 1, 1, 1, 2,\n",
       "       2, 2, 2, 1, 3, 2, 9, 2, 1, 1, 3, 2, 3, 3, 2, 1, 1, 1, 2, 1, 2, 1,\n",
       "       1, 1, 4, 2, 3, 2, 1, 3, 5, 7, 3, 2, 1, 2, 6, 2, 2, 3, 5, 2, 2, 3,\n",
       "       8, 2, 2, 1, 2, 1, 1, 2, 2, 4, 1, 1, 1, 2, 1, 1, 2, 2, 2, 2, 2, 1,\n",
       "       3, 1, 1, 2, 2, 2, 1, 2, 1, 1, 1, 1, 1, 1, 1, 1, 1, 1, 1, 1, 1, 1,\n",
       "       1, 1, 1, 1, 1, 1, 2, 2, 1, 1, 1, 1, 1, 1, 1, 2, 2, 2, 1, 1, 1, 1,\n",
       "       1, 1, 1, 1, 1, 1, 1, 1, 1, 1, 1, 1, 1, 1, 1, 1, 1, 1, 1, 1, 1, 1],\n",
       "      dtype=int64))"
      ]
     },
     "execution_count": 90,
     "metadata": {},
     "output_type": "execute_result"
    }
   ],
   "source": [
    "values = df_boston['CRIM'].values\n",
    "# Regla de Sturges: para cálculo del número de intervalos\n",
    "k = int(1 + math.log2(len(values)))\n",
    "bines = stats.binned_statistic(values, values, 'count', bins=k)\n",
    "bines"
   ]
  },
  {
   "cell_type": "code",
   "execution_count": 91,
   "metadata": {},
   "outputs": [
    {
     "data": {
      "text/html": [
       "<div>\n",
       "<style scoped>\n",
       "    .dataframe tbody tr th:only-of-type {\n",
       "        vertical-align: middle;\n",
       "    }\n",
       "\n",
       "    .dataframe tbody tr th {\n",
       "        vertical-align: top;\n",
       "    }\n",
       "\n",
       "    .dataframe thead th {\n",
       "        text-align: right;\n",
       "    }\n",
       "</style>\n",
       "<table border=\"1\" class=\"dataframe\">\n",
       "  <thead>\n",
       "    <tr style=\"text-align: right;\">\n",
       "      <th></th>\n",
       "      <th>LI</th>\n",
       "      <th>LS</th>\n",
       "      <th>f_abs</th>\n",
       "      <th>f_abs_acum</th>\n",
       "      <th>f_rel</th>\n",
       "      <th>f_rel_acum</th>\n",
       "    </tr>\n",
       "  </thead>\n",
       "  <tbody>\n",
       "    <tr>\n",
       "      <th>0</th>\n",
       "      <td>0.006320</td>\n",
       "      <td>9.891862</td>\n",
       "      <td>449.0</td>\n",
       "      <td>449.0</td>\n",
       "      <td>0.887352</td>\n",
       "      <td>0.887352</td>\n",
       "    </tr>\n",
       "    <tr>\n",
       "      <th>1</th>\n",
       "      <td>9.891862</td>\n",
       "      <td>19.777404</td>\n",
       "      <td>39.0</td>\n",
       "      <td>488.0</td>\n",
       "      <td>0.077075</td>\n",
       "      <td>0.964427</td>\n",
       "    </tr>\n",
       "    <tr>\n",
       "      <th>2</th>\n",
       "      <td>19.777404</td>\n",
       "      <td>29.662947</td>\n",
       "      <td>10.0</td>\n",
       "      <td>498.0</td>\n",
       "      <td>0.019763</td>\n",
       "      <td>0.984190</td>\n",
       "    </tr>\n",
       "    <tr>\n",
       "      <th>3</th>\n",
       "      <td>29.662947</td>\n",
       "      <td>39.548489</td>\n",
       "      <td>2.0</td>\n",
       "      <td>500.0</td>\n",
       "      <td>0.003953</td>\n",
       "      <td>0.988142</td>\n",
       "    </tr>\n",
       "    <tr>\n",
       "      <th>4</th>\n",
       "      <td>39.548489</td>\n",
       "      <td>49.434031</td>\n",
       "      <td>2.0</td>\n",
       "      <td>502.0</td>\n",
       "      <td>0.003953</td>\n",
       "      <td>0.992095</td>\n",
       "    </tr>\n",
       "    <tr>\n",
       "      <th>5</th>\n",
       "      <td>49.434031</td>\n",
       "      <td>59.319573</td>\n",
       "      <td>1.0</td>\n",
       "      <td>503.0</td>\n",
       "      <td>0.001976</td>\n",
       "      <td>0.994071</td>\n",
       "    </tr>\n",
       "    <tr>\n",
       "      <th>6</th>\n",
       "      <td>59.319573</td>\n",
       "      <td>69.205116</td>\n",
       "      <td>1.0</td>\n",
       "      <td>504.0</td>\n",
       "      <td>0.001976</td>\n",
       "      <td>0.996047</td>\n",
       "    </tr>\n",
       "    <tr>\n",
       "      <th>7</th>\n",
       "      <td>69.205116</td>\n",
       "      <td>79.090658</td>\n",
       "      <td>1.0</td>\n",
       "      <td>505.0</td>\n",
       "      <td>0.001976</td>\n",
       "      <td>0.998024</td>\n",
       "    </tr>\n",
       "    <tr>\n",
       "      <th>8</th>\n",
       "      <td>79.090658</td>\n",
       "      <td>88.976200</td>\n",
       "      <td>1.0</td>\n",
       "      <td>506.0</td>\n",
       "      <td>0.001976</td>\n",
       "      <td>1.000000</td>\n",
       "    </tr>\n",
       "  </tbody>\n",
       "</table>\n",
       "</div>"
      ],
      "text/plain": [
       "          LI         LS  f_abs  f_abs_acum     f_rel  f_rel_acum\n",
       "0   0.006320   9.891862  449.0       449.0  0.887352    0.887352\n",
       "1   9.891862  19.777404   39.0       488.0  0.077075    0.964427\n",
       "2  19.777404  29.662947   10.0       498.0  0.019763    0.984190\n",
       "3  29.662947  39.548489    2.0       500.0  0.003953    0.988142\n",
       "4  39.548489  49.434031    2.0       502.0  0.003953    0.992095\n",
       "5  49.434031  59.319573    1.0       503.0  0.001976    0.994071\n",
       "6  59.319573  69.205116    1.0       504.0  0.001976    0.996047\n",
       "7  69.205116  79.090658    1.0       505.0  0.001976    0.998024\n",
       "8  79.090658  88.976200    1.0       506.0  0.001976    1.000000"
      ]
     },
     "execution_count": 91,
     "metadata": {},
     "output_type": "execute_result"
    }
   ],
   "source": [
    "aux = {'LI': bines.bin_edges[:-1], 'LS': bines.bin_edges[1:], 'f_abs': bines.statistic, 'f_abs_acum': np.cumsum(bines.statistic),\n",
    "       'f_rel': bines.statistic/sum(bines.statistic), 'f_rel_acum': np.cumsum(bines.statistic/sum(bines.statistic))}\n",
    "pd.DataFrame(data=aux)"
   ]
  },
  {
   "cell_type": "markdown",
   "metadata": {},
   "source": [
    "#### Tablas de contigencia\n",
    "\n",
    "**Con Pandas (pivot_table)**\n",
    "- https://pandas.pydata.org/pandas-docs/stable/reference/api/pandas.DataFrame.pivot_table.html"
   ]
  },
  {
   "cell_type": "code",
   "execution_count": 92,
   "metadata": {},
   "outputs": [
    {
     "name": "stdout",
     "output_type": "stream",
     "text": [
      "   Tabla de contigencia Limite Charles River vs \n",
      "Índice de accesibilidad a carreteras radiales (en Fabs)\n"
     ]
    },
    {
     "data": {
      "text/html": [
       "<div>\n",
       "<style scoped>\n",
       "    .dataframe tbody tr th:only-of-type {\n",
       "        vertical-align: middle;\n",
       "    }\n",
       "\n",
       "    .dataframe tbody tr th {\n",
       "        vertical-align: top;\n",
       "    }\n",
       "\n",
       "    .dataframe thead th {\n",
       "        text-align: right;\n",
       "    }\n",
       "</style>\n",
       "<table border=\"1\" class=\"dataframe\">\n",
       "  <thead>\n",
       "    <tr style=\"text-align: right;\">\n",
       "      <th>CHAS</th>\n",
       "      <th>no</th>\n",
       "      <th>si</th>\n",
       "    </tr>\n",
       "    <tr>\n",
       "      <th>cat_RAD</th>\n",
       "      <th></th>\n",
       "      <th></th>\n",
       "    </tr>\n",
       "  </thead>\n",
       "  <tbody>\n",
       "    <tr>\n",
       "      <th>(0.999, 4.0]</th>\n",
       "      <td>181</td>\n",
       "      <td>11</td>\n",
       "    </tr>\n",
       "    <tr>\n",
       "      <th>(4.0, 7.0]</th>\n",
       "      <td>147</td>\n",
       "      <td>11</td>\n",
       "    </tr>\n",
       "    <tr>\n",
       "      <th>(7.0, 24.0]</th>\n",
       "      <td>143</td>\n",
       "      <td>13</td>\n",
       "    </tr>\n",
       "  </tbody>\n",
       "</table>\n",
       "</div>"
      ],
      "text/plain": [
       "CHAS           no  si\n",
       "cat_RAD              \n",
       "(0.999, 4.0]  181  11\n",
       "(4.0, 7.0]    147  11\n",
       "(7.0, 24.0]   143  13"
      ]
     },
     "execution_count": 92,
     "metadata": {},
     "output_type": "execute_result"
    }
   ],
   "source": [
    "print('   Tabla de contigencia Limite Charles River vs \\nÍndice de accesibilidad a carreteras radiales (en Fabs)')\n",
    "tabla = df_boston.pivot_table(values='MEDV', index='cat_RAD', columns=['CHAS'], aggfunc='count',\n",
    "                      fill_value=None, margins=False, dropna=True,\n",
    "                      margins_name='All', observed=False)\n",
    "tabla.rename(columns={0:'no', 1:'si'}, inplace=True)\n",
    "tabla"
   ]
  },
  {
   "cell_type": "markdown",
   "metadata": {},
   "source": [
    "**Frecuencias marginales con Pandas (pivot_table):**"
   ]
  },
  {
   "cell_type": "code",
   "execution_count": 93,
   "metadata": {},
   "outputs": [
    {
     "name": "stdout",
     "output_type": "stream",
     "text": [
      "   Tabla de contigencia Limite Charles River vs \n",
      "Índice de accesibilidad a carreteras radiales (en F-abs)\n"
     ]
    },
    {
     "data": {
      "text/html": [
       "<div>\n",
       "<style scoped>\n",
       "    .dataframe tbody tr th:only-of-type {\n",
       "        vertical-align: middle;\n",
       "    }\n",
       "\n",
       "    .dataframe tbody tr th {\n",
       "        vertical-align: top;\n",
       "    }\n",
       "\n",
       "    .dataframe thead th {\n",
       "        text-align: right;\n",
       "    }\n",
       "</style>\n",
       "<table border=\"1\" class=\"dataframe\">\n",
       "  <thead>\n",
       "    <tr style=\"text-align: right;\">\n",
       "      <th>CHAS</th>\n",
       "      <th>no</th>\n",
       "      <th>si</th>\n",
       "      <th>subtotal</th>\n",
       "    </tr>\n",
       "    <tr>\n",
       "      <th>cat_RAD</th>\n",
       "      <th></th>\n",
       "      <th></th>\n",
       "      <th></th>\n",
       "    </tr>\n",
       "  </thead>\n",
       "  <tbody>\n",
       "    <tr>\n",
       "      <th>(0.999, 4.0]</th>\n",
       "      <td>181</td>\n",
       "      <td>11</td>\n",
       "      <td>192</td>\n",
       "    </tr>\n",
       "    <tr>\n",
       "      <th>(4.0, 7.0]</th>\n",
       "      <td>147</td>\n",
       "      <td>11</td>\n",
       "      <td>158</td>\n",
       "    </tr>\n",
       "    <tr>\n",
       "      <th>(7.0, 24.0]</th>\n",
       "      <td>143</td>\n",
       "      <td>13</td>\n",
       "      <td>156</td>\n",
       "    </tr>\n",
       "    <tr>\n",
       "      <th>subtotal</th>\n",
       "      <td>471</td>\n",
       "      <td>35</td>\n",
       "      <td>506</td>\n",
       "    </tr>\n",
       "  </tbody>\n",
       "</table>\n",
       "</div>"
      ],
      "text/plain": [
       "CHAS           no  si  subtotal\n",
       "cat_RAD                        \n",
       "(0.999, 4.0]  181  11       192\n",
       "(4.0, 7.0]    147  11       158\n",
       "(7.0, 24.0]   143  13       156\n",
       "subtotal      471  35       506"
      ]
     },
     "execution_count": 93,
     "metadata": {},
     "output_type": "execute_result"
    }
   ],
   "source": [
    "print('   Tabla de contigencia Limite Charles River vs \\nÍndice de accesibilidad a carreteras radiales (en F-abs)')\n",
    "tabla_marg = df_boston.pivot_table(values='MEDV', index='cat_RAD', columns=['CHAS'], aggfunc='count',\n",
    "                      fill_value=None, margins=True, dropna=True,\n",
    "                      margins_name='subtotal', observed=False)\n",
    "tabla_marg.rename(columns={0:'no', 1:'si'}, inplace=True)\n",
    "tabla_marg"
   ]
  },
  {
   "cell_type": "markdown",
   "metadata": {},
   "source": [
    "**Frecuencias relativas marginales con Pandas (pivot_table):**"
   ]
  },
  {
   "cell_type": "code",
   "execution_count": 94,
   "metadata": {},
   "outputs": [
    {
     "name": "stdout",
     "output_type": "stream",
     "text": [
      "   Tabla de contigencia Limite Charles River vs \n",
      "Índice de accesibilidad a carreteras radiales (en F-rel)\n"
     ]
    },
    {
     "data": {
      "text/html": [
       "<div>\n",
       "<style scoped>\n",
       "    .dataframe tbody tr th:only-of-type {\n",
       "        vertical-align: middle;\n",
       "    }\n",
       "\n",
       "    .dataframe tbody tr th {\n",
       "        vertical-align: top;\n",
       "    }\n",
       "\n",
       "    .dataframe thead th {\n",
       "        text-align: right;\n",
       "    }\n",
       "</style>\n",
       "<table border=\"1\" class=\"dataframe\">\n",
       "  <thead>\n",
       "    <tr style=\"text-align: right;\">\n",
       "      <th>CHAS</th>\n",
       "      <th>no</th>\n",
       "      <th>si</th>\n",
       "      <th>subtotal</th>\n",
       "    </tr>\n",
       "    <tr>\n",
       "      <th>cat_RAD</th>\n",
       "      <th></th>\n",
       "      <th></th>\n",
       "      <th></th>\n",
       "    </tr>\n",
       "  </thead>\n",
       "  <tbody>\n",
       "    <tr>\n",
       "      <th>(0.999, 4.0]</th>\n",
       "      <td>0.357708</td>\n",
       "      <td>0.021739</td>\n",
       "      <td>0.379447</td>\n",
       "    </tr>\n",
       "    <tr>\n",
       "      <th>(4.0, 7.0]</th>\n",
       "      <td>0.290514</td>\n",
       "      <td>0.021739</td>\n",
       "      <td>0.312253</td>\n",
       "    </tr>\n",
       "    <tr>\n",
       "      <th>(7.0, 24.0]</th>\n",
       "      <td>0.282609</td>\n",
       "      <td>0.025692</td>\n",
       "      <td>0.308300</td>\n",
       "    </tr>\n",
       "    <tr>\n",
       "      <th>subtotal</th>\n",
       "      <td>0.930830</td>\n",
       "      <td>0.069170</td>\n",
       "      <td>1.000000</td>\n",
       "    </tr>\n",
       "  </tbody>\n",
       "</table>\n",
       "</div>"
      ],
      "text/plain": [
       "CHAS                no        si  subtotal\n",
       "cat_RAD                                   \n",
       "(0.999, 4.0]  0.357708  0.021739  0.379447\n",
       "(4.0, 7.0]    0.290514  0.021739  0.312253\n",
       "(7.0, 24.0]   0.282609  0.025692  0.308300\n",
       "subtotal      0.930830  0.069170  1.000000"
      ]
     },
     "execution_count": 94,
     "metadata": {},
     "output_type": "execute_result"
    }
   ],
   "source": [
    "print('   Tabla de contigencia Limite Charles River vs \\nÍndice de accesibilidad a carreteras radiales (en F-rel)')\n",
    "tabla_marg_rel = df_boston.pivot_table(values='MEDV', index='cat_RAD', columns=['CHAS'], aggfunc='count',\n",
    "                      fill_value=None, margins=True, dropna=True,\n",
    "                      margins_name='subtotal', observed=False)/len(df_boston)\n",
    "tabla_marg_rel.rename(columns={0:'no', 1:'si'}, inplace=True)\n",
    "tabla_marg_rel"
   ]
  },
  {
   "cell_type": "markdown",
   "metadata": {},
   "source": [
    "**Con Pandas**\n",
    "- https://pandas.pydata.org/pandas-docs/stable/reference/api/pandas.crosstab.html"
   ]
  },
  {
   "cell_type": "code",
   "execution_count": 95,
   "metadata": {},
   "outputs": [
    {
     "data": {
      "text/html": [
       "<div>\n",
       "<style scoped>\n",
       "    .dataframe tbody tr th:only-of-type {\n",
       "        vertical-align: middle;\n",
       "    }\n",
       "\n",
       "    .dataframe tbody tr th {\n",
       "        vertical-align: top;\n",
       "    }\n",
       "\n",
       "    .dataframe thead th {\n",
       "        text-align: right;\n",
       "    }\n",
       "</style>\n",
       "<table border=\"1\" class=\"dataframe\">\n",
       "  <thead>\n",
       "    <tr style=\"text-align: right;\">\n",
       "      <th>Lim River</th>\n",
       "      <th>no</th>\n",
       "      <th>si</th>\n",
       "      <th>Subtotal</th>\n",
       "    </tr>\n",
       "    <tr>\n",
       "      <th>Ind accesib</th>\n",
       "      <th></th>\n",
       "      <th></th>\n",
       "      <th></th>\n",
       "    </tr>\n",
       "  </thead>\n",
       "  <tbody>\n",
       "    <tr>\n",
       "      <th>(0.999, 4.0]</th>\n",
       "      <td>0.357708</td>\n",
       "      <td>0.021739</td>\n",
       "      <td>0.379447</td>\n",
       "    </tr>\n",
       "    <tr>\n",
       "      <th>(4.0, 7.0]</th>\n",
       "      <td>0.290514</td>\n",
       "      <td>0.021739</td>\n",
       "      <td>0.312253</td>\n",
       "    </tr>\n",
       "    <tr>\n",
       "      <th>(7.0, 24.0]</th>\n",
       "      <td>0.282609</td>\n",
       "      <td>0.025692</td>\n",
       "      <td>0.308300</td>\n",
       "    </tr>\n",
       "    <tr>\n",
       "      <th>Subtotal</th>\n",
       "      <td>0.930830</td>\n",
       "      <td>0.069170</td>\n",
       "      <td>1.000000</td>\n",
       "    </tr>\n",
       "  </tbody>\n",
       "</table>\n",
       "</div>"
      ],
      "text/plain": [
       "Lim River           no        si  Subtotal\n",
       "Ind accesib                               \n",
       "(0.999, 4.0]  0.357708  0.021739  0.379447\n",
       "(4.0, 7.0]    0.290514  0.021739  0.312253\n",
       "(7.0, 24.0]   0.282609  0.025692  0.308300\n",
       "Subtotal      0.930830  0.069170  1.000000"
      ]
     },
     "execution_count": 95,
     "metadata": {},
     "output_type": "execute_result"
    }
   ],
   "source": [
    "pd.crosstab(df_boston[\"cat_RAD\"], df_boston[\"CHAS\"], values=None, colnames=['Lim River'], \n",
    "            rownames=['Ind accesib'], aggfunc=None, margins=True, margins_name= 'Subtotal',\n",
    "            dropna= True, normalize=True).rename(columns={0:'no', 1:'si'})"
   ]
  },
  {
   "cell_type": "markdown",
   "metadata": {},
   "source": [
    "**Con Stats Models**\n",
    "- https://thequackdaddy.github.io/statsmodels.github.io/0.9.0/contingency_tables.html"
   ]
  },
  {
   "cell_type": "code",
   "execution_count": 96,
   "metadata": {},
   "outputs": [
    {
     "data": {
      "text/html": [
       "<div>\n",
       "<style scoped>\n",
       "    .dataframe tbody tr th:only-of-type {\n",
       "        vertical-align: middle;\n",
       "    }\n",
       "\n",
       "    .dataframe tbody tr th {\n",
       "        vertical-align: top;\n",
       "    }\n",
       "\n",
       "    .dataframe thead th {\n",
       "        text-align: right;\n",
       "    }\n",
       "</style>\n",
       "<table border=\"1\" class=\"dataframe\">\n",
       "  <thead>\n",
       "    <tr style=\"text-align: right;\">\n",
       "      <th>CHAS</th>\n",
       "      <th>no</th>\n",
       "      <th>si</th>\n",
       "    </tr>\n",
       "    <tr>\n",
       "      <th>cat_RAD</th>\n",
       "      <th></th>\n",
       "      <th></th>\n",
       "    </tr>\n",
       "  </thead>\n",
       "  <tbody>\n",
       "    <tr>\n",
       "      <th>(0.999, 4.0]</th>\n",
       "      <td>181</td>\n",
       "      <td>11</td>\n",
       "    </tr>\n",
       "    <tr>\n",
       "      <th>(4.0, 7.0]</th>\n",
       "      <td>147</td>\n",
       "      <td>11</td>\n",
       "    </tr>\n",
       "    <tr>\n",
       "      <th>(7.0, 24.0]</th>\n",
       "      <td>143</td>\n",
       "      <td>13</td>\n",
       "    </tr>\n",
       "  </tbody>\n",
       "</table>\n",
       "</div>"
      ],
      "text/plain": [
       "CHAS           no  si\n",
       "cat_RAD              \n",
       "(0.999, 4.0]  181  11\n",
       "(4.0, 7.0]    147  11\n",
       "(7.0, 24.0]   143  13"
      ]
     },
     "execution_count": 96,
     "metadata": {},
     "output_type": "execute_result"
    }
   ],
   "source": [
    "tabla_conting = sm.stats.Table.from_data(df_boston[[\"cat_RAD\", \"CHAS\"]])\n",
    "tabla_conting.table_orig.rename(columns={0:'no', 1:'si'})"
   ]
  },
  {
   "cell_type": "markdown",
   "metadata": {},
   "source": [
    "## Representaciones gráficas de los datos"
   ]
  },
  {
   "cell_type": "markdown",
   "metadata": {},
   "source": [
    "### Gráfico  de sectores\n",
    "https://matplotlib.org/3.2.1/api/_as_gen/matplotlib.pyplot.pie.html"
   ]
  },
  {
   "cell_type": "markdown",
   "metadata": {},
   "source": [
    "**Con Matplotlib**"
   ]
  },
  {
   "cell_type": "code",
   "execution_count": 97,
   "metadata": {},
   "outputs": [
    {
     "data": {
      "image/png": "[encoded data removed]",
      "text/plain": [
       "<Figure size 396x396 with 1 Axes>"
      ]
     },
     "metadata": {},
     "output_type": "display_data"
    }
   ],
   "source": [
    "# cat_f_abs viene de las tablas de frecuencias\n",
    "plt.figure(figsize=(5.5,5.5))\n",
    "plt.pie(df_boston['CHAS'].value_counts(), labels=['NO', 'SI'], explode=(0,0.15), shadow=True, pctdistance=.8, startangle=90, autopct='%.2f%%')\n",
    "plt.title('Frecuencia de viviendas\\n en función de la cercanía al Charles River\\n')\n",
    "plt.show()"
   ]
  },
  {
   "cell_type": "code",
   "execution_count": 98,
   "metadata": {},
   "outputs": [
    {
     "data": {
      "image/png": "[encoded data removed]",
      "text/plain": [
       "<Figure size 396x396 with 1 Axes>"
      ]
     },
     "metadata": {},
     "output_type": "display_data"
    }
   ],
   "source": [
    "# cat_f_abs viene de las tablas de frecuencias\n",
    "plt.figure(figsize=(5.5,5.5))\n",
    "plt.pie(df_boston['CHAS'].value_counts(), labels=['NO', 'SI'], explode=(0,0.15), shadow=True, pctdistance=.8, startangle=90, \n",
    "       wedgeprops=dict(width=0.5),\n",
    "       autopct='%.2f%%')\n",
    "plt.title('Frecuencia de viviendas\\n en función de la cercanía al Charles River\\n')\n",
    "plt.show()"
   ]
  },
  {
   "cell_type": "markdown",
   "metadata": {},
   "source": [
    "### Gráfico  de bastones"
   ]
  },
  {
   "cell_type": "code",
   "execution_count": 99,
   "metadata": {},
   "outputs": [
    {
     "data": {
      "image/png": "[encoded data removed]",
      "text/plain": [
       "<Figure size 432x288 with 1 Axes>"
      ]
     },
     "metadata": {
      "needs_background": "light"
     },
     "output_type": "display_data"
    }
   ],
   "source": [
    "var_cat = 'RAD'                         # Variable categórica a graficar\n",
    "frec_cat = df_boston[var_cat].value_counts()\n",
    "plt.stem(np.array(frec_cat.index), np.array(frec_cat), use_line_collection=True, markerfmt=None)\n",
    "plt.xlabel('Índice de accesibilidad a carreteras radiales'), plt.ylabel('Número de viviendas')\n",
    "plt.title('Número de viviendas en función del \\nÍndice de accesibilidad a carreteras radiales\\n')\n",
    "plt.show()"
   ]
  },
  {
   "cell_type": "markdown",
   "metadata": {},
   "source": [
    "### Gráfico  de barras"
   ]
  },
  {
   "cell_type": "markdown",
   "metadata": {},
   "source": [
    "**Con Matplotlib**"
   ]
  },
  {
   "cell_type": "code",
   "execution_count": 100,
   "metadata": {},
   "outputs": [
    {
     "data": {
      "image/png": "[encoded data removed]",
      "text/plain": [
       "<Figure size 216x288 with 1 Axes>"
      ]
     },
     "metadata": {
      "needs_background": "light"
     },
     "output_type": "display_data"
    }
   ],
   "source": [
    "var_cat = 'CHAS'                         # Variable categórica a graficar\n",
    "n_cat = df_boston[var_cat].nunique()\n",
    "plt.figure(figsize=(n_cat*1.5,4))        # Definir un ancho de gráfico según el número de categorias de la variable\n",
    "plt.bar(['SI','NO'], df_boston[var_cat].value_counts())\n",
    "plt.xlabel('Limita con Charles River'), plt.ylabel('Número de viviendas')\n",
    "plt.title('Número de viviendas\\n en función de la cercanía al Charles River\\n')\n",
    "plt.show()"
   ]
  },
  {
   "cell_type": "markdown",
   "metadata": {},
   "source": [
    "**Con Seaborn**"
   ]
  },
  {
   "cell_type": "code",
   "execution_count": 101,
   "metadata": {},
   "outputs": [
    {
     "data": {
      "image/png": "[encoded data removed]",
      "text/plain": [
       "<Figure size 216x288 with 1 Axes>"
      ]
     },
     "metadata": {
      "needs_background": "light"
     },
     "output_type": "display_data"
    }
   ],
   "source": [
    "var_cat = 'CHAS'                         # Variable categórica a graficar\n",
    "n_cat = df_boston[var_cat].nunique()\n",
    "plt.figure(figsize=(n_cat*1.5,4))        # Definir un ancho de gráfico según el número de categorias de la variable\n",
    "ax = sns.countplot(x=var_cat, data=df_boston, palette='Set1')\n",
    "for p in ax.patches:\n",
    "    ax.annotate('{:.0f} ({:.1f}%)'.format(p.get_height(), p.get_height()/len(df_boston)*100), (p.get_x()+0.05, p.get_height()+5))\n",
    "ax.set_xticklabels(['no', 'si'], rotation=0, fontdict= {'horizontalalignment': 'center'})\n",
    "plt.xlabel('Limita con Charles River'), plt.ylabel('Número de viviendas')\n",
    "plt.title('Número de viviendas\\n en función de la cercanía al Charles River\\n')\n",
    "plt.show()"
   ]
  },
  {
   "cell_type": "markdown",
   "metadata": {},
   "source": [
    "### Histograma de Frecuencias"
   ]
  },
  {
   "cell_type": "code",
   "execution_count": 102,
   "metadata": {},
   "outputs": [
    {
     "data": {
      "image/png": "[encoded data removed]",
      "text/plain": [
       "<Figure size 432x288 with 1 Axes>"
      ]
     },
     "metadata": {
      "needs_background": "light"
     },
     "output_type": "display_data"
    }
   ],
   "source": [
    "# El número de intervalos para un histograma se aconseja que sea un número entre 5 y 20, nunca menos de 5\n",
    "var_sel = df_boston['CRIM']\n",
    "n, b, _ = plt.hist(x=var_sel, bins=5, edgecolor='white',)# density=False, cumulative=False)\n",
    "plt.xticks(b), plt.grid(color='gray', linestyle='--', linewidth=0.5)\n",
    "plt.xlabel('Índice de criminalidad per cápita', fontdict={'fontsize': 14})\n",
    "plt.ylabel('Frecuencias', fontdict={'fontsize': 14}),plt.title('Histograma del Índice de Criminalidad\\n', fontdict={'fontsize': 18})\n",
    "plt.show()"
   ]
  },
  {
   "cell_type": "markdown",
   "metadata": {},
   "source": [
    "### Polígono de Frecuencias"
   ]
  },
  {
   "cell_type": "code",
   "execution_count": 103,
   "metadata": {},
   "outputs": [
    {
     "data": {
      "image/png": "[encoded data removed]",
      "text/plain": [
       "<Figure size 432x288 with 1 Axes>"
      ]
     },
     "metadata": {
      "needs_background": "light"
     },
     "output_type": "display_data"
    }
   ],
   "source": [
    "plt.plot([0]+list((b[:-1] + b[1:])/2)+list(b[-1:]), [0]+list(n)+[0], marker='.', linestyle='-', linewidth=2, markersize=8)\n",
    "plt.xticks(b), plt.grid(color='gray', linestyle='--', linewidth=0.5)\n",
    "plt.show()"
   ]
  },
  {
   "cell_type": "markdown",
   "metadata": {},
   "source": [
    "**Reglas para calcular el número de intervalos de un histograma (bins):**\n",
    "- Comparación de las reglas principales: http://www1.frm.utn.edu.ar/estadistica/documentos/09NotaClase.pdf"
   ]
  },
  {
   "cell_type": "code",
   "execution_count": 104,
   "metadata": {},
   "outputs": [
    {
     "data": {
      "image/png": "[encoded data removed]",
      "text/plain": [
       "<Figure size 432x288 with 1 Axes>"
      ]
     },
     "metadata": {
      "needs_background": "light"
     },
     "output_type": "display_data"
    }
   ],
   "source": [
    "# Cálculo del número de intervalos: en base a la raíz cuadrada del número de observaciones\n",
    "n_bins = int(math.sqrt(len(var_sel)))\n",
    "# Regla de Sturges: para cálculo del número de intervalos\n",
    "k = int(1 + math.log2(len(var_sel)))                  # Número de intervalos a considerar\n",
    "a = int(round((var_sel.max() - var_sel.min())/k, 0))  # Amplitud del intervalo = rango/nro intervalos, (redondear siempre por exceso)\n",
    "# El siguiente cálculo, garantiza que todos los valores queden dentro de los intervalos formados\n",
    "if a*(k-1) <= var_sel.max():\n",
    "    k += 1\n",
    "    max_var = k*a\n",
    "# De manera opcional, se puede calcular un entero minimo a partir de los valores, para ajustar el histograma\n",
    "min_var = int(var_sel.min()) \n",
    "bin_edges = np.arange(min_var, max_var, a)\n",
    "n, bins, batches = plt.hist(x=var_sel, bins=bin_edges, edgecolor='white', density=False, cumulative=False)\n",
    "plt.xticks(bins), #plt.yticks(np.arange(0,500,50))\n",
    "plt.xlabel('Índice de criminalidad per cápita', fontdict={'fontsize': 14}), plt.grid(color='gray', linestyle='--', linewidth=0.5)\n",
    "plt.ylabel('Frecuencias', fontdict={'fontsize': 14}),plt.title('Histograma del Índice de Criminalidad\\n', fontdict={'fontsize': 18})\n",
    "plt.show()"
   ]
  },
  {
   "cell_type": "code",
   "execution_count": 105,
   "metadata": {
    "scrolled": true
   },
   "outputs": [
    {
     "data": {
      "text/plain": [
       "(array([452.,  36.,  10.,   2.,   2.,   1.,   1.,   1.,   1.]),\n",
       " array([ 0, 10, 20, 30, 40, 50, 60, 70, 80, 90]),\n",
       " <a list of 9 Patch objects>)"
      ]
     },
     "execution_count": 105,
     "metadata": {},
     "output_type": "execute_result"
    }
   ],
   "source": [
    "n, bins, batches"
   ]
  },
  {
   "cell_type": "code",
   "execution_count": 106,
   "metadata": {},
   "outputs": [
    {
     "data": {
      "text/html": [
       "<div>\n",
       "<style scoped>\n",
       "    .dataframe tbody tr th:only-of-type {\n",
       "        vertical-align: middle;\n",
       "    }\n",
       "\n",
       "    .dataframe tbody tr th {\n",
       "        vertical-align: top;\n",
       "    }\n",
       "\n",
       "    .dataframe thead th {\n",
       "        text-align: right;\n",
       "    }\n",
       "</style>\n",
       "<table border=\"1\" class=\"dataframe\">\n",
       "  <thead>\n",
       "    <tr style=\"text-align: right;\">\n",
       "      <th></th>\n",
       "      <th>LI</th>\n",
       "      <th>LS</th>\n",
       "      <th>f_abs</th>\n",
       "      <th>f_abs_acum</th>\n",
       "      <th>f_rel</th>\n",
       "      <th>f_rel_acum</th>\n",
       "    </tr>\n",
       "  </thead>\n",
       "  <tbody>\n",
       "    <tr>\n",
       "      <th>1</th>\n",
       "      <td>0</td>\n",
       "      <td>10</td>\n",
       "      <td>452.0</td>\n",
       "      <td>452.0</td>\n",
       "      <td>0.893281</td>\n",
       "      <td>0.893281</td>\n",
       "    </tr>\n",
       "    <tr>\n",
       "      <th>2</th>\n",
       "      <td>10</td>\n",
       "      <td>20</td>\n",
       "      <td>36.0</td>\n",
       "      <td>488.0</td>\n",
       "      <td>0.071146</td>\n",
       "      <td>0.964427</td>\n",
       "    </tr>\n",
       "    <tr>\n",
       "      <th>3</th>\n",
       "      <td>20</td>\n",
       "      <td>30</td>\n",
       "      <td>10.0</td>\n",
       "      <td>498.0</td>\n",
       "      <td>0.019763</td>\n",
       "      <td>0.984190</td>\n",
       "    </tr>\n",
       "    <tr>\n",
       "      <th>4</th>\n",
       "      <td>30</td>\n",
       "      <td>40</td>\n",
       "      <td>2.0</td>\n",
       "      <td>500.0</td>\n",
       "      <td>0.003953</td>\n",
       "      <td>0.988142</td>\n",
       "    </tr>\n",
       "    <tr>\n",
       "      <th>5</th>\n",
       "      <td>40</td>\n",
       "      <td>50</td>\n",
       "      <td>2.0</td>\n",
       "      <td>502.0</td>\n",
       "      <td>0.003953</td>\n",
       "      <td>0.992095</td>\n",
       "    </tr>\n",
       "    <tr>\n",
       "      <th>6</th>\n",
       "      <td>50</td>\n",
       "      <td>60</td>\n",
       "      <td>1.0</td>\n",
       "      <td>503.0</td>\n",
       "      <td>0.001976</td>\n",
       "      <td>0.994071</td>\n",
       "    </tr>\n",
       "    <tr>\n",
       "      <th>7</th>\n",
       "      <td>60</td>\n",
       "      <td>70</td>\n",
       "      <td>1.0</td>\n",
       "      <td>504.0</td>\n",
       "      <td>0.001976</td>\n",
       "      <td>0.996047</td>\n",
       "    </tr>\n",
       "    <tr>\n",
       "      <th>8</th>\n",
       "      <td>70</td>\n",
       "      <td>80</td>\n",
       "      <td>1.0</td>\n",
       "      <td>505.0</td>\n",
       "      <td>0.001976</td>\n",
       "      <td>0.998024</td>\n",
       "    </tr>\n",
       "    <tr>\n",
       "      <th>9</th>\n",
       "      <td>80</td>\n",
       "      <td>90</td>\n",
       "      <td>1.0</td>\n",
       "      <td>506.0</td>\n",
       "      <td>0.001976</td>\n",
       "      <td>1.000000</td>\n",
       "    </tr>\n",
       "  </tbody>\n",
       "</table>\n",
       "</div>"
      ],
      "text/plain": [
       "   LI  LS  f_abs  f_abs_acum     f_rel  f_rel_acum\n",
       "1   0  10  452.0       452.0  0.893281    0.893281\n",
       "2  10  20   36.0       488.0  0.071146    0.964427\n",
       "3  20  30   10.0       498.0  0.019763    0.984190\n",
       "4  30  40    2.0       500.0  0.003953    0.988142\n",
       "5  40  50    2.0       502.0  0.003953    0.992095\n",
       "6  50  60    1.0       503.0  0.001976    0.994071\n",
       "7  60  70    1.0       504.0  0.001976    0.996047\n",
       "8  70  80    1.0       505.0  0.001976    0.998024\n",
       "9  80  90    1.0       506.0  0.001976    1.000000"
      ]
     },
     "execution_count": 106,
     "metadata": {},
     "output_type": "execute_result"
    }
   ],
   "source": [
    "# A partir de los valores obtenidos del histograma se puede también obtener la Tabla de Frecuencias\n",
    "# Intervalos: [LI,LS)\n",
    "aux = {'LI': bins[:-1], 'LS': bins[1:], 'f_abs': n, 'f_abs_acum': np.cumsum(n),'f_rel': n/sum(n), 'f_rel_acum': np.cumsum(n/sum(n))}\n",
    "pd.DataFrame(data=aux, index=np.arange(1, len(n)+1))"
   ]
  },
  {
   "cell_type": "markdown",
   "metadata": {},
   "source": [
    "**Sturges como parámetro:**"
   ]
  },
  {
   "cell_type": "code",
   "execution_count": 107,
   "metadata": {},
   "outputs": [
    {
     "data": {
      "image/png": "[encoded data removed]",
      "text/plain": [
       "<Figure size 720x288 with 1 Axes>"
      ]
     },
     "metadata": {
      "needs_background": "light"
     },
     "output_type": "display_data"
    }
   ],
   "source": [
    "var_sel = df_boston['CRIM']\n",
    "plt.figure(figsize=(10,4))\n",
    "n, b, _ = plt.hist(x=var_sel, bins='sturges', edgecolor='white',)# density=False, cumulative=False)\n",
    "plt.xticks(b), plt.grid(color='gray', linestyle='--', linewidth=0.5)\n",
    "plt.xlabel('Índice de criminalidad per cápita', fontdict={'fontsize': 14})\n",
    "plt.ylabel('Frecuencias', fontdict={'fontsize': 14}), plt.title('Histograma del Índice de Criminalidad\\n', fontdict={'fontsize': 18})\n",
    "plt.show()"
   ]
  },
  {
   "cell_type": "markdown",
   "metadata": {},
   "source": [
    "### ECDF"
   ]
  },
  {
   "cell_type": "code",
   "execution_count": 108,
   "metadata": {},
   "outputs": [
    {
     "data": {
      "image/png": "[encoded data removed]",
      "text/plain": [
       "<Figure size 432x288 with 1 Axes>"
      ]
     },
     "metadata": {
      "needs_background": "light"
     },
     "output_type": "display_data"
    }
   ],
   "source": [
    "from statsmodels.distributions.empirical_distribution import ECDF\n",
    "x = np.array(df_boston['AGE'])\n",
    "cdf = ECDF(x)\n",
    "x.sort()\n",
    "F = cdf(x)\n",
    "plt.step(x, F, where='post'), plt.title('Frecuencias acumuladas')\n",
    "plt.show()"
   ]
  },
  {
   "cell_type": "markdown",
   "metadata": {},
   "source": [
    "### Boxplot o Gráfico de Caja y bigotes"
   ]
  },
  {
   "cell_type": "code",
   "execution_count": 109,
   "metadata": {},
   "outputs": [
    {
     "data": {
      "image/png": "[encoded data removed]",
      "text/plain": [
       "<Figure size 432x288 with 1 Axes>"
      ]
     },
     "metadata": {
      "needs_background": "light"
     },
     "output_type": "display_data"
    }
   ],
   "source": [
    "sns.boxplot(y='CRIM', data=df_boston)\n",
    "plt.ylabel('Índice de Criminalidad', fontdict={'fontsize': 12})\n",
    "plt.title('Distribución del Índice de Criminalidad', fontdict={'fontsize': 16})\n",
    "plt.show()"
   ]
  },
  {
   "cell_type": "markdown",
   "metadata": {},
   "source": [
    "### Swarm Plot, Beeswarm o Gráfico de Enjambre"
   ]
  },
  {
   "cell_type": "code",
   "execution_count": 110,
   "metadata": {},
   "outputs": [
    {
     "data": {
      "image/png": "[encoded data removed]",
      "text/plain": [
       "<Figure size 432x288 with 1 Axes>"
      ]
     },
     "metadata": {
      "needs_background": "light"
     },
     "output_type": "display_data"
    }
   ],
   "source": [
    "var_numer = 'CRIM'\n",
    "sns.swarmplot(y=var_numer, data=df_boston)\n",
    "plt.ylabel('Distribución del Índice de Criminalidad', fontdict={'fontsize': 12})\n",
    "plt.title('Índice de Criminalidad', fontdict={'fontsize': 16})\n",
    "plt.show()"
   ]
  }
 ],
 "metadata": {
  "kernelspec": {
   "display_name": "Python 3",
   "language": "python",
   "name": "python3"
  },
  "language_info": {
   "codemirror_mode": {
    "name": "ipython",
    "version": 3
   },
   "file_extension": ".py",
   "mimetype": "text/x-python",
   "name": "python",
   "nbconvert_exporter": "python",
   "pygments_lexer": "ipython3",
   "version": "3.8.3"
  },
  "toc": {
   "base_numbering": 1,
   "nav_menu": {},
   "number_sections": true,
   "sideBar": true,
   "skip_h1_title": false,
   "title_cell": "Table of Contents",
   "title_sidebar": "Contents",
   "toc_cell": false,
   "toc_position": {
    "height": "calc(100% - 180px)",
    "left": "10px",
    "top": "150px",
    "width": "273.188px"
   },
   "toc_section_display": true,
   "toc_window_display": true
  }
 },
 "nbformat": 4,
 "nbformat_minor": 4
}
